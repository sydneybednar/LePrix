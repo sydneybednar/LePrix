{
 "cells": [
  {
   "cell_type": "markdown",
   "metadata": {},
   "source": [
    "# Updated Buyer List Takeaways"
   ]
  },
  {
   "cell_type": "code",
   "execution_count": 1,
   "metadata": {},
   "outputs": [],
   "source": [
    "import pandas as pd\n",
    "import numpy as np\n",
    "import matplotlib.pyplot as plt\n",
    "from scipy import stats\n",
    "import statsmodels.api as sm\n",
    "import seaborn as sns\n",
    "import datetime"
   ]
  },
  {
   "cell_type": "code",
   "execution_count": 8,
   "metadata": {},
   "outputs": [],
   "source": [
    "buyers=pd.read_excel('updated_buyer_list.xlsx')"
   ]
  },
  {
   "cell_type": "code",
   "execution_count": 9,
   "metadata": {},
   "outputs": [
    {
     "data": {
      "text/html": [
       "<div>\n",
       "<style scoped>\n",
       "    .dataframe tbody tr th:only-of-type {\n",
       "        vertical-align: middle;\n",
       "    }\n",
       "\n",
       "    .dataframe tbody tr th {\n",
       "        vertical-align: top;\n",
       "    }\n",
       "\n",
       "    .dataframe thead th {\n",
       "        text-align: right;\n",
       "    }\n",
       "</style>\n",
       "<table border=\"1\" class=\"dataframe\">\n",
       "  <thead>\n",
       "    <tr style=\"text-align: right;\">\n",
       "      <th></th>\n",
       "      <th>User ID</th>\n",
       "      <th>Status</th>\n",
       "      <th>Sign up year</th>\n",
       "      <th>Location</th>\n",
       "      <th>2018 Total Value</th>\n",
       "      <th>2019 Total Value</th>\n",
       "      <th>2020 Total GMV</th>\n",
       "      <th>2021 Q1 GMV</th>\n",
       "      <th>Retailer Name</th>\n",
       "      <th>2019 Q2</th>\n",
       "      <th>2019 Q1</th>\n",
       "      <th>2019 Q3</th>\n",
       "      <th>2019 Q4</th>\n",
       "      <th>2020 Q1</th>\n",
       "      <th>2020 Q2</th>\n",
       "      <th>2020 Q3</th>\n",
       "      <th>2020 Q4</th>\n",
       "      <th>2021 Q1</th>\n",
       "      <th>April 2021</th>\n",
       "      <th>May 2021</th>\n",
       "    </tr>\n",
       "  </thead>\n",
       "  <tbody>\n",
       "    <tr>\n",
       "      <th>0</th>\n",
       "      <td>186104</td>\n",
       "      <td>Active</td>\n",
       "      <td>2017</td>\n",
       "      <td>CA</td>\n",
       "      <td>170254</td>\n",
       "      <td>1123560</td>\n",
       "      <td>19409</td>\n",
       "      <td>0.0</td>\n",
       "      <td>sydney.s</td>\n",
       "      <td>563972.68</td>\n",
       "      <td>392863.1198</td>\n",
       "      <td>160433.54</td>\n",
       "      <td>6291.00</td>\n",
       "      <td>19409.07</td>\n",
       "      <td>0.0</td>\n",
       "      <td>0.0</td>\n",
       "      <td>0.0</td>\n",
       "      <td>0.0</td>\n",
       "      <td>5466</td>\n",
       "      <td>0.0</td>\n",
       "    </tr>\n",
       "    <tr>\n",
       "      <th>1</th>\n",
       "      <td>182715</td>\n",
       "      <td>Active</td>\n",
       "      <td>2017</td>\n",
       "      <td>FL</td>\n",
       "      <td>17134</td>\n",
       "      <td>31956</td>\n",
       "      <td>311097</td>\n",
       "      <td>6112.0</td>\n",
       "      <td>WGACA</td>\n",
       "      <td>0.00</td>\n",
       "      <td>0.0000</td>\n",
       "      <td>0.00</td>\n",
       "      <td>31955.87</td>\n",
       "      <td>47423.00</td>\n",
       "      <td>0.0</td>\n",
       "      <td>102510.0</td>\n",
       "      <td>161164.0</td>\n",
       "      <td>6112.0</td>\n",
       "      <td>720</td>\n",
       "      <td>69103.0</td>\n",
       "    </tr>\n",
       "    <tr>\n",
       "      <th>2</th>\n",
       "      <td>2829</td>\n",
       "      <td>Active</td>\n",
       "      <td>2018</td>\n",
       "      <td>FL</td>\n",
       "      <td>41543</td>\n",
       "      <td>26941</td>\n",
       "      <td>114000</td>\n",
       "      <td>15468.0</td>\n",
       "      <td>Chic Girl</td>\n",
       "      <td>8146.00</td>\n",
       "      <td>4288.9380</td>\n",
       "      <td>5400.00</td>\n",
       "      <td>9106.00</td>\n",
       "      <td>20300.60</td>\n",
       "      <td>19748.0</td>\n",
       "      <td>42837.0</td>\n",
       "      <td>31114.0</td>\n",
       "      <td>15468.0</td>\n",
       "      <td>10507</td>\n",
       "      <td>2774.0</td>\n",
       "    </tr>\n",
       "    <tr>\n",
       "      <th>3</th>\n",
       "      <td>188669</td>\n",
       "      <td>Active</td>\n",
       "      <td>2018</td>\n",
       "      <td>PA</td>\n",
       "      <td>1906</td>\n",
       "      <td>109164</td>\n",
       "      <td>44073</td>\n",
       "      <td>90463.0</td>\n",
       "      <td>Bag Borrow Steal</td>\n",
       "      <td>36923.00</td>\n",
       "      <td>0.0000</td>\n",
       "      <td>56057.00</td>\n",
       "      <td>16184.08</td>\n",
       "      <td>5542.00</td>\n",
       "      <td>10786.0</td>\n",
       "      <td>13289.0</td>\n",
       "      <td>14456.0</td>\n",
       "      <td>90463.0</td>\n",
       "      <td>43711</td>\n",
       "      <td>124503.0</td>\n",
       "    </tr>\n",
       "    <tr>\n",
       "      <th>4</th>\n",
       "      <td>203576</td>\n",
       "      <td>Active</td>\n",
       "      <td>2018</td>\n",
       "      <td>NJ</td>\n",
       "      <td>12955</td>\n",
       "      <td>19057</td>\n",
       "      <td>38889</td>\n",
       "      <td>2510.0</td>\n",
       "      <td>Mint Condition</td>\n",
       "      <td>0.00</td>\n",
       "      <td>0.0000</td>\n",
       "      <td>2972.00</td>\n",
       "      <td>16085.00</td>\n",
       "      <td>11153.00</td>\n",
       "      <td>13859.0</td>\n",
       "      <td>2185.0</td>\n",
       "      <td>11692.0</td>\n",
       "      <td>2510.0</td>\n",
       "      <td>0</td>\n",
       "      <td>5944.0</td>\n",
       "    </tr>\n",
       "  </tbody>\n",
       "</table>\n",
       "</div>"
      ],
      "text/plain": [
       "   User ID  Status  Sign up year Location  2018 Total Value  2019 Total Value  \\\n",
       "0   186104  Active          2017       CA            170254           1123560   \n",
       "1   182715  Active          2017       FL             17134             31956   \n",
       "2     2829  Active          2018       FL             41543             26941   \n",
       "3   188669  Active          2018       PA              1906            109164   \n",
       "4   203576  Active          2018       NJ             12955             19057   \n",
       "\n",
       "   2020 Total GMV  2021 Q1 GMV     Retailer Name    2019 Q2      2019 Q1  \\\n",
       "0           19409          0.0          sydney.s  563972.68  392863.1198   \n",
       "1          311097       6112.0             WGACA       0.00       0.0000   \n",
       "2          114000      15468.0         Chic Girl    8146.00    4288.9380   \n",
       "3           44073      90463.0  Bag Borrow Steal   36923.00       0.0000   \n",
       "4           38889       2510.0    Mint Condition       0.00       0.0000   \n",
       "\n",
       "     2019 Q3   2019 Q4   2020 Q1  2020 Q2   2020 Q3   2020 Q4  2021 Q1  \\\n",
       "0  160433.54   6291.00  19409.07      0.0       0.0       0.0      0.0   \n",
       "1       0.00  31955.87  47423.00      0.0  102510.0  161164.0   6112.0   \n",
       "2    5400.00   9106.00  20300.60  19748.0   42837.0   31114.0  15468.0   \n",
       "3   56057.00  16184.08   5542.00  10786.0   13289.0   14456.0  90463.0   \n",
       "4    2972.00  16085.00  11153.00  13859.0    2185.0   11692.0   2510.0   \n",
       "\n",
       "   April 2021  May 2021  \n",
       "0        5466       0.0  \n",
       "1         720   69103.0  \n",
       "2       10507    2774.0  \n",
       "3       43711  124503.0  \n",
       "4           0    5944.0  "
      ]
     },
     "execution_count": 9,
     "metadata": {},
     "output_type": "execute_result"
    }
   ],
   "source": [
    "buyers.head()"
   ]
  },
  {
   "cell_type": "code",
   "execution_count": 49,
   "metadata": {},
   "outputs": [
    {
     "name": "stdout",
     "output_type": "stream",
     "text": [
      "percent of gmv made up by top 5 buyers in 2020 Q1: 25.05%\n"
     ]
    }
   ],
   "source": [
    "buyers=buyers.sort_values(by='2020 Q1', ascending=False)\n",
    "q1_2020=buyers['2020 Q1'].sum()\n",
    "print('percent of gmv made up by top 5 buyers in 2020 Q1: {:.2f}%'.format(buyers[:5]['2020 Q1'].sum()/q3_2020*100))"
   ]
  },
  {
   "cell_type": "code",
   "execution_count": 48,
   "metadata": {},
   "outputs": [
    {
     "name": "stdout",
     "output_type": "stream",
     "text": [
      "percent of gmv made up by top 5 buyers in 2020 Q2: 53.98%\n"
     ]
    }
   ],
   "source": [
    "buyers=buyers.sort_values(by='2020 Q2', ascending=False)\n",
    "q2_2020=buyers['2020 Q2'].sum()\n",
    "print('percent of gmv made up by top 5 buyers in 2020 Q2: {:.2f}%'.format(buyers[:5]['2020 Q2'].sum()/q2_2020*100))"
   ]
  },
  {
   "cell_type": "code",
   "execution_count": 47,
   "metadata": {},
   "outputs": [
    {
     "name": "stdout",
     "output_type": "stream",
     "text": [
      "percent of gmv made up by top 5 buyers in 2020 Q3: 60.94%\n"
     ]
    }
   ],
   "source": [
    "buyers=buyers.sort_values(by='2020 Q3', ascending=False)\n",
    "q3_2020=buyers['2020 Q3'].sum()\n",
    "print('percent of gmv made up by top 5 buyers in 2020 Q3: {:.2f}%'.format(buyers[:5]['2020 Q3'].sum()/q3_2020*100))"
   ]
  },
  {
   "cell_type": "code",
   "execution_count": 41,
   "metadata": {},
   "outputs": [],
   "source": [
    "buyers=buyers.sort_values(by='2020 Q4', ascending=False).reset_index(drop=True)"
   ]
  },
  {
   "cell_type": "code",
   "execution_count": 42,
   "metadata": {},
   "outputs": [],
   "source": [
    "q4_2020=buyers['2020 Q4'].sum()"
   ]
  },
  {
   "cell_type": "code",
   "execution_count": 43,
   "metadata": {},
   "outputs": [
    {
     "name": "stdout",
     "output_type": "stream",
     "text": [
      "percent of gmv made up by top 5 buyers in 2020 Q4: 64.74%\n"
     ]
    }
   ],
   "source": [
    "print('percent of gmv made up by top 5 buyers in 2020 Q4: {:.2f}%'.format(buyers[:5]['2020 Q4'].sum()/q4_2020*100))"
   ]
  },
  {
   "cell_type": "code",
   "execution_count": 52,
   "metadata": {},
   "outputs": [],
   "source": [
    "buyers=buyers.sort_values(by='2021 Q1', ascending=False).reset_index(drop=True)"
   ]
  },
  {
   "cell_type": "code",
   "execution_count": 53,
   "metadata": {},
   "outputs": [],
   "source": [
    "q1_2021=buyers['2021 Q1'].sum()"
   ]
  },
  {
   "cell_type": "code",
   "execution_count": 54,
   "metadata": {},
   "outputs": [
    {
     "name": "stdout",
     "output_type": "stream",
     "text": [
      "percent of gmv made up by top 5 buyers in 2021 Q1: 66.51%\n"
     ]
    }
   ],
   "source": [
    "print('percent of gmv made up by top 5 buyers in 2021 Q1: {:.2f}%'.format(buyers[:5]['2021 Q1'].sum()/q1_2021*100))"
   ]
  },
  {
   "cell_type": "code",
   "execution_count": 66,
   "metadata": {},
   "outputs": [],
   "source": [
    "buyers['2021']=buyers['2021 Q1']+buyers['April 2021']+buyers['May 2021']"
   ]
  },
  {
   "cell_type": "code",
   "execution_count": 77,
   "metadata": {},
   "outputs": [
    {
     "name": "stdout",
     "output_type": "stream",
     "text": [
      "percent of buyers from 2019 who still bought in 2020: 55.15%\n"
     ]
    }
   ],
   "source": [
    "buy_19_20=len(buyers[(buyers['2019 Total Value']>0) & (buyers['2020 Total GMV']>0)])\n",
    "print('percent of buyers from 2019 who still bought in 2020: {:.2f}%'.format(buy_19_20/len(buyers[buyers['2019 Total Value']>0])*100))"
   ]
  },
  {
   "cell_type": "code",
   "execution_count": 86,
   "metadata": {},
   "outputs": [
    {
     "data": {
      "text/plain": [
       "75"
      ]
     },
     "execution_count": 86,
     "metadata": {},
     "output_type": "execute_result"
    }
   ],
   "source": [
    "buy_19_20"
   ]
  },
  {
   "cell_type": "code",
   "execution_count": 70,
   "metadata": {},
   "outputs": [],
   "source": [
    "buy_19_21=len(buyers[(buyers['2019 Total Value']>0) & (buyers['2021']>0)])"
   ]
  },
  {
   "cell_type": "code",
   "execution_count": 76,
   "metadata": {},
   "outputs": [
    {
     "name": "stdout",
     "output_type": "stream",
     "text": [
      "percent of buyers from 2019 who still buy in 2021: 33.82%\n"
     ]
    }
   ],
   "source": [
    "print('percent of buyers from 2019 who still buy in 2021: {:.2f}%'.format(buy_19_21/len(buyers[buyers['2019 Total Value']>0])*100))"
   ]
  },
  {
   "cell_type": "code",
   "execution_count": 75,
   "metadata": {},
   "outputs": [
    {
     "name": "stdout",
     "output_type": "stream",
     "text": [
      "percent of buyers from 2020 who still buy in 2021: 45.11%\n"
     ]
    }
   ],
   "source": [
    "buy_20_21=len(buyers[(buyers['2020 Total GMV']>0) & (buyers['2021']>0)])\n",
    "print('percent of buyers from 2020 who still buy in 2021: {:.2f}%'.format(buy_20_21/len(buyers[buyers['2020 Total GMV']>0])*100))"
   ]
  },
  {
   "cell_type": "code",
   "execution_count": 85,
   "metadata": {},
   "outputs": [
    {
     "data": {
      "text/plain": [
       "38.75"
      ]
     },
     "execution_count": 85,
     "metadata": {},
     "output_type": "execute_result"
    }
   ],
   "source": [
    "new_20=buyers[(buyers['2020 Total GMV']>0) & (buyers['2019 Total Value']==0)]\n",
    "new_list=new_20['Retailer Name']\n",
    "len(buyers[(buyers['2021']>0)&(buyers['Retailer Name'].isin(new_list))])/160*100"
   ]
  },
  {
   "cell_type": "code",
   "execution_count": 96,
   "metadata": {},
   "outputs": [
    {
     "data": {
      "text/plain": [
       "20.0"
      ]
     },
     "execution_count": 96,
     "metadata": {},
     "output_type": "execute_result"
    }
   ],
   "source": [
    "covid=buyers[(buyers['2020 Total GMV']>0)&(buyers['2020 Q1']==0)&(buyers['2020 Q2']==0)&(buyers['2020 Q3']==0)]\n",
    "len(covid)/235*100"
   ]
  },
  {
   "cell_type": "code",
   "execution_count": 89,
   "metadata": {},
   "outputs": [
    {
     "data": {
      "text/plain": [
       "235"
      ]
     },
     "execution_count": 89,
     "metadata": {},
     "output_type": "execute_result"
    }
   ],
   "source": [
    "len(buyers[(buyers['2020 Total GMV']>0)])"
   ]
  },
  {
   "cell_type": "code",
   "execution_count": 55,
   "metadata": {},
   "outputs": [],
   "source": [
    "all_bid=pd.read_csv('all_bid.csv')\n",
    "all_stock=pd.read_csv('all_stock.csv')"
   ]
  },
  {
   "cell_type": "code",
   "execution_count": 60,
   "metadata": {},
   "outputs": [],
   "source": [
    "buy_list=list(buyers[:5]['Retailer Name'].str.lower())"
   ]
  },
  {
   "cell_type": "code",
   "execution_count": 63,
   "metadata": {},
   "outputs": [],
   "source": [
    "# all_bid[all_bid['buyer'].isin(buy_list)]"
   ]
  }
 ],
 "metadata": {
  "kernelspec": {
   "display_name": "Python 3",
   "language": "python",
   "name": "python3"
  },
  "language_info": {
   "codemirror_mode": {
    "name": "ipython",
    "version": 3
   },
   "file_extension": ".py",
   "mimetype": "text/x-python",
   "name": "python",
   "nbconvert_exporter": "python",
   "pygments_lexer": "ipython3",
   "version": "3.7.6"
  }
 },
 "nbformat": 4,
 "nbformat_minor": 4
}
