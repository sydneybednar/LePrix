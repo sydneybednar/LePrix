{
 "cells": [
  {
   "cell_type": "markdown",
   "metadata": {},
   "source": [
    "# Auction Bid Time"
   ]
  },
  {
   "cell_type": "code",
   "execution_count": 2,
   "metadata": {},
   "outputs": [],
   "source": [
    "import pandas as pd\n",
    "import numpy as np\n",
    "import matplotlib.pyplot as plt\n",
    "from scipy import stats\n",
    "import statsmodels.api as sm\n",
    "import seaborn as sns\n",
    "import datetime"
   ]
  },
  {
   "cell_type": "code",
   "execution_count": 3,
   "metadata": {},
   "outputs": [
    {
     "name": "stderr",
     "output_type": "stream",
     "text": [
      "/Users/sydneybednar/opt/anaconda3/lib/python3.7/site-packages/IPython/core/interactiveshell.py:3063: DtypeWarning: Columns (15) have mixed types.Specify dtype option on import or set low_memory=False.\n",
      "  interactivity=interactivity, compiler=compiler, result=result)\n"
     ]
    }
   ],
   "source": [
    "bid=pd.read_csv('all_bid.csv')"
   ]
  },
  {
   "cell_type": "code",
   "execution_count": 4,
   "metadata": {},
   "outputs": [],
   "source": [
    "bid['bid_placed_on']=pd.to_datetime(bid['bid_placed_on'])\n",
    "bid=bid[bid['bid_placed_on']>datetime.datetime(2021,1,1)]"
   ]
  },
  {
   "cell_type": "code",
   "execution_count": 95,
   "metadata": {},
   "outputs": [],
   "source": [
    "bid['hour_date']=bid['bid_placed_on'].dt.strftime('[%m/%d, %H]')\n",
    "bid['date']=bid['bid_placed_on'].dt.date\n",
    "key=bid.groupby('auction_id')['hour_date'].last().reset_index()"
   ]
  },
  {
   "cell_type": "code",
   "execution_count": 64,
   "metadata": {},
   "outputs": [],
   "source": [
    "new=key.merge(bid, how='left')\n",
    "new_2=new.groupby(['auction_id','buyer'])['bid'].count().reset_index()"
   ]
  },
  {
   "cell_type": "code",
   "execution_count": 90,
   "metadata": {},
   "outputs": [],
   "source": [
    "new_2=new_2.rename(columns={'bid':'bids_in_last_hour'})\n",
    "# new_2.to_excel('bidders_last_hour.xlsx')"
   ]
  },
  {
   "cell_type": "code",
   "execution_count": 78,
   "metadata": {},
   "outputs": [
    {
     "data": {
      "text/plain": [
       "auction_id\n",
       "250     9\n",
       "251    20\n",
       "252    26\n",
       "253    31\n",
       "254    48\n",
       "       ..\n",
       "328    31\n",
       "329    22\n",
       "330    37\n",
       "331    27\n",
       "332    17\n",
       "Name: buyer, Length: 80, dtype: int64"
      ]
     },
     "execution_count": 78,
     "metadata": {},
     "output_type": "execute_result"
    }
   ],
   "source": [
    "total=bid.groupby(['auction_id','buyer'])['bid'].count().reset_index()\n",
    "total.groupby('auction_id')['buyer'].count()"
   ]
  },
  {
   "cell_type": "code",
   "execution_count": 94,
   "metadata": {},
   "outputs": [
    {
     "data": {
      "text/plain": [
       "auction_id\n",
       "250    0.222222\n",
       "251    0.100000\n",
       "252    0.192308\n",
       "253    0.193548\n",
       "254    0.041667\n",
       "         ...   \n",
       "328    0.064516\n",
       "329    0.045455\n",
       "330    0.054054\n",
       "331    0.037037\n",
       "332    0.117647\n",
       "Name: buyer, Length: 80, dtype: float64"
      ]
     },
     "execution_count": 94,
     "metadata": {},
     "output_type": "execute_result"
    }
   ],
   "source": [
    "new_2.groupby('auction_id')['buyer'].count()/total.groupby('auction_id')['buyer'].count()"
   ]
  },
  {
   "cell_type": "code",
   "execution_count": 86,
   "metadata": {},
   "outputs": [],
   "source": [
    "perc=(new_2.groupby('auction_id')['buyer'].count()/total.groupby('auction_id')['buyer'].count()*100).mean()"
   ]
  },
  {
   "cell_type": "code",
   "execution_count": 87,
   "metadata": {},
   "outputs": [
    {
     "name": "stdout",
     "output_type": "stream",
     "text": [
      "the avg percent of bidders who bid within the last hour of auction: 12.97%\n"
     ]
    }
   ],
   "source": [
    "print('the avg percent of bidders who bid within the last hour of auction: {:.2f}%'.format(perc))"
   ]
  },
  {
   "cell_type": "code",
   "execution_count": 110,
   "metadata": {},
   "outputs": [
    {
     "data": {
      "text/html": [
       "<div>\n",
       "<style scoped>\n",
       "    .dataframe tbody tr th:only-of-type {\n",
       "        vertical-align: middle;\n",
       "    }\n",
       "\n",
       "    .dataframe tbody tr th {\n",
       "        vertical-align: top;\n",
       "    }\n",
       "\n",
       "    .dataframe thead th {\n",
       "        text-align: right;\n",
       "    }\n",
       "</style>\n",
       "<table border=\"1\" class=\"dataframe\">\n",
       "  <thead>\n",
       "    <tr style=\"text-align: right;\">\n",
       "      <th></th>\n",
       "      <th>auction_id</th>\n",
       "      <th>date</th>\n",
       "    </tr>\n",
       "  </thead>\n",
       "  <tbody>\n",
       "    <tr>\n",
       "      <th>0</th>\n",
       "      <td>250</td>\n",
       "      <td>2021-01-03</td>\n",
       "    </tr>\n",
       "    <tr>\n",
       "      <th>1</th>\n",
       "      <td>251</td>\n",
       "      <td>2021-01-04</td>\n",
       "    </tr>\n",
       "    <tr>\n",
       "      <th>2</th>\n",
       "      <td>252</td>\n",
       "      <td>2021-01-10</td>\n",
       "    </tr>\n",
       "    <tr>\n",
       "      <th>3</th>\n",
       "      <td>253</td>\n",
       "      <td>2021-01-11</td>\n",
       "    </tr>\n",
       "    <tr>\n",
       "      <th>4</th>\n",
       "      <td>254</td>\n",
       "      <td>2021-01-19</td>\n",
       "    </tr>\n",
       "    <tr>\n",
       "      <th>...</th>\n",
       "      <td>...</td>\n",
       "      <td>...</td>\n",
       "    </tr>\n",
       "    <tr>\n",
       "      <th>75</th>\n",
       "      <td>328</td>\n",
       "      <td>2021-06-01</td>\n",
       "    </tr>\n",
       "    <tr>\n",
       "      <th>76</th>\n",
       "      <td>329</td>\n",
       "      <td>2021-05-31</td>\n",
       "    </tr>\n",
       "    <tr>\n",
       "      <th>77</th>\n",
       "      <td>330</td>\n",
       "      <td>2021-06-07</td>\n",
       "    </tr>\n",
       "    <tr>\n",
       "      <th>78</th>\n",
       "      <td>331</td>\n",
       "      <td>2021-06-07</td>\n",
       "    </tr>\n",
       "    <tr>\n",
       "      <th>79</th>\n",
       "      <td>332</td>\n",
       "      <td>2021-06-07</td>\n",
       "    </tr>\n",
       "  </tbody>\n",
       "</table>\n",
       "<p>80 rows × 2 columns</p>\n",
       "</div>"
      ],
      "text/plain": [
       "    auction_id        date\n",
       "0          250  2021-01-03\n",
       "1          251  2021-01-04\n",
       "2          252  2021-01-10\n",
       "3          253  2021-01-11\n",
       "4          254  2021-01-19\n",
       "..         ...         ...\n",
       "75         328  2021-06-01\n",
       "76         329  2021-05-31\n",
       "77         330  2021-06-07\n",
       "78         331  2021-06-07\n",
       "79         332  2021-06-07\n",
       "\n",
       "[80 rows x 2 columns]"
      ]
     },
     "execution_count": 110,
     "metadata": {},
     "output_type": "execute_result"
    }
   ],
   "source": [
    "key_date=bid.groupby('auction_id')['date'].last().reset_index()\n",
    "key_date"
   ]
  },
  {
   "cell_type": "code",
   "execution_count": 116,
   "metadata": {},
   "outputs": [],
   "source": [
    "new_date=key_date.merge(bid, how='left')\n",
    "new_date2=new_date.groupby(['auction_id','buyer'])['bid'].count().reset_index()\n",
    "new_date2=new_date2.rename(columns={'bid':'bids_on_last_day'})"
   ]
  },
  {
   "cell_type": "code",
   "execution_count": 115,
   "metadata": {},
   "outputs": [
    {
     "data": {
      "text/plain": [
       "auction_id\n",
       "250    55.555556\n",
       "251    45.000000\n",
       "252    38.461538\n",
       "253    45.161290\n",
       "254    25.000000\n",
       "         ...    \n",
       "328    38.709677\n",
       "329    40.909091\n",
       "330    43.243243\n",
       "331     7.407407\n",
       "332    52.941176\n",
       "Name: buyer, Length: 80, dtype: float64"
      ]
     },
     "execution_count": 115,
     "metadata": {},
     "output_type": "execute_result"
    }
   ],
   "source": [
    "new_date2.groupby('auction_id')['buyer'].count()/total.groupby('auction_id')['buyer'].count()*100"
   ]
  },
  {
   "cell_type": "code",
   "execution_count": 117,
   "metadata": {},
   "outputs": [],
   "source": [
    "# new_date2.to_excel('bidders_last_day.xlsx')"
   ]
  },
  {
   "cell_type": "code",
   "execution_count": 108,
   "metadata": {},
   "outputs": [],
   "source": [
    "perc_date=(new_date2.groupby('auction_id')['buyer'].count()/total.groupby('auction_id')['buyer'].count()*100).mean()"
   ]
  },
  {
   "cell_type": "code",
   "execution_count": 109,
   "metadata": {},
   "outputs": [
    {
     "name": "stdout",
     "output_type": "stream",
     "text": [
      "the avg percent of bidders who bid within the last day of auction: 41.56%\n"
     ]
    }
   ],
   "source": [
    "print('the avg percent of bidders who bid within the last day of auction: {:.2f}%'.format(perc_date))"
   ]
  }
 ],
 "metadata": {
  "kernelspec": {
   "display_name": "Python 3",
   "language": "python",
   "name": "python3"
  },
  "language_info": {
   "codemirror_mode": {
    "name": "ipython",
    "version": 3
   },
   "file_extension": ".py",
   "mimetype": "text/x-python",
   "name": "python",
   "nbconvert_exporter": "python",
   "pygments_lexer": "ipython3",
   "version": "3.7.6"
  }
 },
 "nbformat": 4,
 "nbformat_minor": 4
}
