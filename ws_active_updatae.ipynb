{
 "cells": [
  {
   "cell_type": "markdown",
   "metadata": {},
   "source": [
    "# WS Active List Update"
   ]
  },
  {
   "cell_type": "code",
   "execution_count": 1,
   "metadata": {},
   "outputs": [],
   "source": [
    "import pandas as pd\n",
    "import numpy as np\n",
    "import matplotlib.pyplot as plt\n",
    "from scipy import stats\n",
    "import statsmodels.api as sm\n",
    "import seaborn as sns\n",
    "import datetime"
   ]
  },
  {
   "cell_type": "code",
   "execution_count": 2,
   "metadata": {},
   "outputs": [],
   "source": [
    "full=pd.read_excel('WholesaleAccessList.xlsx')\n",
    "active=pd.read_excel('active_accts.xlsx')"
   ]
  },
  {
   "cell_type": "code",
   "execution_count": 9,
   "metadata": {},
   "outputs": [
    {
     "data": {
      "text/plain": [
       "(1416, 12)"
      ]
     },
     "execution_count": 9,
     "metadata": {},
     "output_type": "execute_result"
    }
   ],
   "source": [
    "full['username']=full['username'].str.lower()\n",
    "full.shape"
   ]
  },
  {
   "cell_type": "code",
   "execution_count": 11,
   "metadata": {},
   "outputs": [
    {
     "data": {
      "text/html": [
       "<div>\n",
       "<style scoped>\n",
       "    .dataframe tbody tr th:only-of-type {\n",
       "        vertical-align: middle;\n",
       "    }\n",
       "\n",
       "    .dataframe tbody tr th {\n",
       "        vertical-align: top;\n",
       "    }\n",
       "\n",
       "    .dataframe thead th {\n",
       "        text-align: right;\n",
       "    }\n",
       "</style>\n",
       "<table border=\"1\" class=\"dataframe\">\n",
       "  <thead>\n",
       "    <tr style=\"text-align: right;\">\n",
       "      <th></th>\n",
       "      <th>user_id</th>\n",
       "      <th>username</th>\n",
       "      <th>email</th>\n",
       "      <th>first_name</th>\n",
       "      <th>last_name</th>\n",
       "      <th>type</th>\n",
       "      <th>wholesale_line1</th>\n",
       "      <th>wholesale_line2</th>\n",
       "      <th>wholesale_city</th>\n",
       "      <th>wholesale_region</th>\n",
       "      <th>wholesale_country</th>\n",
       "      <th>phone</th>\n",
       "    </tr>\n",
       "  </thead>\n",
       "  <tbody>\n",
       "    <tr>\n",
       "      <th>0</th>\n",
       "      <td>112</td>\n",
       "      <td>resaleriches</td>\n",
       "      <td>resalerichesnyc@gmail.com</td>\n",
       "      <td>Tania</td>\n",
       "      <td>Anthony</td>\n",
       "      <td>company</td>\n",
       "      <td>40 Harrison St Apt 4K</td>\n",
       "      <td>NaN</td>\n",
       "      <td>New York</td>\n",
       "      <td>NY</td>\n",
       "      <td>US</td>\n",
       "      <td>119175820701</td>\n",
       "    </tr>\n",
       "    <tr>\n",
       "      <th>1</th>\n",
       "      <td>16216</td>\n",
       "      <td>cremedelacreme</td>\n",
       "      <td>gravelson11@att.net</td>\n",
       "      <td>Veronica</td>\n",
       "      <td>Levine</td>\n",
       "      <td>individual</td>\n",
       "      <td>1039 Kane Concourse</td>\n",
       "      <td>NaN</td>\n",
       "      <td>Bay Harbor Islands</td>\n",
       "      <td>FL</td>\n",
       "      <td>US</td>\n",
       "      <td>13057638005</td>\n",
       "    </tr>\n",
       "    <tr>\n",
       "      <th>2</th>\n",
       "      <td>25965</td>\n",
       "      <td>onquestyle</td>\n",
       "      <td>sales@onquestyle.com</td>\n",
       "      <td>Kirsten</td>\n",
       "      <td>Prosser</td>\n",
       "      <td>individual</td>\n",
       "      <td>2900 E Coast Hwy</td>\n",
       "      <td>NaN</td>\n",
       "      <td>Corona del Mar</td>\n",
       "      <td>CA</td>\n",
       "      <td>US</td>\n",
       "      <td>19497177795</td>\n",
       "    </tr>\n",
       "    <tr>\n",
       "      <th>3</th>\n",
       "      <td>31116</td>\n",
       "      <td>stamadison</td>\n",
       "      <td>madison@secondtimearound.net</td>\n",
       "      <td>NaN</td>\n",
       "      <td>NaN</td>\n",
       "      <td>individual</td>\n",
       "      <td>1318 MADISON AVE</td>\n",
       "      <td>NaN</td>\n",
       "      <td>New York</td>\n",
       "      <td>NY</td>\n",
       "      <td>US</td>\n",
       "      <td>NaN</td>\n",
       "    </tr>\n",
       "    <tr>\n",
       "      <th>4</th>\n",
       "      <td>39013</td>\n",
       "      <td>greatlabels</td>\n",
       "      <td>greatlabels@gmail.com</td>\n",
       "      <td>Andrea</td>\n",
       "      <td>Waters</td>\n",
       "      <td>company</td>\n",
       "      <td>1126 Wilshire Blvd</td>\n",
       "      <td>NaN</td>\n",
       "      <td>Santa Monica</td>\n",
       "      <td>CA</td>\n",
       "      <td>US</td>\n",
       "      <td>13105600176</td>\n",
       "    </tr>\n",
       "  </tbody>\n",
       "</table>\n",
       "</div>"
      ],
      "text/plain": [
       "   user_id        username                         email first_name last_name  \\\n",
       "0      112    resaleriches     resalerichesnyc@gmail.com      Tania   Anthony   \n",
       "1    16216  cremedelacreme           gravelson11@att.net   Veronica    Levine   \n",
       "2    25965      onquestyle          sales@onquestyle.com    Kirsten   Prosser   \n",
       "3    31116      stamadison  madison@secondtimearound.net        NaN       NaN   \n",
       "4    39013     greatlabels         greatlabels@gmail.com     Andrea    Waters   \n",
       "\n",
       "         type        wholesale_line1 wholesale_line2      wholesale_city  \\\n",
       "0     company  40 Harrison St Apt 4K             NaN            New York   \n",
       "1  individual    1039 Kane Concourse             NaN  Bay Harbor Islands   \n",
       "2  individual       2900 E Coast Hwy             NaN      Corona del Mar   \n",
       "3  individual       1318 MADISON AVE             NaN            New York   \n",
       "4     company     1126 Wilshire Blvd             NaN        Santa Monica   \n",
       "\n",
       "  wholesale_region wholesale_country         phone  \n",
       "0               NY                US  119175820701  \n",
       "1               FL                US   13057638005  \n",
       "2               CA                US   19497177795  \n",
       "3               NY                US           NaN  \n",
       "4               CA                US   13105600176  "
      ]
     },
     "execution_count": 11,
     "metadata": {},
     "output_type": "execute_result"
    }
   ],
   "source": [
    "full.head()"
   ]
  },
  {
   "cell_type": "code",
   "execution_count": 6,
   "metadata": {},
   "outputs": [],
   "source": [
    "active=list(active[0])"
   ]
  },
  {
   "cell_type": "code",
   "execution_count": 10,
   "metadata": {},
   "outputs": [
    {
     "data": {
      "text/plain": [
       "(1076, 12)"
      ]
     },
     "execution_count": 10,
     "metadata": {},
     "output_type": "execute_result"
    }
   ],
   "source": [
    "new=full[~full['username'].isin(active)]\n",
    "new.shape"
   ]
  },
  {
   "cell_type": "code",
   "execution_count": 13,
   "metadata": {},
   "outputs": [],
   "source": [
    "# new.to_excel('ws_accts_minus_active.xlsx')"
   ]
  },
  {
   "cell_type": "code",
   "execution_count": null,
   "metadata": {},
   "outputs": [],
   "source": []
  }
 ],
 "metadata": {
  "kernelspec": {
   "display_name": "Python 3",
   "language": "python",
   "name": "python3"
  },
  "language_info": {
   "codemirror_mode": {
    "name": "ipython",
    "version": 3
   },
   "file_extension": ".py",
   "mimetype": "text/x-python",
   "name": "python",
   "nbconvert_exporter": "python",
   "pygments_lexer": "ipython3",
   "version": "3.7.6"
  }
 },
 "nbformat": 4,
 "nbformat_minor": 4
}
