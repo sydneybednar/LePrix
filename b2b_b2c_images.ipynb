{
 "cells": [
  {
   "cell_type": "markdown",
   "metadata": {},
   "source": [
    "# b2c and b2b with images"
   ]
  },
  {
   "cell_type": "code",
   "execution_count": 1,
   "metadata": {},
   "outputs": [],
   "source": [
    "import pandas as pd\n",
    "import numpy as np\n",
    "import matplotlib.pyplot as plt\n",
    "from scipy import stats\n",
    "import statsmodels.api as sm\n",
    "import seaborn as sns\n",
    "import datetime"
   ]
  },
  {
   "cell_type": "code",
   "execution_count": 2,
   "metadata": {},
   "outputs": [],
   "source": [
    "bid=pd.read_excel('bid19to21.xlsx')\n",
    "stock=pd.read_excel('stock19to21.xlsx')"
   ]
  },
  {
   "cell_type": "code",
   "execution_count": 3,
   "metadata": {},
   "outputs": [
    {
     "data": {
      "text/plain": [
       "Index(['seller_username', 'seller_id', 'buyer_username', 'buyer_id', 'item_id',\n",
       "       'title', 'brand_name', 'category_name', 'overall_grade', 'min_bid',\n",
       "       'bid', 'winning_bid', 'bid_placed', 'main_image'],\n",
       "      dtype='object')"
      ]
     },
     "execution_count": 3,
     "metadata": {},
     "output_type": "execute_result"
    }
   ],
   "source": [
    "bid.columns"
   ]
  },
  {
   "cell_type": "code",
   "execution_count": 4,
   "metadata": {},
   "outputs": [
    {
     "data": {
      "text/plain": [
       "Index(['seller_username', 'seller_id', 'buyer_username', 'buyer_id', 'item_id',\n",
       "       'title', 'brand_name', 'category_name', 'overall_grade', 'price',\n",
       "       'submitted_date', 'main_image'],\n",
       "      dtype='object')"
      ]
     },
     "execution_count": 4,
     "metadata": {},
     "output_type": "execute_result"
    }
   ],
   "source": [
    "stock.columns"
   ]
  },
  {
   "cell_type": "code",
   "execution_count": 5,
   "metadata": {},
   "outputs": [],
   "source": [
    "bid['bid_placed']=pd.to_datetime(bid['bid_placed'])\n",
    "stock['submitted_date']=pd.to_datetime(stock['submitted_date'])"
   ]
  },
  {
   "cell_type": "code",
   "execution_count": 6,
   "metadata": {},
   "outputs": [],
   "source": [
    "bid['win']='N'\n",
    "bid.loc[bid['bid']>=bid['winning_bid'],'win']='Y'"
   ]
  },
  {
   "cell_type": "markdown",
   "metadata": {},
   "source": [
    "## May 2021 B2B"
   ]
  },
  {
   "cell_type": "code",
   "execution_count": 7,
   "metadata": {},
   "outputs": [],
   "source": [
    "may_b=bid[(bid['bid_placed'].dt.month==5)&\n",
    "          (bid['bid_placed'].dt.year==2021)]\n",
    "may_s=stock[(stock['submitted_date'].dt.month==5)&\n",
    "           (stock['submitted_date'].dt.year==2021)]"
   ]
  },
  {
   "cell_type": "code",
   "execution_count": 8,
   "metadata": {},
   "outputs": [],
   "source": [
    "may_b=may_b[may_b['win']=='Y']\n",
    "may_b.to_excel('may_won_bids.xlsx')"
   ]
  },
  {
   "cell_type": "code",
   "execution_count": 9,
   "metadata": {},
   "outputs": [],
   "source": [
    "# may_s.to_excel('may_stock.xlsx')"
   ]
  },
  {
   "cell_type": "markdown",
   "metadata": {},
   "source": [
    "## June 2021 B2B"
   ]
  },
  {
   "cell_type": "code",
   "execution_count": 12,
   "metadata": {},
   "outputs": [],
   "source": [
    "june_b=bid[(bid['bid_placed'].dt.month==6)&\n",
    "          (bid['bid_placed'].dt.year==2021)]\n",
    "june_s=stock[(stock['submitted_date'].dt.month==6)&\n",
    "           (stock['submitted_date'].dt.year==2021)]"
   ]
  },
  {
   "cell_type": "code",
   "execution_count": 13,
   "metadata": {},
   "outputs": [],
   "source": [
    "june_b=june_b[june_b['win']=='Y']\n",
    "june_b.to_excel('june_won_bids.xlsx')"
   ]
  },
  {
   "cell_type": "code",
   "execution_count": 14,
   "metadata": {},
   "outputs": [],
   "source": [
    "# june_s.to_excel('june_stock.xlsx')"
   ]
  },
  {
   "cell_type": "markdown",
   "metadata": {},
   "source": [
    "## May 2021 B2C"
   ]
  },
  {
   "cell_type": "code",
   "execution_count": 16,
   "metadata": {},
   "outputs": [],
   "source": [
    "may_b2c=pd.read_csv('may21b2c.csv')"
   ]
  },
  {
   "cell_type": "code",
   "execution_count": 17,
   "metadata": {},
   "outputs": [
    {
     "data": {
      "text/plain": [
       "Index(['Order ID', 'Reference', 'Buyer ID', 'Seller ID', 'Item ID',\n",
       "       'Markdown ID', 'Buyer', 'Buyer Email', 'Seller', 'Seller Email', 'Item',\n",
       "       'Item Creation', 'Color', 'Brand', 'Category', 'Parent Category',\n",
       "       'Subtotal', 'Shipping', 'Refunded', 'Promo Code', 'Promo Value',\n",
       "       'Markdown', 'Credit', 'Tax', 'Total', 'Payment Type',\n",
       "       'Credit Card (Stripe) ID', 'Paypal Transaction ID', 'Affirm Charge ID',\n",
       "       'Seller Fee', 'Seller Label', 'Seller Shipping', 'Seller Refunded',\n",
       "       'Seller Cashout', 'Seller Promo', 'Billing Name', 'Billing Line 1',\n",
       "       'Billing Line 2', 'Billing City', 'Billing Region', 'Billing Postcode',\n",
       "       'Billing Country', 'Buyer Shipping Name', 'Buyer Shipping Line 1',\n",
       "       'Buyer Shipping Line 2', 'Buyer Shipping City', 'Buyer Shipping Region',\n",
       "       'Buyer Shipping Postcode', 'Buyer Shipping Country', 'Phone',\n",
       "       'Seller Shipping Name', 'Seller Shipping Line 1',\n",
       "       'Seller Shipping Line 2', 'Seller Shipping City',\n",
       "       'Seller Shipping Region', 'Seller Shipping Postcode',\n",
       "       'Seller Shipping Country', 'Status', 'Cancellation Reason',\n",
       "       'Modified_At', 'Created At', 'Completed At', 'Pending Until',\n",
       "       'Item URL', 'Main Image URL', 'Order URL', 'Style', 'Material', 'Size',\n",
       "       'Prints'],\n",
       "      dtype='object')"
      ]
     },
     "execution_count": 17,
     "metadata": {},
     "output_type": "execute_result"
    }
   ],
   "source": [
    "may_b2c.columns"
   ]
  },
  {
   "cell_type": "code",
   "execution_count": 18,
   "metadata": {},
   "outputs": [],
   "source": [
    "may_b2c=may_b2c.drop(columns={'Order URL', 'Item URL', 'Pending Until', 'Completed At','Markdown ID',\n",
    "                     'Item Creation', 'Shipping', 'Refunded', 'Promo Value', 'Markdown', 'Credit', 'Tax',\n",
    "                      'Payment Type', 'Credit Card (Stripe) ID', 'Paypal Transaction ID', 'Affirm Charge ID', \n",
    "                      'Seller Fee', 'Seller Label', 'Seller Shipping', 'Seller Refunded',\n",
    "                      'Seller Cashout', 'Seller Promo', 'Billing Name', 'Billing Line 1',\n",
    "                      'Billing Line 2', 'Billing City', 'Billing Region', 'Billing Postcode',\n",
    "                      'Billing Country', 'Buyer Shipping Name', 'Buyer Shipping Line 1',\n",
    "                      'Buyer Shipping Line 2', 'Buyer Shipping City', 'Buyer Shipping Region',\n",
    "                      'Buyer Shipping Postcode', 'Buyer Shipping Country', 'Phone',\n",
    "                      'Seller Shipping Name', 'Seller Shipping Line 1',\n",
    "                      'Seller Shipping Line 2', 'Seller Shipping City',\n",
    "                      'Seller Shipping Region', 'Seller Shipping Postcode',\n",
    "                      'Seller Shipping Country', 'Status', 'Cancellation Reason',\n",
    "                    'Reference', 'Order ID', 'Seller Email', 'Modified_At'})"
   ]
  },
  {
   "cell_type": "code",
   "execution_count": 19,
   "metadata": {},
   "outputs": [
    {
     "data": {
      "text/plain": [
       "Index(['Buyer ID', 'Seller ID', 'Item ID', 'Buyer', 'Buyer Email', 'Seller',\n",
       "       'Item', 'Color', 'Brand', 'Category', 'Parent Category', 'Subtotal',\n",
       "       'Promo Code', 'Total', 'Created At', 'Main Image URL', 'Style',\n",
       "       'Material', 'Size', 'Prints'],\n",
       "      dtype='object')"
      ]
     },
     "execution_count": 19,
     "metadata": {},
     "output_type": "execute_result"
    }
   ],
   "source": [
    "may_b2c.columns"
   ]
  },
  {
   "cell_type": "code",
   "execution_count": 20,
   "metadata": {},
   "outputs": [],
   "source": [
    "# may_b2c.to_excel('may21b2c.xlsx')"
   ]
  },
  {
   "cell_type": "code",
   "execution_count": 21,
   "metadata": {},
   "outputs": [
    {
     "data": {
      "text/plain": [
       "40140.59"
      ]
     },
     "execution_count": 21,
     "metadata": {},
     "output_type": "execute_result"
    }
   ],
   "source": [
    "may_b2c[may_b2c['Buyer']=='One Classy Shop']['Subtotal'].sum()"
   ]
  },
  {
   "cell_type": "markdown",
   "metadata": {},
   "source": [
    "# June 2021 B2C"
   ]
  },
  {
   "cell_type": "code",
   "execution_count": 22,
   "metadata": {},
   "outputs": [],
   "source": [
    "june_b2c=pd.read_csv('june21b2c.csv')"
   ]
  },
  {
   "cell_type": "code",
   "execution_count": 23,
   "metadata": {},
   "outputs": [],
   "source": [
    "june_b2c=june_b2c.drop(columns={'Order URL', 'Item URL', 'Pending Until', 'Completed At','Markdown ID',\n",
    "                     'Item Creation', 'Shipping', 'Refunded', 'Promo Value', 'Markdown', 'Credit', 'Tax',\n",
    "                      'Payment Type', 'Credit Card (Stripe) ID', 'Paypal Transaction ID', 'Affirm Charge ID', \n",
    "                      'Seller Fee', 'Seller Label', 'Seller Shipping', 'Seller Refunded',\n",
    "                      'Seller Cashout', 'Seller Promo', 'Billing Name', 'Billing Line 1',\n",
    "                      'Billing Line 2', 'Billing City', 'Billing Region', 'Billing Postcode',\n",
    "                      'Billing Country', 'Buyer Shipping Name', 'Buyer Shipping Line 1',\n",
    "                      'Buyer Shipping Line 2', 'Buyer Shipping City', 'Buyer Shipping Region',\n",
    "                      'Buyer Shipping Postcode', 'Buyer Shipping Country', 'Phone',\n",
    "                      'Seller Shipping Name', 'Seller Shipping Line 1',\n",
    "                      'Seller Shipping Line 2', 'Seller Shipping City',\n",
    "                      'Seller Shipping Region', 'Seller Shipping Postcode',\n",
    "                      'Seller Shipping Country', 'Status', 'Cancellation Reason',\n",
    "                    'Reference', 'Order ID', 'Seller Email', 'Modified_At'})"
   ]
  },
  {
   "cell_type": "code",
   "execution_count": 24,
   "metadata": {},
   "outputs": [],
   "source": [
    "june_b2c.to_excel('june21b2c.xlsx')"
   ]
  },
  {
   "cell_type": "code",
   "execution_count": 25,
   "metadata": {},
   "outputs": [
    {
     "data": {
      "text/plain": [
       "13995.0"
      ]
     },
     "execution_count": 25,
     "metadata": {},
     "output_type": "execute_result"
    }
   ],
   "source": [
    "june_b2c[june_b2c['Buyer']=='One Classy Shop']['Subtotal'].sum()"
   ]
  },
  {
   "cell_type": "code",
   "execution_count": null,
   "metadata": {},
   "outputs": [],
   "source": []
  }
 ],
 "metadata": {
  "kernelspec": {
   "display_name": "Python 3",
   "language": "python",
   "name": "python3"
  },
  "language_info": {
   "codemirror_mode": {
    "name": "ipython",
    "version": 3
   },
   "file_extension": ".py",
   "mimetype": "text/x-python",
   "name": "python",
   "nbconvert_exporter": "python",
   "pygments_lexer": "ipython3",
   "version": "3.7.6"
  }
 },
 "nbformat": 4,
 "nbformat_minor": 4
}
