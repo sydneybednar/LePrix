{
 "cells": [
  {
   "cell_type": "markdown",
   "metadata": {},
   "source": [
    "# NEW Update Buyer/Supplier"
   ]
  },
  {
   "cell_type": "code",
   "execution_count": 1,
   "metadata": {},
   "outputs": [],
   "source": [
    "import pandas as pd\n",
    "import numpy as np\n",
    "import matplotlib.pyplot as plt\n",
    "from scipy import stats\n",
    "import statsmodels.api as sm\n",
    "import seaborn as sns\n",
    "import datetime"
   ]
  },
  {
   "cell_type": "code",
   "execution_count": 2,
   "metadata": {},
   "outputs": [],
   "source": [
    "buy_sell=pd.read_csv('buyer_seller.csv')"
   ]
  },
  {
   "cell_type": "code",
   "execution_count": 3,
   "metadata": {},
   "outputs": [],
   "source": [
    "rebuy=pd.read_csv('retailer_buyer_list.csv')"
   ]
  },
  {
   "cell_type": "code",
   "execution_count": 4,
   "metadata": {},
   "outputs": [
    {
     "data": {
      "text/html": [
       "<div>\n",
       "<style scoped>\n",
       "    .dataframe tbody tr th:only-of-type {\n",
       "        vertical-align: middle;\n",
       "    }\n",
       "\n",
       "    .dataframe tbody tr th {\n",
       "        vertical-align: top;\n",
       "    }\n",
       "\n",
       "    .dataframe thead th {\n",
       "        text-align: right;\n",
       "    }\n",
       "</style>\n",
       "<table border=\"1\" class=\"dataframe\">\n",
       "  <thead>\n",
       "    <tr style=\"text-align: right;\">\n",
       "      <th></th>\n",
       "      <th>QuoteID or Invoice ID</th>\n",
       "      <th>buyer_id</th>\n",
       "      <th>seller_id</th>\n",
       "      <th>Auction Flag</th>\n",
       "      <th>quote_created_at</th>\n",
       "      <th>item_id</th>\n",
       "      <th>total</th>\n",
       "      <th>cost</th>\n",
       "      <th>status</th>\n",
       "      <th>buyer</th>\n",
       "      <th>seller</th>\n",
       "      <th>Net Revenue</th>\n",
       "      <th>Company Name</th>\n",
       "      <th>wk</th>\n",
       "      <th>month</th>\n",
       "      <th>year</th>\n",
       "    </tr>\n",
       "  </thead>\n",
       "  <tbody>\n",
       "    <tr>\n",
       "      <th>0</th>\n",
       "      <td>LPE-204253-1902</td>\n",
       "      <td>204253</td>\n",
       "      <td>162784</td>\n",
       "      <td>Offline</td>\n",
       "      <td>2019-12-03</td>\n",
       "      <td>17149</td>\n",
       "      <td>1327.00</td>\n",
       "      <td>1154.49</td>\n",
       "      <td>Complete</td>\n",
       "      <td>Clotheshorse Anonymous TX</td>\n",
       "      <td>Marque Supply</td>\n",
       "      <td>172.51</td>\n",
       "      <td>Clotheshorse Anonymous TX</td>\n",
       "      <td>201949</td>\n",
       "      <td>201912</td>\n",
       "      <td>2019</td>\n",
       "    </tr>\n",
       "    <tr>\n",
       "      <th>1</th>\n",
       "      <td>LPE-204253-1902</td>\n",
       "      <td>204253</td>\n",
       "      <td>162784</td>\n",
       "      <td>Offline</td>\n",
       "      <td>2019-12-03</td>\n",
       "      <td>17609</td>\n",
       "      <td>537.00</td>\n",
       "      <td>467.19</td>\n",
       "      <td>Complete</td>\n",
       "      <td>Clotheshorse Anonymous TX</td>\n",
       "      <td>Marque Supply</td>\n",
       "      <td>69.81</td>\n",
       "      <td>Clotheshorse Anonymous TX</td>\n",
       "      <td>201949</td>\n",
       "      <td>201912</td>\n",
       "      <td>2019</td>\n",
       "    </tr>\n",
       "    <tr>\n",
       "      <th>2</th>\n",
       "      <td>LPE-204253-1902</td>\n",
       "      <td>204253</td>\n",
       "      <td>162784</td>\n",
       "      <td>Offline</td>\n",
       "      <td>2019-12-03</td>\n",
       "      <td>17486</td>\n",
       "      <td>937.00</td>\n",
       "      <td>815.19</td>\n",
       "      <td>Complete</td>\n",
       "      <td>Clotheshorse Anonymous TX</td>\n",
       "      <td>Marque Supply</td>\n",
       "      <td>121.81</td>\n",
       "      <td>Clotheshorse Anonymous TX</td>\n",
       "      <td>201949</td>\n",
       "      <td>201912</td>\n",
       "      <td>2019</td>\n",
       "    </tr>\n",
       "    <tr>\n",
       "      <th>3</th>\n",
       "      <td>LPE-204253-1902</td>\n",
       "      <td>204253</td>\n",
       "      <td>162784</td>\n",
       "      <td>Offline</td>\n",
       "      <td>2019-12-03</td>\n",
       "      <td>17413</td>\n",
       "      <td>667.00</td>\n",
       "      <td>580.29</td>\n",
       "      <td>Complete</td>\n",
       "      <td>Clotheshorse Anonymous TX</td>\n",
       "      <td>Marque Supply</td>\n",
       "      <td>86.71</td>\n",
       "      <td>Clotheshorse Anonymous TX</td>\n",
       "      <td>201949</td>\n",
       "      <td>201912</td>\n",
       "      <td>2019</td>\n",
       "    </tr>\n",
       "    <tr>\n",
       "      <th>4</th>\n",
       "      <td>LPE-92048-1901</td>\n",
       "      <td>92048</td>\n",
       "      <td>162784</td>\n",
       "      <td>Offline</td>\n",
       "      <td>2019-12-03</td>\n",
       "      <td>17464</td>\n",
       "      <td>667.00</td>\n",
       "      <td>580.29</td>\n",
       "      <td>Complete</td>\n",
       "      <td>Designer Revival</td>\n",
       "      <td>Marque Supply</td>\n",
       "      <td>86.71</td>\n",
       "      <td>Designer Revival</td>\n",
       "      <td>201949</td>\n",
       "      <td>201912</td>\n",
       "      <td>2019</td>\n",
       "    </tr>\n",
       "  </tbody>\n",
       "</table>\n",
       "</div>"
      ],
      "text/plain": [
       "  QuoteID or Invoice ID buyer_id seller_id Auction Flag quote_created_at  \\\n",
       "0       LPE-204253-1902   204253    162784      Offline       2019-12-03   \n",
       "1       LPE-204253-1902   204253    162784      Offline       2019-12-03   \n",
       "2       LPE-204253-1902   204253    162784      Offline       2019-12-03   \n",
       "3       LPE-204253-1902   204253    162784      Offline       2019-12-03   \n",
       "4        LPE-92048-1901    92048    162784      Offline       2019-12-03   \n",
       "\n",
       "  item_id    total     cost    status                      buyer  \\\n",
       "0   17149  1327.00  1154.49  Complete  Clotheshorse Anonymous TX   \n",
       "1   17609   537.00   467.19  Complete  Clotheshorse Anonymous TX   \n",
       "2   17486   937.00   815.19  Complete  Clotheshorse Anonymous TX   \n",
       "3   17413   667.00   580.29  Complete  Clotheshorse Anonymous TX   \n",
       "4   17464   667.00   580.29  Complete           Designer Revival   \n",
       "\n",
       "          seller Net Revenue               Company Name      wk   month  year  \n",
       "0  Marque Supply      172.51  Clotheshorse Anonymous TX  201949  201912  2019  \n",
       "1  Marque Supply       69.81  Clotheshorse Anonymous TX  201949  201912  2019  \n",
       "2  Marque Supply      121.81  Clotheshorse Anonymous TX  201949  201912  2019  \n",
       "3  Marque Supply       86.71  Clotheshorse Anonymous TX  201949  201912  2019  \n",
       "4  Marque Supply       86.71           Designer Revival  201949  201912  2019  "
      ]
     },
     "execution_count": 4,
     "metadata": {},
     "output_type": "execute_result"
    }
   ],
   "source": [
    "buy_sell.head()"
   ]
  },
  {
   "cell_type": "code",
   "execution_count": 5,
   "metadata": {},
   "outputs": [],
   "source": [
    "buy_sell['quote_created_at']=pd.to_datetime(buy_sell['quote_created_at'],  errors='coerce', format='%Y-%m-%d')\n",
    "buy_sell['total']=pd.to_numeric(buy_sell['total'], errors='coerce')\n",
    "buy_sell['cost']=pd.to_numeric(buy_sell['cost'], errors='coerce')"
   ]
  },
  {
   "cell_type": "markdown",
   "metadata": {},
   "source": [
    "## April"
   ]
  },
  {
   "cell_type": "code",
   "execution_count": 6,
   "metadata": {},
   "outputs": [],
   "source": [
    "april=buy_sell.loc[(buy_sell['month']=='202104')]"
   ]
  },
  {
   "cell_type": "code",
   "execution_count": 7,
   "metadata": {},
   "outputs": [],
   "source": [
    "april_new=april.groupby('buyer_id')['total'].sum().reset_index()"
   ]
  },
  {
   "cell_type": "code",
   "execution_count": 8,
   "metadata": {},
   "outputs": [],
   "source": [
    "april_new['buyer_id']=pd.to_numeric(april_new['buyer_id'])"
   ]
  },
  {
   "cell_type": "code",
   "execution_count": 9,
   "metadata": {},
   "outputs": [],
   "source": [
    "rebuy=rebuy[['User ID', 'Retailer Name']]"
   ]
  },
  {
   "cell_type": "code",
   "execution_count": 10,
   "metadata": {},
   "outputs": [
    {
     "data": {
      "text/plain": [
       "(343, 2)"
      ]
     },
     "execution_count": 10,
     "metadata": {},
     "output_type": "execute_result"
    }
   ],
   "source": [
    "rebuy.shape"
   ]
  },
  {
   "cell_type": "code",
   "execution_count": 11,
   "metadata": {},
   "outputs": [
    {
     "data": {
      "text/html": [
       "<div>\n",
       "<style scoped>\n",
       "    .dataframe tbody tr th:only-of-type {\n",
       "        vertical-align: middle;\n",
       "    }\n",
       "\n",
       "    .dataframe tbody tr th {\n",
       "        vertical-align: top;\n",
       "    }\n",
       "\n",
       "    .dataframe thead th {\n",
       "        text-align: right;\n",
       "    }\n",
       "</style>\n",
       "<table border=\"1\" class=\"dataframe\">\n",
       "  <thead>\n",
       "    <tr style=\"text-align: right;\">\n",
       "      <th></th>\n",
       "      <th>User ID</th>\n",
       "      <th>Retailer Name</th>\n",
       "      <th>buyer_id</th>\n",
       "      <th>total</th>\n",
       "    </tr>\n",
       "  </thead>\n",
       "  <tbody>\n",
       "    <tr>\n",
       "      <th>0</th>\n",
       "      <td>186104.0</td>\n",
       "      <td>sydney.s</td>\n",
       "      <td>186104.0</td>\n",
       "      <td>5466.0</td>\n",
       "    </tr>\n",
       "    <tr>\n",
       "      <th>1</th>\n",
       "      <td>182715.0</td>\n",
       "      <td>WGACA</td>\n",
       "      <td>182715.0</td>\n",
       "      <td>720.0</td>\n",
       "    </tr>\n",
       "    <tr>\n",
       "      <th>2</th>\n",
       "      <td>205200.0</td>\n",
       "      <td>jonathanriss</td>\n",
       "      <td>NaN</td>\n",
       "      <td>NaN</td>\n",
       "    </tr>\n",
       "    <tr>\n",
       "      <th>3</th>\n",
       "      <td>2829.0</td>\n",
       "      <td>Chic Girl</td>\n",
       "      <td>2829.0</td>\n",
       "      <td>10507.0</td>\n",
       "    </tr>\n",
       "    <tr>\n",
       "      <th>4</th>\n",
       "      <td>188669.0</td>\n",
       "      <td>Bag Borrow Steal</td>\n",
       "      <td>188669.0</td>\n",
       "      <td>43711.0</td>\n",
       "    </tr>\n",
       "  </tbody>\n",
       "</table>\n",
       "</div>"
      ],
      "text/plain": [
       "    User ID     Retailer Name  buyer_id    total\n",
       "0  186104.0          sydney.s  186104.0   5466.0\n",
       "1  182715.0             WGACA  182715.0    720.0\n",
       "2  205200.0      jonathanriss       NaN      NaN\n",
       "3    2829.0         Chic Girl    2829.0  10507.0\n",
       "4  188669.0  Bag Borrow Steal  188669.0  43711.0"
      ]
     },
     "execution_count": 11,
     "metadata": {},
     "output_type": "execute_result"
    }
   ],
   "source": [
    "apr_update=rebuy.merge(april_new, left_on='User ID', right_on='buyer_id', how='outer')\n",
    "\n",
    "apr_update.head()"
   ]
  },
  {
   "cell_type": "code",
   "execution_count": 12,
   "metadata": {},
   "outputs": [
    {
     "data": {
      "text/html": [
       "<div>\n",
       "<style scoped>\n",
       "    .dataframe tbody tr th:only-of-type {\n",
       "        vertical-align: middle;\n",
       "    }\n",
       "\n",
       "    .dataframe tbody tr th {\n",
       "        vertical-align: top;\n",
       "    }\n",
       "\n",
       "    .dataframe thead th {\n",
       "        text-align: right;\n",
       "    }\n",
       "</style>\n",
       "<table border=\"1\" class=\"dataframe\">\n",
       "  <thead>\n",
       "    <tr style=\"text-align: right;\">\n",
       "      <th></th>\n",
       "      <th>User ID</th>\n",
       "      <th>Retailer Name</th>\n",
       "      <th>buyer_id</th>\n",
       "      <th>total</th>\n",
       "    </tr>\n",
       "  </thead>\n",
       "  <tbody>\n",
       "    <tr>\n",
       "      <th>0</th>\n",
       "      <td>186104.0</td>\n",
       "      <td>sydney.s</td>\n",
       "      <td>186104.0</td>\n",
       "      <td>5466.0</td>\n",
       "    </tr>\n",
       "    <tr>\n",
       "      <th>1</th>\n",
       "      <td>182715.0</td>\n",
       "      <td>WGACA</td>\n",
       "      <td>182715.0</td>\n",
       "      <td>720.0</td>\n",
       "    </tr>\n",
       "    <tr>\n",
       "      <th>2</th>\n",
       "      <td>205200.0</td>\n",
       "      <td>jonathanriss</td>\n",
       "      <td>NaN</td>\n",
       "      <td>0.0</td>\n",
       "    </tr>\n",
       "    <tr>\n",
       "      <th>3</th>\n",
       "      <td>2829.0</td>\n",
       "      <td>Chic Girl</td>\n",
       "      <td>2829.0</td>\n",
       "      <td>10507.0</td>\n",
       "    </tr>\n",
       "    <tr>\n",
       "      <th>4</th>\n",
       "      <td>188669.0</td>\n",
       "      <td>Bag Borrow Steal</td>\n",
       "      <td>188669.0</td>\n",
       "      <td>43711.0</td>\n",
       "    </tr>\n",
       "  </tbody>\n",
       "</table>\n",
       "</div>"
      ],
      "text/plain": [
       "    User ID     Retailer Name  buyer_id    total\n",
       "0  186104.0          sydney.s  186104.0   5466.0\n",
       "1  182715.0             WGACA  182715.0    720.0\n",
       "2  205200.0      jonathanriss       NaN      0.0\n",
       "3    2829.0         Chic Girl    2829.0  10507.0\n",
       "4  188669.0  Bag Borrow Steal  188669.0  43711.0"
      ]
     },
     "execution_count": 12,
     "metadata": {},
     "output_type": "execute_result"
    }
   ],
   "source": [
    "apr_update['total']=apr_update['total'].fillna(0)\n",
    "apr_update.head()\n",
    "# apr_update.to_excel('april_gmv.xlsx')"
   ]
  },
  {
   "cell_type": "code",
   "execution_count": 13,
   "metadata": {},
   "outputs": [
    {
     "data": {
      "text/plain": [
       "1854808.0"
      ]
     },
     "execution_count": 13,
     "metadata": {},
     "output_type": "execute_result"
    }
   ],
   "source": [
    "apr_update['total'].sum()"
   ]
  },
  {
   "cell_type": "code",
   "execution_count": 14,
   "metadata": {},
   "outputs": [
    {
     "data": {
      "text/html": [
       "<div>\n",
       "<style scoped>\n",
       "    .dataframe tbody tr th:only-of-type {\n",
       "        vertical-align: middle;\n",
       "    }\n",
       "\n",
       "    .dataframe tbody tr th {\n",
       "        vertical-align: top;\n",
       "    }\n",
       "\n",
       "    .dataframe thead th {\n",
       "        text-align: right;\n",
       "    }\n",
       "</style>\n",
       "<table border=\"1\" class=\"dataframe\">\n",
       "  <thead>\n",
       "    <tr style=\"text-align: right;\">\n",
       "      <th></th>\n",
       "      <th>seller</th>\n",
       "      <th>total</th>\n",
       "      <th>item_count</th>\n",
       "    </tr>\n",
       "  </thead>\n",
       "  <tbody>\n",
       "    <tr>\n",
       "      <th>0</th>\n",
       "      <td>BrandJFA_WS</td>\n",
       "      <td>63062.0</td>\n",
       "      <td>44</td>\n",
       "    </tr>\n",
       "    <tr>\n",
       "      <th>1</th>\n",
       "      <td>BrandOff</td>\n",
       "      <td>85872.0</td>\n",
       "      <td>126</td>\n",
       "    </tr>\n",
       "    <tr>\n",
       "      <th>2</th>\n",
       "      <td>Camille+brandstreetTokyo</td>\n",
       "      <td>21297.0</td>\n",
       "      <td>45</td>\n",
       "    </tr>\n",
       "    <tr>\n",
       "      <th>3</th>\n",
       "      <td>DallasDesigner_wholesale</td>\n",
       "      <td>1255.0</td>\n",
       "      <td>1</td>\n",
       "    </tr>\n",
       "    <tr>\n",
       "      <th>4</th>\n",
       "      <td>Icone_WS</td>\n",
       "      <td>1843.0</td>\n",
       "      <td>4</td>\n",
       "    </tr>\n",
       "  </tbody>\n",
       "</table>\n",
       "</div>"
      ],
      "text/plain": [
       "                     seller    total  item_count\n",
       "0               BrandJFA_WS  63062.0          44\n",
       "1                  BrandOff  85872.0         126\n",
       "2  Camille+brandstreetTokyo  21297.0          45\n",
       "3  DallasDesigner_wholesale   1255.0           1\n",
       "4                  Icone_WS   1843.0           4"
      ]
     },
     "execution_count": 14,
     "metadata": {},
     "output_type": "execute_result"
    }
   ],
   "source": [
    "apr_sell=april.groupby('seller')['total'].sum().reset_index()\n",
    "apr_items=april.groupby('seller')['item_id'].count().rename('item_count').sort_values(ascending=False).reset_index()\n",
    "\n",
    "apr_seller=apr_sell.merge(apr_items)\n",
    "\n",
    "apr_seller.head()"
   ]
  },
  {
   "cell_type": "code",
   "execution_count": 15,
   "metadata": {},
   "outputs": [
    {
     "data": {
      "text/plain": [
       "1854808.0"
      ]
     },
     "execution_count": 15,
     "metadata": {},
     "output_type": "execute_result"
    }
   ],
   "source": [
    "apr_seller['total'].sum()"
   ]
  },
  {
   "cell_type": "code",
   "execution_count": 16,
   "metadata": {},
   "outputs": [],
   "source": [
    "supply=pd.read_csv('suppliers.csv')"
   ]
  },
  {
   "cell_type": "code",
   "execution_count": 17,
   "metadata": {},
   "outputs": [],
   "source": [
    "new_apr_sup=supply[['Seller ID', 'Supplier']].merge(apr_seller, left_on='Supplier', right_on='seller', how='outer')\n",
    "\n",
    "new_apr_sup[['total','item_count']]=new_apr_sup[['total','item_count']].fillna(0)"
   ]
  },
  {
   "cell_type": "code",
   "execution_count": 18,
   "metadata": {},
   "outputs": [],
   "source": [
    "# new_apr_sup.to_excel('april_supp.xlsx')"
   ]
  },
  {
   "cell_type": "markdown",
   "metadata": {},
   "source": [
    "## May"
   ]
  },
  {
   "cell_type": "code",
   "execution_count": 19,
   "metadata": {},
   "outputs": [
    {
     "data": {
      "text/html": [
       "<div>\n",
       "<style scoped>\n",
       "    .dataframe tbody tr th:only-of-type {\n",
       "        vertical-align: middle;\n",
       "    }\n",
       "\n",
       "    .dataframe tbody tr th {\n",
       "        vertical-align: top;\n",
       "    }\n",
       "\n",
       "    .dataframe thead th {\n",
       "        text-align: right;\n",
       "    }\n",
       "</style>\n",
       "<table border=\"1\" class=\"dataframe\">\n",
       "  <thead>\n",
       "    <tr style=\"text-align: right;\">\n",
       "      <th></th>\n",
       "      <th>User ID</th>\n",
       "      <th>Retailer Name</th>\n",
       "    </tr>\n",
       "  </thead>\n",
       "  <tbody>\n",
       "    <tr>\n",
       "      <th>0</th>\n",
       "      <td>186104</td>\n",
       "      <td>sydney.s</td>\n",
       "    </tr>\n",
       "    <tr>\n",
       "      <th>1</th>\n",
       "      <td>182715</td>\n",
       "      <td>WGACA</td>\n",
       "    </tr>\n",
       "    <tr>\n",
       "      <th>2</th>\n",
       "      <td>205200</td>\n",
       "      <td>jonathanriss</td>\n",
       "    </tr>\n",
       "    <tr>\n",
       "      <th>3</th>\n",
       "      <td>2829</td>\n",
       "      <td>Chic Girl</td>\n",
       "    </tr>\n",
       "    <tr>\n",
       "      <th>4</th>\n",
       "      <td>188669</td>\n",
       "      <td>Bag Borrow Steal</td>\n",
       "    </tr>\n",
       "  </tbody>\n",
       "</table>\n",
       "</div>"
      ],
      "text/plain": [
       "   User ID     Retailer Name\n",
       "0   186104          sydney.s\n",
       "1   182715             WGACA\n",
       "2   205200      jonathanriss\n",
       "3     2829         Chic Girl\n",
       "4   188669  Bag Borrow Steal"
      ]
     },
     "execution_count": 19,
     "metadata": {},
     "output_type": "execute_result"
    }
   ],
   "source": [
    "rebuy=rebuy[['User ID', 'Retailer Name']]\n",
    "rebuy.head()"
   ]
  },
  {
   "cell_type": "code",
   "execution_count": 20,
   "metadata": {},
   "outputs": [],
   "source": [
    "may=buy_sell.loc[buy_sell['month']=='202105']"
   ]
  },
  {
   "cell_type": "code",
   "execution_count": 21,
   "metadata": {},
   "outputs": [],
   "source": [
    "may_new=may.groupby(['buyer_id'])['total'].sum().reset_index()"
   ]
  },
  {
   "cell_type": "code",
   "execution_count": 22,
   "metadata": {},
   "outputs": [],
   "source": [
    "may_new['buyer_id']=pd.to_numeric(may_new['buyer_id'])"
   ]
  },
  {
   "cell_type": "code",
   "execution_count": 23,
   "metadata": {},
   "outputs": [
    {
     "data": {
      "text/plain": [
       "1761349.83"
      ]
     },
     "execution_count": 23,
     "metadata": {},
     "output_type": "execute_result"
    }
   ],
   "source": [
    "may_new['total'].sum()"
   ]
  },
  {
   "cell_type": "code",
   "execution_count": 24,
   "metadata": {},
   "outputs": [
    {
     "data": {
      "text/html": [
       "<div>\n",
       "<style scoped>\n",
       "    .dataframe tbody tr th:only-of-type {\n",
       "        vertical-align: middle;\n",
       "    }\n",
       "\n",
       "    .dataframe tbody tr th {\n",
       "        vertical-align: top;\n",
       "    }\n",
       "\n",
       "    .dataframe thead th {\n",
       "        text-align: right;\n",
       "    }\n",
       "</style>\n",
       "<table border=\"1\" class=\"dataframe\">\n",
       "  <thead>\n",
       "    <tr style=\"text-align: right;\">\n",
       "      <th></th>\n",
       "      <th>User ID</th>\n",
       "      <th>Retailer Name</th>\n",
       "      <th>buyer_id</th>\n",
       "      <th>total</th>\n",
       "    </tr>\n",
       "  </thead>\n",
       "  <tbody>\n",
       "    <tr>\n",
       "      <th>0</th>\n",
       "      <td>186104.0</td>\n",
       "      <td>sydney.s</td>\n",
       "      <td>NaN</td>\n",
       "      <td>NaN</td>\n",
       "    </tr>\n",
       "    <tr>\n",
       "      <th>1</th>\n",
       "      <td>182715.0</td>\n",
       "      <td>WGACA</td>\n",
       "      <td>182715.0</td>\n",
       "      <td>69103.0</td>\n",
       "    </tr>\n",
       "    <tr>\n",
       "      <th>2</th>\n",
       "      <td>205200.0</td>\n",
       "      <td>jonathanriss</td>\n",
       "      <td>NaN</td>\n",
       "      <td>NaN</td>\n",
       "    </tr>\n",
       "    <tr>\n",
       "      <th>3</th>\n",
       "      <td>2829.0</td>\n",
       "      <td>Chic Girl</td>\n",
       "      <td>2829.0</td>\n",
       "      <td>2774.0</td>\n",
       "    </tr>\n",
       "    <tr>\n",
       "      <th>4</th>\n",
       "      <td>188669.0</td>\n",
       "      <td>Bag Borrow Steal</td>\n",
       "      <td>188669.0</td>\n",
       "      <td>124503.0</td>\n",
       "    </tr>\n",
       "  </tbody>\n",
       "</table>\n",
       "</div>"
      ],
      "text/plain": [
       "    User ID     Retailer Name  buyer_id     total\n",
       "0  186104.0          sydney.s       NaN       NaN\n",
       "1  182715.0             WGACA  182715.0   69103.0\n",
       "2  205200.0      jonathanriss       NaN       NaN\n",
       "3    2829.0         Chic Girl    2829.0    2774.0\n",
       "4  188669.0  Bag Borrow Steal  188669.0  124503.0"
      ]
     },
     "execution_count": 24,
     "metadata": {},
     "output_type": "execute_result"
    }
   ],
   "source": [
    "may_update=rebuy.merge(may_new, left_on='User ID', right_on='buyer_id', how='outer')\n",
    "\n",
    "may_update.head()"
   ]
  },
  {
   "cell_type": "code",
   "execution_count": 25,
   "metadata": {},
   "outputs": [],
   "source": [
    "may_update['total']=may_update['total'].fillna(0)\n",
    "\n",
    "# may_update.to_excel('may_gmv.xlsx')"
   ]
  },
  {
   "cell_type": "code",
   "execution_count": 26,
   "metadata": {},
   "outputs": [
    {
     "data": {
      "text/plain": [
       "1761349.83"
      ]
     },
     "execution_count": 26,
     "metadata": {},
     "output_type": "execute_result"
    }
   ],
   "source": [
    "may['total'].sum()"
   ]
  },
  {
   "cell_type": "code",
   "execution_count": 27,
   "metadata": {},
   "outputs": [
    {
     "data": {
      "text/plain": [
       "1761349.8299999998"
      ]
     },
     "execution_count": 27,
     "metadata": {},
     "output_type": "execute_result"
    }
   ],
   "source": [
    "may_update['total'].sum()"
   ]
  },
  {
   "cell_type": "code",
   "execution_count": 28,
   "metadata": {},
   "outputs": [],
   "source": [
    "# new_list=list(may_update['buyer'][343:359])"
   ]
  },
  {
   "cell_type": "code",
   "execution_count": 29,
   "metadata": {},
   "outputs": [],
   "source": [
    "# dict={}\n",
    "# for n in new_list:\n",
    "#     id=list(may[may['buyer']==n]['buyer_id'])\n",
    "#     dict[n]=id\n",
    "# dict"
   ]
  },
  {
   "cell_type": "code",
   "execution_count": 30,
   "metadata": {},
   "outputs": [],
   "source": [
    "# bout=pd.read_csv('snobswapboutiques.csv')\n",
    "# bout['Username']=bout['Username'].str.lower()\n",
    "\n",
    "# bout_list=list(bout['Username'])\n",
    "\n",
    "# new=may_update.drop(list(may_update.loc[may_update['buyer'].isin(bout_list)].index))\n",
    "\n",
    "# new.shape"
   ]
  },
  {
   "cell_type": "code",
   "execution_count": 31,
   "metadata": {},
   "outputs": [
    {
     "data": {
      "text/html": [
       "<div>\n",
       "<style scoped>\n",
       "    .dataframe tbody tr th:only-of-type {\n",
       "        vertical-align: middle;\n",
       "    }\n",
       "\n",
       "    .dataframe tbody tr th {\n",
       "        vertical-align: top;\n",
       "    }\n",
       "\n",
       "    .dataframe thead th {\n",
       "        text-align: right;\n",
       "    }\n",
       "</style>\n",
       "<table border=\"1\" class=\"dataframe\">\n",
       "  <thead>\n",
       "    <tr style=\"text-align: right;\">\n",
       "      <th></th>\n",
       "      <th>seller_id</th>\n",
       "      <th>total</th>\n",
       "      <th>item_count</th>\n",
       "    </tr>\n",
       "  </thead>\n",
       "  <tbody>\n",
       "    <tr>\n",
       "      <th>0</th>\n",
       "      <td>196448</td>\n",
       "      <td>540275.0</td>\n",
       "      <td>1067</td>\n",
       "    </tr>\n",
       "    <tr>\n",
       "      <th>1</th>\n",
       "      <td>198548</td>\n",
       "      <td>121387.0</td>\n",
       "      <td>340</td>\n",
       "    </tr>\n",
       "    <tr>\n",
       "      <th>2</th>\n",
       "      <td>199622</td>\n",
       "      <td>29810.0</td>\n",
       "      <td>76</td>\n",
       "    </tr>\n",
       "    <tr>\n",
       "      <th>3</th>\n",
       "      <td>199623</td>\n",
       "      <td>28632.0</td>\n",
       "      <td>42</td>\n",
       "    </tr>\n",
       "    <tr>\n",
       "      <th>4</th>\n",
       "      <td>199748</td>\n",
       "      <td>13217.0</td>\n",
       "      <td>13</td>\n",
       "    </tr>\n",
       "  </tbody>\n",
       "</table>\n",
       "</div>"
      ],
      "text/plain": [
       "  seller_id     total  item_count\n",
       "0    196448  540275.0        1067\n",
       "1    198548  121387.0         340\n",
       "2    199622   29810.0          76\n",
       "3    199623   28632.0          42\n",
       "4    199748   13217.0          13"
      ]
     },
     "execution_count": 31,
     "metadata": {},
     "output_type": "execute_result"
    }
   ],
   "source": [
    "may_sell=may.groupby('seller_id')['total'].sum().reset_index()\n",
    "\n",
    "may_items=may.groupby('seller_id')['item_id'].count().rename('item_count').sort_values(ascending=False).reset_index()\n",
    "\n",
    "may_seller=may_sell.merge(may_items)\n",
    "\n",
    "may_seller.head()"
   ]
  },
  {
   "cell_type": "code",
   "execution_count": 37,
   "metadata": {},
   "outputs": [
    {
     "data": {
      "text/html": [
       "<div>\n",
       "<style scoped>\n",
       "    .dataframe tbody tr th:only-of-type {\n",
       "        vertical-align: middle;\n",
       "    }\n",
       "\n",
       "    .dataframe tbody tr th {\n",
       "        vertical-align: top;\n",
       "    }\n",
       "\n",
       "    .dataframe thead th {\n",
       "        text-align: right;\n",
       "    }\n",
       "</style>\n",
       "<table border=\"1\" class=\"dataframe\">\n",
       "  <thead>\n",
       "    <tr style=\"text-align: right;\">\n",
       "      <th></th>\n",
       "      <th>Seller ID</th>\n",
       "      <th>Supplier</th>\n",
       "      <th>seller_id</th>\n",
       "      <th>total</th>\n",
       "      <th>item_count</th>\n",
       "    </tr>\n",
       "  </thead>\n",
       "  <tbody>\n",
       "    <tr>\n",
       "      <th>4</th>\n",
       "      <td>196448</td>\n",
       "      <td>aucnet</td>\n",
       "      <td>196448</td>\n",
       "      <td>540275.0</td>\n",
       "      <td>1067.0</td>\n",
       "    </tr>\n",
       "    <tr>\n",
       "      <th>8</th>\n",
       "      <td>204780</td>\n",
       "      <td>SOU</td>\n",
       "      <td>204780</td>\n",
       "      <td>198914.0</td>\n",
       "      <td>190.0</td>\n",
       "    </tr>\n",
       "    <tr>\n",
       "      <th>39</th>\n",
       "      <td>215997</td>\n",
       "      <td>camille+ecoring</td>\n",
       "      <td>215997</td>\n",
       "      <td>150290.0</td>\n",
       "      <td>297.0</td>\n",
       "    </tr>\n",
       "    <tr>\n",
       "      <th>3</th>\n",
       "      <td>198548</td>\n",
       "      <td>Next Innovation</td>\n",
       "      <td>198548</td>\n",
       "      <td>121387.0</td>\n",
       "      <td>340.0</td>\n",
       "    </tr>\n",
       "    <tr>\n",
       "      <th>34</th>\n",
       "      <td>215421</td>\n",
       "      <td>RS_JapanWholesale</td>\n",
       "      <td>215421</td>\n",
       "      <td>97396.0</td>\n",
       "      <td>59.0</td>\n",
       "    </tr>\n",
       "  </tbody>\n",
       "</table>\n",
       "</div>"
      ],
      "text/plain": [
       "   Seller ID           Supplier seller_id     total  item_count\n",
       "4     196448             aucnet    196448  540275.0      1067.0\n",
       "8     204780                SOU    204780  198914.0       190.0\n",
       "39    215997    camille+ecoring    215997  150290.0       297.0\n",
       "3     198548    Next Innovation    198548  121387.0       340.0\n",
       "34    215421  RS_JapanWholesale    215421   97396.0        59.0"
      ]
     },
     "execution_count": 37,
     "metadata": {},
     "output_type": "execute_result"
    }
   ],
   "source": [
    "new_may_sup=supply[['Seller ID', 'Supplier']].merge(may_seller, left_on='Seller ID', right_on='seller_id', how='outer')\n",
    "\n",
    "new_may_sup[['total','item_count']]=new_may_sup[['total','item_count']].fillna(0)\n",
    "\n",
    "new_may_sup.sort_values(by='total',ascending=False).head()"
   ]
  },
  {
   "cell_type": "code",
   "execution_count": 38,
   "metadata": {},
   "outputs": [
    {
     "data": {
      "text/plain": [
       "1761349.83"
      ]
     },
     "execution_count": 38,
     "metadata": {},
     "output_type": "execute_result"
    }
   ],
   "source": [
    "new_may_sup['total'].sum()"
   ]
  },
  {
   "cell_type": "code",
   "execution_count": 39,
   "metadata": {},
   "outputs": [],
   "source": [
    "# new_may_sup.to_excel('may_supp.xlsx')"
   ]
  },
  {
   "cell_type": "code",
   "execution_count": null,
   "metadata": {},
   "outputs": [],
   "source": []
  }
 ],
 "metadata": {
  "kernelspec": {
   "display_name": "Python 3",
   "language": "python",
   "name": "python3"
  },
  "language_info": {
   "codemirror_mode": {
    "name": "ipython",
    "version": 3
   },
   "file_extension": ".py",
   "mimetype": "text/x-python",
   "name": "python",
   "nbconvert_exporter": "python",
   "pygments_lexer": "ipython3",
   "version": "3.7.6"
  }
 },
 "nbformat": 4,
 "nbformat_minor": 4
}
