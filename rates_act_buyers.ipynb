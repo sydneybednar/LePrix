{
 "cells": [
  {
   "cell_type": "markdown",
   "metadata": {},
   "source": [
    "# Active Buyer Rates"
   ]
  },
  {
   "cell_type": "code",
   "execution_count": 1,
   "metadata": {},
   "outputs": [],
   "source": [
    "import pandas as pd\n",
    "import numpy as np\n",
    "import matplotlib.pyplot as plt\n",
    "from scipy import stats\n",
    "import statsmodels.api as sm\n",
    "import seaborn as sns\n",
    "import datetime"
   ]
  },
  {
   "cell_type": "code",
   "execution_count": 2,
   "metadata": {},
   "outputs": [],
   "source": [
    "bid=pd.read_excel('bid19to21.xlsx')\n",
    "stock=pd.read_excel('stock19to21.xlsx')"
   ]
  },
  {
   "cell_type": "code",
   "execution_count": 3,
   "metadata": {},
   "outputs": [
    {
     "data": {
      "text/plain": [
       "Index(['Unnamed: 0', 'seller_username', 'seller_id', 'buyer_username',\n",
       "       'buyer_id', 'item_id', 'title', 'brand_name', 'category_name',\n",
       "       'overall_grade', 'min_bid', 'bid', 'winning_bid', 'bid_placed',\n",
       "       'main_image', 'win'],\n",
       "      dtype='object')"
      ]
     },
     "execution_count": 3,
     "metadata": {},
     "output_type": "execute_result"
    }
   ],
   "source": [
    "bid.columns"
   ]
  },
  {
   "cell_type": "code",
   "execution_count": 4,
   "metadata": {},
   "outputs": [
    {
     "data": {
      "text/html": [
       "<div>\n",
       "<style scoped>\n",
       "    .dataframe tbody tr th:only-of-type {\n",
       "        vertical-align: middle;\n",
       "    }\n",
       "\n",
       "    .dataframe tbody tr th {\n",
       "        vertical-align: top;\n",
       "    }\n",
       "\n",
       "    .dataframe thead th {\n",
       "        text-align: right;\n",
       "    }\n",
       "</style>\n",
       "<table border=\"1\" class=\"dataframe\">\n",
       "  <thead>\n",
       "    <tr style=\"text-align: right;\">\n",
       "      <th></th>\n",
       "      <th>Unnamed: 0</th>\n",
       "      <th>seller_username</th>\n",
       "      <th>seller_id</th>\n",
       "      <th>buyer_username</th>\n",
       "      <th>buyer_id</th>\n",
       "      <th>item_id</th>\n",
       "      <th>title</th>\n",
       "      <th>brand_name</th>\n",
       "      <th>category_name</th>\n",
       "      <th>overall_grade</th>\n",
       "      <th>min_bid</th>\n",
       "      <th>bid</th>\n",
       "      <th>winning_bid</th>\n",
       "      <th>bid_placed</th>\n",
       "      <th>main_image</th>\n",
       "      <th>win</th>\n",
       "    </tr>\n",
       "  </thead>\n",
       "  <tbody>\n",
       "    <tr>\n",
       "      <th>0</th>\n",
       "      <td>0</td>\n",
       "      <td>aucnet</td>\n",
       "      <td>196448</td>\n",
       "      <td>quick consignment</td>\n",
       "      <td>34802</td>\n",
       "      <td>973197</td>\n",
       "      <td>M93448 Atsui MM</td>\n",
       "      <td>Louis Vuitton</td>\n",
       "      <td>Totes</td>\n",
       "      <td>B</td>\n",
       "      <td>1132.84</td>\n",
       "      <td>1555.0</td>\n",
       "      <td>1540.55</td>\n",
       "      <td>2019-01-06 09:50:23</td>\n",
       "      <td>https://img.leprix.com/image/huohp4xlM2aNy25hl...</td>\n",
       "      <td>Y</td>\n",
       "    </tr>\n",
       "    <tr>\n",
       "      <th>1</th>\n",
       "      <td>1</td>\n",
       "      <td>aucnet</td>\n",
       "      <td>196448</td>\n",
       "      <td>paul.s</td>\n",
       "      <td>186106</td>\n",
       "      <td>973213</td>\n",
       "      <td>TENDOVU PM</td>\n",
       "      <td>Louis Vuitton</td>\n",
       "      <td>Shoulder Bags</td>\n",
       "      <td>C</td>\n",
       "      <td>202.62</td>\n",
       "      <td>306.0</td>\n",
       "      <td>443.61</td>\n",
       "      <td>2019-01-04 12:52:04</td>\n",
       "      <td>https://img.leprix.com/image/kSmcIiogLJQpcO24k...</td>\n",
       "      <td>N</td>\n",
       "    </tr>\n",
       "    <tr>\n",
       "      <th>2</th>\n",
       "      <td>2</td>\n",
       "      <td>aucnet</td>\n",
       "      <td>196448</td>\n",
       "      <td>magdalena.t</td>\n",
       "      <td>196771</td>\n",
       "      <td>973229</td>\n",
       "      <td>8BR631 Chain shoulder Brown G fitting</td>\n",
       "      <td>Fendi</td>\n",
       "      <td>Shoulder Bags</td>\n",
       "      <td>B</td>\n",
       "      <td>92.10</td>\n",
       "      <td>256.0</td>\n",
       "      <td>256.00</td>\n",
       "      <td>2019-01-04 12:54:25</td>\n",
       "      <td>https://img.leprix.com/image/2c0rjIAJLXPkIJaqS...</td>\n",
       "      <td>Y</td>\n",
       "    </tr>\n",
       "    <tr>\n",
       "      <th>3</th>\n",
       "      <td>3</td>\n",
       "      <td>aucnet</td>\n",
       "      <td>196448</td>\n",
       "      <td>magdalena.t</td>\n",
       "      <td>196771</td>\n",
       "      <td>973232</td>\n",
       "      <td>189749 Shoulder bag Brown S bracket</td>\n",
       "      <td>Gucci</td>\n",
       "      <td>Shoulder Bags</td>\n",
       "      <td>B</td>\n",
       "      <td>165.78</td>\n",
       "      <td>266.0</td>\n",
       "      <td>422.92</td>\n",
       "      <td>2019-01-04 15:39:31</td>\n",
       "      <td>https://img.leprix.com/image/wP9Pw5OmpNB2TXv5r...</td>\n",
       "      <td>N</td>\n",
       "    </tr>\n",
       "    <tr>\n",
       "      <th>4</th>\n",
       "      <td>4</td>\n",
       "      <td>aucnet</td>\n",
       "      <td>196448</td>\n",
       "      <td>paul.s</td>\n",
       "      <td>186106</td>\n",
       "      <td>973285</td>\n",
       "      <td>Medium Quilted Chain Shoulder Black</td>\n",
       "      <td>Chanel</td>\n",
       "      <td>Shoulder Bags</td>\n",
       "      <td>C</td>\n",
       "      <td>994.69</td>\n",
       "      <td>1305.0</td>\n",
       "      <td>1302.54</td>\n",
       "      <td>2019-01-04 12:20:33</td>\n",
       "      <td>https://img.leprix.com/image/VU44cxW1rCKoH4v2K...</td>\n",
       "      <td>Y</td>\n",
       "    </tr>\n",
       "  </tbody>\n",
       "</table>\n",
       "</div>"
      ],
      "text/plain": [
       "   Unnamed: 0 seller_username  seller_id     buyer_username  buyer_id  \\\n",
       "0           0          aucnet     196448  quick consignment     34802   \n",
       "1           1          aucnet     196448             paul.s    186106   \n",
       "2           2          aucnet     196448        magdalena.t    196771   \n",
       "3           3          aucnet     196448        magdalena.t    196771   \n",
       "4           4          aucnet     196448             paul.s    186106   \n",
       "\n",
       "   item_id                                  title     brand_name  \\\n",
       "0   973197                        M93448 Atsui MM  Louis Vuitton   \n",
       "1   973213                             TENDOVU PM  Louis Vuitton   \n",
       "2   973229  8BR631 Chain shoulder Brown G fitting          Fendi   \n",
       "3   973232    189749 Shoulder bag Brown S bracket          Gucci   \n",
       "4   973285    Medium Quilted Chain Shoulder Black         Chanel   \n",
       "\n",
       "   category_name overall_grade  min_bid     bid  winning_bid  \\\n",
       "0          Totes             B  1132.84  1555.0      1540.55   \n",
       "1  Shoulder Bags             C   202.62   306.0       443.61   \n",
       "2  Shoulder Bags             B    92.10   256.0       256.00   \n",
       "3  Shoulder Bags             B   165.78   266.0       422.92   \n",
       "4  Shoulder Bags             C   994.69  1305.0      1302.54   \n",
       "\n",
       "           bid_placed                                         main_image win  \n",
       "0 2019-01-06 09:50:23  https://img.leprix.com/image/huohp4xlM2aNy25hl...   Y  \n",
       "1 2019-01-04 12:52:04  https://img.leprix.com/image/kSmcIiogLJQpcO24k...   N  \n",
       "2 2019-01-04 12:54:25  https://img.leprix.com/image/2c0rjIAJLXPkIJaqS...   Y  \n",
       "3 2019-01-04 15:39:31  https://img.leprix.com/image/wP9Pw5OmpNB2TXv5r...   N  \n",
       "4 2019-01-04 12:20:33  https://img.leprix.com/image/VU44cxW1rCKoH4v2K...   Y  "
      ]
     },
     "execution_count": 4,
     "metadata": {},
     "output_type": "execute_result"
    }
   ],
   "source": [
    "bid['buyer_username']=bid['buyer_username'].str.lower()\n",
    "bid['win']='N'\n",
    "bid.loc[bid['bid']>=bid['winning_bid'], 'win']='Y'\n",
    "bid.head()"
   ]
  },
  {
   "cell_type": "code",
   "execution_count": 5,
   "metadata": {},
   "outputs": [
    {
     "data": {
      "text/plain": [
       "Index(['seller_username', 'seller_id', 'buyer_username', 'buyer_id', 'item_id',\n",
       "       'title', 'brand_name', 'category_name', 'overall_grade', 'price',\n",
       "       'submitted_date', 'main_image'],\n",
       "      dtype='object')"
      ]
     },
     "execution_count": 5,
     "metadata": {},
     "output_type": "execute_result"
    }
   ],
   "source": [
    "stock.columns"
   ]
  },
  {
   "cell_type": "code",
   "execution_count": 6,
   "metadata": {},
   "outputs": [],
   "source": [
    "stock['buyer_username']=stock['buyer_username'].str.lower()"
   ]
  },
  {
   "cell_type": "code",
   "execution_count": 7,
   "metadata": {},
   "outputs": [],
   "source": [
    "# stock.to_excel('stock19to21.xlsx')\n",
    "# bid.to_excel('bid19to21.xlsx')"
   ]
  },
  {
   "cell_type": "code",
   "execution_count": 8,
   "metadata": {},
   "outputs": [],
   "source": [
    "bid['bid_placed']=pd.to_datetime(bid['bid_placed'])\n",
    "stock['submitted_date']=pd.to_datetime(stock['submitted_date'])"
   ]
  },
  {
   "cell_type": "code",
   "execution_count": 9,
   "metadata": {},
   "outputs": [],
   "source": [
    "bid_act=pd.DataFrame(bid[bid['win']=='Y']['buyer_username'].unique())\n",
    "stock_act=pd.DataFrame(stock['buyer_username'].unique())\n",
    "\n",
    "active_all=bid_act.merge(stock_act, how='outer')\n",
    "# active_all.to_excel('active_accts.xlsx')"
   ]
  },
  {
   "cell_type": "code",
   "execution_count": 10,
   "metadata": {},
   "outputs": [],
   "source": [
    "may_b=bid[(bid['bid_placed'].dt.month.isin([3,4,5]))&(bid['bid_placed'].dt.year==2021)]\n",
    "may_s=stock[(stock['submitted_date'].dt.month.isin([3,4,5]))&(stock['submitted_date'].dt.year==2021)]"
   ]
  },
  {
   "cell_type": "code",
   "execution_count": 11,
   "metadata": {},
   "outputs": [],
   "source": [
    "bidders=pd.DataFrame(may_b['buyer_username'].unique())\n",
    "stockers=pd.DataFrame(may_s['buyer_username'].unique())"
   ]
  },
  {
   "cell_type": "code",
   "execution_count": 12,
   "metadata": {},
   "outputs": [],
   "source": [
    "active_may=bidders.merge(stockers, how='outer')"
   ]
  },
  {
   "cell_type": "code",
   "execution_count": 13,
   "metadata": {},
   "outputs": [
    {
     "data": {
      "text/plain": [
       "(174, 1)"
      ]
     },
     "execution_count": 13,
     "metadata": {},
     "output_type": "execute_result"
    }
   ],
   "source": [
    "active_may.shape"
   ]
  },
  {
   "cell_type": "code",
   "execution_count": 14,
   "metadata": {},
   "outputs": [],
   "source": [
    "# set range of dates from may 2020-april 2021 (don't include may)\n",
    "may_year_b=bid[(bid['bid_placed']<datetime.datetime(2021,5,1))&\n",
    "               (bid['bid_placed']>datetime.datetime(2020,5,1))]\n",
    "may_year_s=stock[(stock['submitted_date']<datetime.datetime(2021,5,1)) & \n",
    "                (stock['submitted_date']>datetime.datetime(2020,5,1))]\n",
    "\n",
    "year_bid=pd.DataFrame(may_year_b['buyer_username'].unique())\n",
    "year_stock=pd.DataFrame(may_year_s['buyer_username'].unique())\n",
    "\n",
    "active_year=year_bid.merge(year_stock, how='outer')"
   ]
  },
  {
   "cell_type": "code",
   "execution_count": 15,
   "metadata": {},
   "outputs": [],
   "source": [
    "active_may=active_may[active_may[0].isin(list(active_year[0]))]"
   ]
  },
  {
   "cell_type": "code",
   "execution_count": 16,
   "metadata": {},
   "outputs": [
    {
     "data": {
      "text/plain": [
       "(167, 1)"
      ]
     },
     "execution_count": 16,
     "metadata": {},
     "output_type": "execute_result"
    }
   ],
   "source": [
    "active_may.shape"
   ]
  },
  {
   "cell_type": "code",
   "execution_count": 17,
   "metadata": {},
   "outputs": [
    {
     "name": "stdout",
     "output_type": "stream",
     "text": [
      "3 Month Rolling Active Buyer Rate March-May 2021 ALL BIDS: 54.75%\n"
     ]
    }
   ],
   "source": [
    "print('3 Month Rolling Active Buyer Rate March-May 2021 ALL BIDS: {:.2f}%'.format(len(active_may)/len(active_year)*100))"
   ]
  },
  {
   "cell_type": "code",
   "execution_count": 18,
   "metadata": {},
   "outputs": [
    {
     "name": "stdout",
     "output_type": "stream",
     "text": [
      "3 Month Active Buyer Rate 12/2020-2/2021: 45.75%\n"
     ]
    }
   ],
   "source": [
    "def active_rate_3(bid, stock, month, year):\n",
    "    \"\"\"\n",
    "    Prints 3 month rolling active buyer rate\n",
    "    \n",
    "    Parameter bid: the past bidding df\n",
    "    Precondition: bid is a df\n",
    "    \n",
    "    Parameter stock: the past stock quotes df\n",
    "    Precondition: stock is a df\n",
    "    \n",
    "    Parameter month: the end month to determine rate\n",
    "    Precondition: month is an int between 1 and 12 \n",
    "    \n",
    "    Parameter year: the year to determine rate\n",
    "    Precondition: year is an int formatted with century (i.e. 2021)\n",
    "    \"\"\"\n",
    "    # only look at bidders who won and stock buyers\n",
    "    bid=bid[(bid['win']=='Y')]       \n",
    "    \n",
    "    # set start month,year and end month,year\n",
    "    if month<3:\n",
    "        start_m=month-2+12\n",
    "        start_yr=year-1\n",
    "    else:\n",
    "        start_m=month-2\n",
    "        start_yr=year\n",
    "    if month==12:\n",
    "        end_m=1\n",
    "        end_yr=year+1\n",
    "    else:\n",
    "        end_m=month+1\n",
    "        end_yr=year\n",
    "    \n",
    "    # set date to 3 month period    \n",
    "    b=bid[(bid['bid_placed']>datetime.datetime(start_yr, start_m, 1))&(bid['bid_placed']<datetime.datetime(end_yr,end_m,1))]\n",
    "    s=stock[(stock['submitted_date']>datetime.datetime(start_yr, start_m, 1))&(stock['submitted_date']<datetime.datetime(end_yr,end_m,1))]\n",
    "    \n",
    "    # unique buyers from bid and stock over 3 month period\n",
    "    bidders=pd.DataFrame(b['buyer_username'].unique())\n",
    "    stockers=pd.DataFrame(s['buyer_username'].unique())\n",
    "    \n",
    "    active=bidders.merge(stockers, how='outer')\n",
    "    \n",
    "    # set date to rolling 12 months prior (month in the year prior up to but not including the current month)\n",
    "    year_b=bid[(bid['bid_placed']<datetime.datetime(year,month,1))&\n",
    "               (bid['bid_placed']>datetime.datetime(year-1,month,1))]\n",
    "    year_s=stock[(stock['submitted_date']<datetime.datetime(year,month,1)) & \n",
    "                (stock['submitted_date']>datetime.datetime(year-1,month,1))]\n",
    "    \n",
    "    # unique buyers from bid and stock over rolling 12 months prior\n",
    "    year_bid=pd.DataFrame(year_b['buyer_username'].unique())\n",
    "    year_stock=pd.DataFrame(year_s['buyer_username'].unique())\n",
    "\n",
    "    active_year=year_bid.merge(year_stock, how='outer')\n",
    "    \n",
    "    # only keep buyers from 3 month period who have bought in the past 12 months (in active_year)\n",
    "    active=active[active[0].isin(list(active_year[0]))]\n",
    "    \n",
    "    print('3 Month Active Buyer Rate '+str(start_m)+'/'+str(start_yr)+'-'+str(month)+'/'+str(year)+': {:.2f}%'.format(len(active)/len(active_year)*100))\n",
    "\n",
    "active_rate_3(bid,stock,2,2021)"
   ]
  },
  {
   "cell_type": "code",
   "execution_count": 19,
   "metadata": {},
   "outputs": [],
   "source": [
    "def active_rate_monthly(bid, stock, month, year):\n",
    "    \"\"\"\n",
    "    Prints monthly active buyer rate\n",
    "    \n",
    "    Parameter bid: the past bidding df\n",
    "    Precondition: bid is a df\n",
    "    \n",
    "    Parameter stock: the past stock quotes df\n",
    "    Precondition: stock is a df\n",
    "    \n",
    "    Parameter month: the month to determine rate\n",
    "    Precondition: month is an int between 1 and 12\n",
    "    \n",
    "    Parameter year: the year to determine rate\n",
    "    Precondition: year is an int formatted with century (i.e. 2021)\n",
    "    \"\"\"\n",
    "    # only look at bidders who won and stock buyers\n",
    "    bid=bid[(bid['win']=='Y')]\n",
    "    \n",
    "    # set date to one month period\n",
    "    b=bid[(bid['bid_placed'].dt.month==month)&(bid['bid_placed'].dt.year==year)]\n",
    "    s=stock[(stock['submitted_date'].dt.month==month)&(stock['submitted_date'].dt.year==year)]\n",
    "    \n",
    "    # unique buyers from bid and stock over one month period\n",
    "    bidders=pd.DataFrame(b['buyer_username'].unique())\n",
    "    stockers=pd.DataFrame(s['buyer_username'].unique())\n",
    "    \n",
    "    active=bidders.merge(stockers, how='outer')\n",
    "    \n",
    "    # set date to rolling 12 months prior (month in the year prior up to but not including the current month)\n",
    "    year_b=bid[(bid['bid_placed']<datetime.datetime(year,month,1))&\n",
    "               (bid['bid_placed']>datetime.datetime(year-1,month,1))]\n",
    "    year_s=stock[(stock['submitted_date']<datetime.datetime(year,month,1)) & \n",
    "                (stock['submitted_date']>datetime.datetime(year-1,month,1))]\n",
    "    \n",
    "    # unique buyers from bid and stock over rolling 12 months prior\n",
    "    year_bid=pd.DataFrame(year_b['buyer_username'].unique())\n",
    "    year_stock=pd.DataFrame(year_s['buyer_username'].unique())\n",
    "\n",
    "    active_year=year_bid.merge(year_stock, how='outer')\n",
    "    \n",
    "    # only keep buyers from month period who have bought in the past 12 months (in active_year)\n",
    "    active=active[active[0].isin(list(active_year[0]))]\n",
    "    \n",
    "    print('Monthly Active Buyer Rate '+str(month)+'/'+str(year)+': {:.2f}%'.format(len(active)/len(active_year)*100))\n",
    "    "
   ]
  },
  {
   "cell_type": "code",
   "execution_count": 20,
   "metadata": {},
   "outputs": [
    {
     "name": "stdout",
     "output_type": "stream",
     "text": [
      "3 Month Active Buyer Rate 11/2020-1/2021: 45.42%\n",
      "Monthly Active Buyer Rate 1/2021: 25.83%\n",
      "\n",
      "\n",
      "3 Month Active Buyer Rate 12/2020-2/2021: 45.75%\n",
      "Monthly Active Buyer Rate 2/2021: 27.13%\n",
      "\n",
      "\n",
      "3 Month Active Buyer Rate 1/2021-3/2021: 49.60%\n",
      "Monthly Active Buyer Rate 3/2021: 30.65%\n",
      "\n",
      "\n",
      "3 Month Active Buyer Rate 2/2021-4/2021: 51.78%\n",
      "Monthly Active Buyer Rate 4/2021: 30.83%\n",
      "\n",
      "\n",
      "3 Month Active Buyer Rate 3/2021-5/2021: 53.91%\n",
      "Monthly Active Buyer Rate 5/2021: 32.81%\n",
      "\n",
      "\n",
      "3 Month Active Buyer Rate 4/2021-6/2021: 49.21%\n",
      "Monthly Active Buyer Rate 6/2021: 30.31%\n",
      "\n",
      "\n"
     ]
    }
   ],
   "source": [
    "for x in range(1,7):\n",
    "    active_rate_3(bid,stock,x,2021)\n",
    "    active_rate_monthly(bid,stock,x,2021)\n",
    "    print('\\n')"
   ]
  },
  {
   "cell_type": "code",
   "execution_count": 21,
   "metadata": {},
   "outputs": [
    {
     "name": "stdout",
     "output_type": "stream",
     "text": [
      "3 Month Active Buyer Rate 11/2019-1/2020: 56.43%\n",
      "Monthly Active Buyer Rate 1/2020: 32.86%\n",
      "\n",
      "\n",
      "3 Month Active Buyer Rate 12/2019-2/2020: 54.67%\n",
      "Monthly Active Buyer Rate 2/2020: 34.00%\n",
      "\n",
      "\n",
      "3 Month Active Buyer Rate 1/2020-3/2020: 55.21%\n",
      "Monthly Active Buyer Rate 3/2020: 25.15%\n",
      "\n",
      "\n",
      "3 Month Active Buyer Rate 2/2020-4/2020: 55.43%\n",
      "Monthly Active Buyer Rate 4/2020: 20.00%\n",
      "\n",
      "\n",
      "3 Month Active Buyer Rate 3/2020-5/2020: 47.13%\n",
      "Monthly Active Buyer Rate 5/2020: 24.71%\n",
      "\n",
      "\n",
      "3 Month Active Buyer Rate 4/2020-6/2020: 45.45%\n",
      "Monthly Active Buyer Rate 6/2020: 27.81%\n",
      "\n",
      "\n",
      "3 Month Active Buyer Rate 5/2020-7/2020: 51.28%\n",
      "Monthly Active Buyer Rate 7/2020: 33.33%\n",
      "\n",
      "\n",
      "3 Month Active Buyer Rate 6/2020-8/2020: 51.98%\n",
      "Monthly Active Buyer Rate 8/2020: 31.19%\n",
      "\n",
      "\n",
      "3 Month Active Buyer Rate 7/2020-9/2020: 49.51%\n",
      "Monthly Active Buyer Rate 9/2020: 28.64%\n",
      "\n",
      "\n",
      "3 Month Active Buyer Rate 8/2020-10/2020: 49.32%\n",
      "Monthly Active Buyer Rate 10/2020: 30.14%\n",
      "\n",
      "\n",
      "3 Month Active Buyer Rate 9/2020-11/2020: 50.65%\n",
      "Monthly Active Buyer Rate 11/2020: 24.24%\n",
      "\n",
      "\n",
      "3 Month Active Buyer Rate 10/2020-12/2020: 50.42%\n",
      "Monthly Active Buyer Rate 12/2020: 24.15%\n",
      "\n",
      "\n"
     ]
    }
   ],
   "source": [
    "for x in range(1,13):\n",
    "    active_rate_3(bid,stock,x,2020)\n",
    "    active_rate_monthly(bid,stock,x,2020)\n",
    "    print('\\n')"
   ]
  },
  {
   "cell_type": "markdown",
   "metadata": {},
   "source": [
    "### Churn"
   ]
  },
  {
   "cell_type": "code",
   "execution_count": 39,
   "metadata": {},
   "outputs": [
    {
     "name": "stdout",
     "output_type": "stream",
     "text": [
      "Active Buyers in 2020: 240\n",
      "Active Buyers in 2020 who did not buy in 2021: 124\n"
     ]
    }
   ],
   "source": [
    "def churn(bid, stock, year):\n",
    "    \"\"\"\n",
    "    Prints number of active buyers year prior and number of buyers in current year who dropped off\n",
    "    \n",
    "    Parameter bid: the past bidding df\n",
    "    Precondition: bid is a df\n",
    "    \n",
    "    Parameter stock: the past stock quotes df\n",
    "    Precondition: stock is a df\n",
    "    \n",
    "    Parameter year: the year to determine rate\n",
    "    Precondition: year is an int formatted with century (i.e. 2021)\n",
    "    \"\"\"\n",
    "    # only look at bidders who won and stock buyers\n",
    "    bid=bid[(bid['win']=='Y')]       \n",
    "    \n",
    "    # set date to current year    \n",
    "    b=bid[(bid['bid_placed'].dt.year==year)]\n",
    "    s=stock[(stock['submitted_date'].dt.year==year)]\n",
    "    \n",
    "    # unique buyers from bid and stock for current year\n",
    "    bidders=pd.DataFrame(b['buyer_username'].unique())\n",
    "    stockers=pd.DataFrame(s['buyer_username'].unique())\n",
    "    \n",
    "    active=bidders.merge(stockers, how='outer')\n",
    "    \n",
    "    # set date to year prior\n",
    "    year_b=bid[(bid['bid_placed'].dt.year==year-1)]\n",
    "    year_s=stock[(stock['submitted_date'].dt.year==year-1)]\n",
    "    \n",
    "    # unique buyers from bid and stock from year prior\n",
    "    year_bid=pd.DataFrame(year_b['buyer_username'].unique())\n",
    "    year_stock=pd.DataFrame(year_s['buyer_username'].unique())\n",
    "\n",
    "    active_year=year_bid.merge(year_stock, how='outer')\n",
    "    \n",
    "    # pull buyers who have not bought in the current year from year prior\n",
    "    new_active=active[active[0].isin(list(active_year[0]))] # buyers from last year who also bought this year\n",
    "    \n",
    "    dropped=len(active_year)-len(new_active)\n",
    "    \n",
    "    print('Active Buyers in '+str(year-1)+': {:.0f}'.format(len(active_year)))\n",
    "    print('Active Buyers in '+str(year-1)+' who did not buy in '+str(year)+': {:.0f}'.format(dropped))\n",
    "\n",
    "churn(bid,stock,2021)"
   ]
  },
  {
   "cell_type": "code",
   "execution_count": null,
   "metadata": {},
   "outputs": [],
   "source": []
  }
 ],
 "metadata": {
  "kernelspec": {
   "display_name": "Python 3",
   "language": "python",
   "name": "python3"
  },
  "language_info": {
   "codemirror_mode": {
    "name": "ipython",
    "version": 3
   },
   "file_extension": ".py",
   "mimetype": "text/x-python",
   "name": "python",
   "nbconvert_exporter": "python",
   "pygments_lexer": "ipython3",
   "version": "3.7.6"
  }
 },
 "nbformat": 4,
 "nbformat_minor": 4
}
