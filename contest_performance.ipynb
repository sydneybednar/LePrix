{
 "cells": [
  {
   "cell_type": "markdown",
   "metadata": {},
   "source": [
    "# Contest Performance"
   ]
  },
  {
   "cell_type": "code",
   "execution_count": 1,
   "metadata": {},
   "outputs": [],
   "source": [
    "import pandas as pd\n",
    "import numpy as np\n",
    "import matplotlib.pyplot as plt\n",
    "from scipy import stats\n",
    "import statsmodels.api as sm\n",
    "import seaborn as sns\n",
    "import datetime"
   ]
  },
  {
   "cell_type": "code",
   "execution_count": 2,
   "metadata": {},
   "outputs": [],
   "source": [
    "contest21=pd.read_csv('2021_contest.csv')"
   ]
  },
  {
   "cell_type": "code",
   "execution_count": 3,
   "metadata": {},
   "outputs": [],
   "source": [
    "sub=pd.read_excel('b2c_sub.xlsx')"
   ]
  },
  {
   "cell_type": "markdown",
   "metadata": {},
   "source": [
    "## 2021"
   ]
  },
  {
   "cell_type": "code",
   "execution_count": 4,
   "metadata": {},
   "outputs": [],
   "source": [
    "contest21['Email Address']=contest21['Email Address'].str.lower()"
   ]
  },
  {
   "cell_type": "code",
   "execution_count": 5,
   "metadata": {},
   "outputs": [
    {
     "data": {
      "text/html": [
       "<div>\n",
       "<style scoped>\n",
       "    .dataframe tbody tr th:only-of-type {\n",
       "        vertical-align: middle;\n",
       "    }\n",
       "\n",
       "    .dataframe tbody tr th {\n",
       "        vertical-align: top;\n",
       "    }\n",
       "\n",
       "    .dataframe thead th {\n",
       "        text-align: right;\n",
       "    }\n",
       "</style>\n",
       "<table border=\"1\" class=\"dataframe\">\n",
       "  <thead>\n",
       "    <tr style=\"text-align: right;\">\n",
       "      <th></th>\n",
       "      <th>Contest</th>\n",
       "      <th>Name</th>\n",
       "      <th>Email Address</th>\n",
       "      <th>Referrer</th>\n",
       "      <th>Campaign</th>\n",
       "      <th>Created At</th>\n",
       "    </tr>\n",
       "  </thead>\n",
       "  <tbody>\n",
       "    <tr>\n",
       "      <th>0</th>\n",
       "      <td>Orcé X LePrix Giveaway</td>\n",
       "      <td>Madeleine Pearl</td>\n",
       "      <td>mmueller30@yahoo.com</td>\n",
       "      <td>NaN</td>\n",
       "      <td>66588840d0-EMAIL_CAMPAIGN_2020_01_16_05_12_COP...</td>\n",
       "      <td>04/27/2021 02:52AM</td>\n",
       "    </tr>\n",
       "    <tr>\n",
       "      <th>1</th>\n",
       "      <td>Orcé X LePrix Giveaway</td>\n",
       "      <td>Soraya Brewington</td>\n",
       "      <td>beemie82@hotmail.com</td>\n",
       "      <td>NaN</td>\n",
       "      <td>NaN</td>\n",
       "      <td>04/27/2021 02:38AM</td>\n",
       "    </tr>\n",
       "    <tr>\n",
       "      <th>2</th>\n",
       "      <td>Orcé X LePrix Giveaway</td>\n",
       "      <td>Sam Latten</td>\n",
       "      <td>sylatten@gmail.com</td>\n",
       "      <td>https://leprix.com/contests/0b3f0b5f-1dbc-497f...</td>\n",
       "      <td>NaN</td>\n",
       "      <td>04/27/2021 02:27AM</td>\n",
       "    </tr>\n",
       "    <tr>\n",
       "      <th>3</th>\n",
       "      <td>Orcé X LePrix Giveaway</td>\n",
       "      <td>Lucy Garcia</td>\n",
       "      <td>mslucy310@gmail.com</td>\n",
       "      <td>https://www.contestgirl.com/</td>\n",
       "      <td>NaN</td>\n",
       "      <td>04/27/2021 02:22AM</td>\n",
       "    </tr>\n",
       "    <tr>\n",
       "      <th>4</th>\n",
       "      <td>Orcé X LePrix Giveaway</td>\n",
       "      <td>Jessie Li</td>\n",
       "      <td>cannolib1@yahoo.com</td>\n",
       "      <td>https://l.instagram.com/?u=https%3A%2F%2Flepri...</td>\n",
       "      <td>orce_lpxorce-giveaway</td>\n",
       "      <td>04/27/2021 02:16AM</td>\n",
       "    </tr>\n",
       "  </tbody>\n",
       "</table>\n",
       "</div>"
      ],
      "text/plain": [
       "                  Contest               Name         Email Address  \\\n",
       "0  Orcé X LePrix Giveaway    Madeleine Pearl  mmueller30@yahoo.com   \n",
       "1  Orcé X LePrix Giveaway  Soraya Brewington  beemie82@hotmail.com   \n",
       "2  Orcé X LePrix Giveaway         Sam Latten    sylatten@gmail.com   \n",
       "3  Orcé X LePrix Giveaway        Lucy Garcia   mslucy310@gmail.com   \n",
       "4  Orcé X LePrix Giveaway          Jessie Li   cannolib1@yahoo.com   \n",
       "\n",
       "                                            Referrer  \\\n",
       "0                                                NaN   \n",
       "1                                                NaN   \n",
       "2  https://leprix.com/contests/0b3f0b5f-1dbc-497f...   \n",
       "3                       https://www.contestgirl.com/   \n",
       "4  https://l.instagram.com/?u=https%3A%2F%2Flepri...   \n",
       "\n",
       "                                            Campaign          Created At  \n",
       "0  66588840d0-EMAIL_CAMPAIGN_2020_01_16_05_12_COP...  04/27/2021 02:52AM  \n",
       "1                                                NaN  04/27/2021 02:38AM  \n",
       "2                                                NaN  04/27/2021 02:27AM  \n",
       "3                                                NaN  04/27/2021 02:22AM  \n",
       "4                              orce_lpxorce-giveaway  04/27/2021 02:16AM  "
      ]
     },
     "execution_count": 5,
     "metadata": {},
     "output_type": "execute_result"
    }
   ],
   "source": [
    "contest21.head()"
   ]
  },
  {
   "cell_type": "code",
   "execution_count": 6,
   "metadata": {},
   "outputs": [
    {
     "data": {
      "text/plain": [
       "The Glow Up Giveaway           7479\n",
       "The Spring Refresh Giveaway    5144\n",
       "Orcé X LePrix Giveaway         3036\n",
       "Name: Contest, dtype: int64"
      ]
     },
     "execution_count": 6,
     "metadata": {},
     "output_type": "execute_result"
    }
   ],
   "source": [
    "contest21['Contest'].value_counts()"
   ]
  },
  {
   "cell_type": "code",
   "execution_count": 7,
   "metadata": {},
   "outputs": [],
   "source": [
    "sub['Email Address']=sub['Email Address'].str.lower()\n",
    "em_list=list(sub['Email Address'])"
   ]
  },
  {
   "cell_type": "code",
   "execution_count": 8,
   "metadata": {},
   "outputs": [],
   "source": [
    "contest21['subscribed']='N'\n",
    "contest21.loc[contest21['Email Address'].isin(em_list), 'subscribed']='Y'"
   ]
  },
  {
   "cell_type": "code",
   "execution_count": 9,
   "metadata": {},
   "outputs": [
    {
     "data": {
      "image/png": "[encoded data removed]",
      "text/plain": [
       "<Figure size 720x576 with 1 Axes>"
      ]
     },
     "metadata": {
      "needs_background": "light"
     },
     "output_type": "display_data"
    }
   ],
   "source": [
    "plt.figure(figsize=(10,8))\n",
    "sns.histplot(x='Contest', hue='subscribed', data=contest21, multiple='stack', palette='Dark2')\n",
    "plt.title('2021 Contest Entrys and Subscribers to Listserv')\n",
    "plt.show()"
   ]
  },
  {
   "cell_type": "code",
   "execution_count": 10,
   "metadata": {},
   "outputs": [
    {
     "data": {
      "text/html": [
       "<div>\n",
       "<style scoped>\n",
       "    .dataframe tbody tr th:only-of-type {\n",
       "        vertical-align: middle;\n",
       "    }\n",
       "\n",
       "    .dataframe tbody tr th {\n",
       "        vertical-align: top;\n",
       "    }\n",
       "\n",
       "    .dataframe thead th {\n",
       "        text-align: right;\n",
       "    }\n",
       "</style>\n",
       "<table border=\"1\" class=\"dataframe\">\n",
       "  <thead>\n",
       "    <tr style=\"text-align: right;\">\n",
       "      <th></th>\n",
       "      <th>Contest</th>\n",
       "      <th>Name</th>\n",
       "      <th>Email Address</th>\n",
       "      <th>Referrer</th>\n",
       "      <th>Campaign</th>\n",
       "      <th>Created At</th>\n",
       "      <th>subscribed</th>\n",
       "      <th>OPTIN_TIME</th>\n",
       "    </tr>\n",
       "  </thead>\n",
       "  <tbody>\n",
       "    <tr>\n",
       "      <th>0</th>\n",
       "      <td>Orcé X LePrix Giveaway</td>\n",
       "      <td>Madeleine Pearl</td>\n",
       "      <td>mmueller30@yahoo.com</td>\n",
       "      <td>NaN</td>\n",
       "      <td>66588840d0-EMAIL_CAMPAIGN_2020_01_16_05_12_COP...</td>\n",
       "      <td>04/27/2021 02:52AM</td>\n",
       "      <td>Y</td>\n",
       "      <td>2021-04-27 02:52:14</td>\n",
       "    </tr>\n",
       "    <tr>\n",
       "      <th>1</th>\n",
       "      <td>Orcé X LePrix Giveaway</td>\n",
       "      <td>Soraya Brewington</td>\n",
       "      <td>beemie82@hotmail.com</td>\n",
       "      <td>NaN</td>\n",
       "      <td>NaN</td>\n",
       "      <td>04/27/2021 02:38AM</td>\n",
       "      <td>N</td>\n",
       "      <td>NaN</td>\n",
       "    </tr>\n",
       "    <tr>\n",
       "      <th>2</th>\n",
       "      <td>Orcé X LePrix Giveaway</td>\n",
       "      <td>Sam Latten</td>\n",
       "      <td>sylatten@gmail.com</td>\n",
       "      <td>https://leprix.com/contests/0b3f0b5f-1dbc-497f...</td>\n",
       "      <td>NaN</td>\n",
       "      <td>04/27/2021 02:27AM</td>\n",
       "      <td>N</td>\n",
       "      <td>NaN</td>\n",
       "    </tr>\n",
       "    <tr>\n",
       "      <th>3</th>\n",
       "      <td>Orcé X LePrix Giveaway</td>\n",
       "      <td>Lucy Garcia</td>\n",
       "      <td>mslucy310@gmail.com</td>\n",
       "      <td>https://www.contestgirl.com/</td>\n",
       "      <td>NaN</td>\n",
       "      <td>04/27/2021 02:22AM</td>\n",
       "      <td>N</td>\n",
       "      <td>NaN</td>\n",
       "    </tr>\n",
       "    <tr>\n",
       "      <th>4</th>\n",
       "      <td>Orcé X LePrix Giveaway</td>\n",
       "      <td>Jessie Li</td>\n",
       "      <td>cannolib1@yahoo.com</td>\n",
       "      <td>https://l.instagram.com/?u=https%3A%2F%2Flepri...</td>\n",
       "      <td>orce_lpxorce-giveaway</td>\n",
       "      <td>04/27/2021 02:16AM</td>\n",
       "      <td>Y</td>\n",
       "      <td>2021-04-27 02:16:08</td>\n",
       "    </tr>\n",
       "  </tbody>\n",
       "</table>\n",
       "</div>"
      ],
      "text/plain": [
       "                  Contest               Name         Email Address  \\\n",
       "0  Orcé X LePrix Giveaway    Madeleine Pearl  mmueller30@yahoo.com   \n",
       "1  Orcé X LePrix Giveaway  Soraya Brewington  beemie82@hotmail.com   \n",
       "2  Orcé X LePrix Giveaway         Sam Latten    sylatten@gmail.com   \n",
       "3  Orcé X LePrix Giveaway        Lucy Garcia   mslucy310@gmail.com   \n",
       "4  Orcé X LePrix Giveaway          Jessie Li   cannolib1@yahoo.com   \n",
       "\n",
       "                                            Referrer  \\\n",
       "0                                                NaN   \n",
       "1                                                NaN   \n",
       "2  https://leprix.com/contests/0b3f0b5f-1dbc-497f...   \n",
       "3                       https://www.contestgirl.com/   \n",
       "4  https://l.instagram.com/?u=https%3A%2F%2Flepri...   \n",
       "\n",
       "                                            Campaign          Created At  \\\n",
       "0  66588840d0-EMAIL_CAMPAIGN_2020_01_16_05_12_COP...  04/27/2021 02:52AM   \n",
       "1                                                NaN  04/27/2021 02:38AM   \n",
       "2                                                NaN  04/27/2021 02:27AM   \n",
       "3                                                NaN  04/27/2021 02:22AM   \n",
       "4                              orce_lpxorce-giveaway  04/27/2021 02:16AM   \n",
       "\n",
       "  subscribed           OPTIN_TIME  \n",
       "0          Y  2021-04-27 02:52:14  \n",
       "1          N                  NaN  \n",
       "2          N                  NaN  \n",
       "3          N                  NaN  \n",
       "4          Y  2021-04-27 02:16:08  "
      ]
     },
     "execution_count": 10,
     "metadata": {},
     "output_type": "execute_result"
    }
   ],
   "source": [
    "contest21=contest21.merge(sub[['Email Address', 'OPTIN_TIME']], how='left')\n",
    "contest21.head()"
   ]
  },
  {
   "cell_type": "code",
   "execution_count": 11,
   "metadata": {},
   "outputs": [],
   "source": [
    "contest21[['Created At', 'OPTIN_TIME']]=contest21[['Created At', 'OPTIN_TIME']].apply(pd.to_datetime)"
   ]
  },
  {
   "cell_type": "code",
   "execution_count": 12,
   "metadata": {},
   "outputs": [],
   "source": [
    "contest21['time_to_sub']=(contest21['OPTIN_TIME']-contest21['Created At']).dt.days"
   ]
  },
  {
   "cell_type": "code",
   "execution_count": 13,
   "metadata": {},
   "outputs": [
    {
     "data": {
      "text/plain": [
       "Contest                      subscribed\n",
       "Orcé X LePrix Giveaway       Y             53.194993\n",
       "                             N             46.805007\n",
       "The Glow Up Giveaway         Y             66.278914\n",
       "                             N             33.721086\n",
       "The Spring Refresh Giveaway  Y             60.108865\n",
       "                             N             39.891135\n",
       "Name: subscribed, dtype: float64"
      ]
     },
     "execution_count": 13,
     "metadata": {},
     "output_type": "execute_result"
    }
   ],
   "source": [
    "(contest21.groupby('Contest')['subscribed']\n",
    " .value_counts()/contest21.groupby('Contest')['subscribed']\n",
    " .count()*100)"
   ]
  },
  {
   "cell_type": "markdown",
   "metadata": {},
   "source": [
    "% subscribed for each giveaway"
   ]
  },
  {
   "cell_type": "code",
   "execution_count": 14,
   "metadata": {},
   "outputs": [
    {
     "data": {
      "text/plain": [
       "Contest                      subscribed\n",
       "Orcé X LePrix Giveaway       Y               37\n",
       "The Glow Up Giveaway         Y             3213\n",
       "The Spring Refresh Giveaway  Y             2061\n",
       "Name: subscribed, dtype: int64"
      ]
     },
     "execution_count": 14,
     "metadata": {},
     "output_type": "execute_result"
    }
   ],
   "source": [
    "(contest21[contest21['time_to_sub']>=0].groupby('Contest')['subscribed'].value_counts())"
   ]
  },
  {
   "cell_type": "code",
   "execution_count": 15,
   "metadata": {},
   "outputs": [
    {
     "data": {
      "text/plain": [
       "Contest\n",
       "Orcé X LePrix Giveaway        2021-04-19 09:32:00\n",
       "The Glow Up Giveaway          2021-01-27 22:44:00\n",
       "The Spring Refresh Giveaway   2021-03-22 09:23:00\n",
       "Name: Created At, dtype: datetime64[ns]"
      ]
     },
     "execution_count": 15,
     "metadata": {},
     "output_type": "execute_result"
    }
   ],
   "source": [
    "contest21.groupby('Contest')['Created At'].min()"
   ]
  },
  {
   "cell_type": "code",
   "execution_count": 53,
   "metadata": {},
   "outputs": [],
   "source": [
    "order=pd.read_csv('2021orders.csv')"
   ]
  },
  {
   "cell_type": "code",
   "execution_count": 54,
   "metadata": {},
   "outputs": [],
   "source": [
    "order['Buyer Email']=order['Buyer Email'].str.lower()"
   ]
  },
  {
   "cell_type": "code",
   "execution_count": 55,
   "metadata": {},
   "outputs": [
    {
     "data": {
      "text/plain": [
       "Index(['Order ID', 'Reference', 'Buyer ID', 'Seller ID', 'Item ID',\n",
       "       'Markdown ID', 'Buyer', 'Buyer Email', 'Seller', 'Seller Email', 'Item',\n",
       "       'Item Creation', 'Color', 'Brand', 'Category', 'Parent Category',\n",
       "       'Subtotal', 'Shipping', 'Refunded', 'Promo Code', 'Promo Value',\n",
       "       'Markdown', 'Credit', 'Tax', 'Total', 'Payment Type',\n",
       "       'Credit Card (Stripe) ID', 'Paypal Transaction ID', 'Affirm Charge ID',\n",
       "       'Seller Fee', 'Seller Label', 'Seller Shipping', 'Seller Refunded',\n",
       "       'Seller Cashout', 'Seller Promo', 'Billing Name', 'Billing Line 1',\n",
       "       'Billing Line 2', 'Billing City', 'Billing Region', 'Billing Postcode',\n",
       "       'Billing Country', 'Buyer Shipping Name', 'Buyer Shipping Line 1',\n",
       "       'Buyer Shipping Line 2', 'Buyer Shipping City', 'Buyer Shipping Region',\n",
       "       'Buyer Shipping Postcode', 'Buyer Shipping Country', 'Phone',\n",
       "       'Seller Shipping Name', 'Seller Shipping Line 1',\n",
       "       'Seller Shipping Line 2', 'Seller Shipping City',\n",
       "       'Seller Shipping Region', 'Seller Shipping Postcode',\n",
       "       'Seller Shipping Country', 'Status', 'Cancellation Reason',\n",
       "       'Modified_At', 'Created At', 'Completed At', 'Pending Until',\n",
       "       'Item URL', 'Main Image URL', 'Order URL', 'Style', 'Material', 'Size',\n",
       "       'Prints'],\n",
       "      dtype='object')"
      ]
     },
     "execution_count": 55,
     "metadata": {},
     "output_type": "execute_result"
    }
   ],
   "source": [
    "order.columns"
   ]
  },
  {
   "cell_type": "code",
   "execution_count": 56,
   "metadata": {},
   "outputs": [],
   "source": [
    "order[['Modified_At','Created At', 'Pending Until']]=order[['Modified_At','Created At', 'Pending Until']].apply(pd.to_datetime)"
   ]
  },
  {
   "cell_type": "code",
   "execution_count": 57,
   "metadata": {},
   "outputs": [],
   "source": [
    "orc_email=list(contest21[contest21['Contest']=='Orcé X LePrix Giveaway']['Email Address'])"
   ]
  },
  {
   "cell_type": "code",
   "execution_count": 58,
   "metadata": {},
   "outputs": [
    {
     "name": "stdout",
     "output_type": "stream",
     "text": [
      "GMV from Orcé X LePrix Giveaway: $10000.86\n"
     ]
    }
   ],
   "source": [
    "orce=order.loc[(order['Created At']>datetime.datetime(2021,4,19)) & (order['Created At']<datetime.datetime(2021,7,19))]\n",
    "orce=orce[orce['Buyer Email'].isin(orc_email)]\n",
    "print('GMV from Orcé X LePrix Giveaway: ${:.2f}'.format(orce['Subtotal'].sum()))"
   ]
  },
  {
   "cell_type": "code",
   "execution_count": 59,
   "metadata": {},
   "outputs": [
    {
     "data": {
      "text/plain": [
       "512.0090824129101"
      ]
     },
     "execution_count": 59,
     "metadata": {},
     "output_type": "execute_result"
    }
   ],
   "source": [
    "ocost=434+(.12*orce['Subtotal'].sum())\n",
    "(orce['Subtotal'].sum()-(ocost))/(ocost)*100"
   ]
  },
  {
   "cell_type": "code",
   "execution_count": 60,
   "metadata": {},
   "outputs": [
    {
     "name": "stdout",
     "output_type": "stream",
     "text": [
      "GMV from The Glow Up Giveaway: $24022.13\n"
     ]
    }
   ],
   "source": [
    "glow_email=list(contest21[contest21['Contest']=='The Glow Up Giveaway']['Email Address'])\n",
    "glow=order.loc[(order['Created At']>datetime.datetime(2021,1,27)) & (order['Created At']<datetime.datetime(2021,4,27))]\n",
    "glow=glow[glow['Buyer Email'].isin(glow_email)]\n",
    "print('GMV from The Glow Up Giveaway: ${:.2f}'.format(glow['Subtotal'].sum()))"
   ]
  },
  {
   "cell_type": "code",
   "execution_count": 61,
   "metadata": {},
   "outputs": [
    {
     "data": {
      "text/plain": [
       "485.526360048355"
      ]
     },
     "execution_count": 61,
     "metadata": {},
     "output_type": "execute_result"
    }
   ],
   "source": [
    "gcost=1220+(.12*glow['Subtotal'].sum())\n",
    "(glow['Subtotal'].sum()-(gcost))/(gcost)*100"
   ]
  },
  {
   "cell_type": "code",
   "execution_count": 62,
   "metadata": {},
   "outputs": [
    {
     "name": "stdout",
     "output_type": "stream",
     "text": [
      "GMV from The Spring Refresh Giveaway: $10370.36\n"
     ]
    }
   ],
   "source": [
    "spr_email=list(contest21[contest21['Contest']=='The Spring Refresh Giveaway']['Email Address'])\n",
    "spr=order.loc[(order['Created At']>datetime.datetime(2021,3,22)) & (order['Created At']<datetime.datetime(2021,6,22))]\n",
    "spr=spr[spr['Buyer Email'].isin(spr_email)]\n",
    "print('GMV from The Spring Refresh Giveaway: ${:.2f}'.format(spr['Subtotal'].sum()))"
   ]
  },
  {
   "cell_type": "code",
   "execution_count": 63,
   "metadata": {},
   "outputs": [
    {
     "data": {
      "text/plain": [
       "388.60483050853856"
      ]
     },
     "execution_count": 63,
     "metadata": {},
     "output_type": "execute_result"
    }
   ],
   "source": [
    "scost=878+(.12*spr['Subtotal'].sum())\n",
    "(spr['Subtotal'].sum()-(scost))/(scost)*100"
   ]
  },
  {
   "cell_type": "code",
   "execution_count": 64,
   "metadata": {},
   "outputs": [
    {
     "data": {
      "text/plain": [
       "Contest                      active_buyer\n",
       "Orcé X LePrix Giveaway       N               99.209486\n",
       "                             Y                0.790514\n",
       "The Glow Up Giveaway         N               99.705843\n",
       "                             Y                0.294157\n",
       "The Spring Refresh Giveaway  N               99.611198\n",
       "                             Y                0.388802\n",
       "Name: active_buyer, dtype: float64"
      ]
     },
     "execution_count": 64,
     "metadata": {},
     "output_type": "execute_result"
    }
   ],
   "source": [
    "act_em=list(order['Buyer Email'])\n",
    "contest21['active_buyer']='N'\n",
    "contest21.loc[contest21['Email Address'].isin(act_em),'active_buyer']='Y'\n",
    "contest21.groupby('Contest')['active_buyer'].value_counts()/contest21.groupby('Contest')['active_buyer'].count()*100"
   ]
  },
  {
   "cell_type": "code",
   "execution_count": 70,
   "metadata": {},
   "outputs": [
    {
     "data": {
      "text/plain": [
       "Contest                      active_buyer\n",
       "Orcé X LePrix Giveaway       N               3012\n",
       "                             Y                 24\n",
       "The Glow Up Giveaway         N               7457\n",
       "                             Y                 22\n",
       "The Spring Refresh Giveaway  N               5124\n",
       "                             Y                 20\n",
       "Name: active_buyer, dtype: int64"
      ]
     },
     "execution_count": 70,
     "metadata": {},
     "output_type": "execute_result"
    }
   ],
   "source": [
    "counts_act=contest21.groupby('Contest')['active_buyer'].value_counts()\n",
    "counts_act"
   ]
  },
  {
   "cell_type": "markdown",
   "metadata": {},
   "source": [
    "**CONVERSION RATES TO ACTIVE BUYERS**"
   ]
  },
  {
   "cell_type": "code",
   "execution_count": 71,
   "metadata": {},
   "outputs": [
    {
     "name": "stdout",
     "output_type": "stream",
     "text": [
      "number of active buyers from Orcé X LePrix Giveaway: 24\n",
      "number of active buyers from The Glow Up Giveaway: 22\n",
      "number of active buyers from The Spring Refresh Giveaway: 20\n"
     ]
    }
   ],
   "source": [
    "print('number of active buyers from Orcé X LePrix Giveaway: {}'.format(counts_act[1]))\n",
    "print('number of active buyers from The Glow Up Giveaway: {}'.format(counts_act[3]))\n",
    "print('number of active buyers from The Spring Refresh Giveaway: {}'.format(counts_act[5]))"
   ]
  },
  {
   "cell_type": "markdown",
   "metadata": {},
   "source": [
    "## 2020"
   ]
  },
  {
   "cell_type": "code",
   "execution_count": 73,
   "metadata": {},
   "outputs": [],
   "source": [
    "contest20=pd.read_csv('2020_contest.csv')\n",
    "contest20['Email Address']=contest20['Email Address'].str.lower()"
   ]
  },
  {
   "cell_type": "code",
   "execution_count": 74,
   "metadata": {},
   "outputs": [],
   "source": [
    "contest20['subscribed']='N'\n",
    "contest20.loc[contest20['Email Address'].isin(em_list), 'subscribed']='Y'"
   ]
  },
  {
   "cell_type": "code",
   "execution_count": 75,
   "metadata": {},
   "outputs": [],
   "source": [
    "contest20.loc[contest20['Contest']=='LePrix X U Beauty Giveaway','Contest']='LePrix X U Beauty'"
   ]
  },
  {
   "cell_type": "code",
   "execution_count": 76,
   "metadata": {},
   "outputs": [
    {
     "data": {
      "image/png": "[encoded data removed]",
      "text/plain": [
       "<Figure size 1080x576 with 1 Axes>"
      ]
     },
     "metadata": {
      "needs_background": "light"
     },
     "output_type": "display_data"
    }
   ],
   "source": [
    "plt.figure(figsize=(15,8))\n",
    "sns.histplot(x='Contest', hue='subscribed', data=contest20, multiple='stack', palette='Accent')\n",
    "plt.title('2020 Contest Entrys and Subscribers to Listserv')\n",
    "plt.show()"
   ]
  },
  {
   "cell_type": "code",
   "execution_count": 77,
   "metadata": {},
   "outputs": [
    {
     "data": {
      "text/plain": [
       "Contest                           subscribed\n",
       "Lashify x LePrix                  Y             56.434039\n",
       "                                  N             43.565961\n",
       "LePrix X La Bella Donna Giveaway  Y             59.210236\n",
       "                                  N             40.789764\n",
       "LePrix X U Beauty                 N             51.908397\n",
       "                                  Y             48.091603\n",
       "Skin Inc. X LePrix Giveaway       Y             56.953224\n",
       "                                  N             43.046776\n",
       "Name: subscribed, dtype: float64"
      ]
     },
     "execution_count": 77,
     "metadata": {},
     "output_type": "execute_result"
    }
   ],
   "source": [
    "(contest20.groupby('Contest')['subscribed']\n",
    " .value_counts()/contest20.groupby('Contest')['subscribed']\n",
    " .count()*100)"
   ]
  },
  {
   "cell_type": "code",
   "execution_count": 78,
   "metadata": {},
   "outputs": [],
   "source": [
    "contest20=contest20.merge(sub[['Email Address', 'OPTIN_TIME']], how='left')\n",
    "contest20[['Created At', 'OPTIN_TIME']]=contest20[['Created At', 'OPTIN_TIME']].apply(pd.to_datetime)\n",
    "contest20['time_to_sub']=(contest20['OPTIN_TIME']-contest20['Created At']).dt.days"
   ]
  },
  {
   "cell_type": "code",
   "execution_count": 79,
   "metadata": {},
   "outputs": [
    {
     "data": {
      "text/plain": [
       "4795"
      ]
     },
     "execution_count": 79,
     "metadata": {},
     "output_type": "execute_result"
    }
   ],
   "source": [
    "len(contest20[contest20['time_to_sub']<0])"
   ]
  },
  {
   "cell_type": "code",
   "execution_count": 80,
   "metadata": {},
   "outputs": [
    {
     "data": {
      "text/plain": [
       "Contest                           subscribed\n",
       "Lashify x LePrix                  Y             44.529491\n",
       "LePrix X La Bella Donna Giveaway  Y             32.450916\n",
       "LePrix X U Beauty                 Y             36.236174\n",
       "Skin Inc. X LePrix Giveaway       Y             33.264855\n",
       "Name: subscribed, dtype: float64"
      ]
     },
     "execution_count": 80,
     "metadata": {},
     "output_type": "execute_result"
    }
   ],
   "source": [
    "(contest20[contest20['time_to_sub']>=0].groupby('Contest')['subscribed'].value_counts()/\n",
    "contest20.groupby('Contest')['subscribed'].count()*100)"
   ]
  },
  {
   "cell_type": "code",
   "execution_count": 81,
   "metadata": {},
   "outputs": [
    {
     "data": {
      "text/plain": [
       "Contest\n",
       "Lashify x LePrix                   2020-11-05 10:32:00\n",
       "LePrix X La Bella Donna Giveaway   2020-05-28 15:57:00\n",
       "LePrix X U Beauty                  2020-01-08 13:02:00\n",
       "Skin Inc. X LePrix Giveaway        2020-04-14 10:59:00\n",
       "Name: Created At, dtype: datetime64[ns]"
      ]
     },
     "execution_count": 81,
     "metadata": {},
     "output_type": "execute_result"
    }
   ],
   "source": [
    "contest20.groupby('Contest')['Created At'].min()"
   ]
  },
  {
   "cell_type": "code",
   "execution_count": 82,
   "metadata": {},
   "outputs": [],
   "source": [
    "orders_2020=pd.read_csv('2020orders.csv')"
   ]
  },
  {
   "cell_type": "code",
   "execution_count": 83,
   "metadata": {},
   "outputs": [],
   "source": [
    "orders_2020['Buyer Email']=orders_2020['Buyer Email'].str.lower()\n",
    "orders_2020[['Modified_At','Created At', 'Pending Until']]=orders_2020[['Modified_At','Created At', 'Pending Until']].apply(pd.to_datetime)"
   ]
  },
  {
   "cell_type": "code",
   "execution_count": 84,
   "metadata": {},
   "outputs": [
    {
     "name": "stdout",
     "output_type": "stream",
     "text": [
      "GMV from Lashify x LePrix: $7642.25\n"
     ]
    }
   ],
   "source": [
    "lash_email=list(contest20[contest20['Contest']=='Lashify x LePrix']['Email Address'])\n",
    "lash=(orders_2020.loc[(orders_2020['Created At']>datetime.datetime(2020,11,5))\n",
    "                     & (orders_2020['Created At']<datetime.datetime(2020,12,5))])\n",
    "lash21=(order.loc[(order['Created At']>datetime.datetime(2021,1,1))\n",
    "                     & (order['Created At']<datetime.datetime(2021,2,5))])\n",
    "lash=lash.merge(lash21, how='outer')\n",
    "lash=lash[lash['Buyer Email'].isin(lash_email)]\n",
    "print('GMV from Lashify x LePrix: ${:.2f}'.format(lash['Subtotal'].sum()))"
   ]
  },
  {
   "cell_type": "code",
   "execution_count": 86,
   "metadata": {},
   "outputs": [
    {
     "data": {
      "text/plain": [
       "543.7910148516937"
      ]
     },
     "execution_count": 86,
     "metadata": {},
     "output_type": "execute_result"
    }
   ],
   "source": [
    "lcost=270+(.12*lash['Subtotal'].sum())\n",
    "(lash['Subtotal'].sum()-(lcost))/(lcost)*100"
   ]
  },
  {
   "cell_type": "code",
   "execution_count": 87,
   "metadata": {},
   "outputs": [
    {
     "name": "stdout",
     "output_type": "stream",
     "text": [
      "GMV from LePrix X La Bella Donna Giveaway: $44228.40\n"
     ]
    }
   ],
   "source": [
    "lbd_email=list(contest20[contest20['Contest']=='LePrix X La Bella Donna Giveaway']['Email Address'])\n",
    "lbd=(orders_2020.loc[(orders_2020['Created At']>datetime.datetime(2020,5,28))\n",
    "                     & (orders_2020['Created At']<datetime.datetime(2020,8,28))])\n",
    "lbd=lbd[lbd['Buyer Email'].isin(lbd_email)]\n",
    "print('GMV from LePrix X La Bella Donna Giveaway: ${:.2f}'.format(lbd['Subtotal'].sum()))"
   ]
  },
  {
   "cell_type": "code",
   "execution_count": 88,
   "metadata": {},
   "outputs": [
    {
     "name": "stdout",
     "output_type": "stream",
     "text": [
      "GMV from LePrix X U Beauty: $44741.94\n"
     ]
    }
   ],
   "source": [
    "ub_email=list(contest20[contest20['Contest']=='LePrix X U Beauty']['Email Address'])\n",
    "ub=(orders_2020.loc[(orders_2020['Created At']>datetime.datetime(2020,1,8))\n",
    "                     & (orders_2020['Created At']<datetime.datetime(2020,4,8))])\n",
    "ub=ub[ub['Buyer Email'].isin(ub_email)]\n",
    "print('GMV from LePrix X U Beauty: ${:.2f}'.format(ub['Subtotal'].sum()))"
   ]
  },
  {
   "cell_type": "code",
   "execution_count": 89,
   "metadata": {},
   "outputs": [
    {
     "name": "stdout",
     "output_type": "stream",
     "text": [
      "GMV from Skin Inc. X LePrix Giveaway: $98369.65\n"
     ]
    }
   ],
   "source": [
    "si_email=list(contest20[contest20['Contest']=='Skin Inc. X LePrix Giveaway']['Email Address'])\n",
    "si=(orders_2020.loc[(orders_2020['Created At']>datetime.datetime(2020,4,14))\n",
    "                     & (orders_2020['Created At']<datetime.datetime(2020,7,14))])\n",
    "si=si[si['Buyer Email'].isin(si_email)]\n",
    "print('GMV from Skin Inc. X LePrix Giveaway: ${:.2f}'.format(si['Subtotal'].sum()))"
   ]
  },
  {
   "cell_type": "code",
   "execution_count": 91,
   "metadata": {},
   "outputs": [
    {
     "data": {
      "text/plain": [
       "Contest                           active_buyer\n",
       "Lashify x LePrix                  N               99.909950\n",
       "                                  Y                0.090050\n",
       "LePrix X La Bella Donna Giveaway  N               99.735275\n",
       "                                  Y                0.264725\n",
       "LePrix X U Beauty                 N               99.813055\n",
       "                                  Y                0.186945\n",
       "Skin Inc. X LePrix Giveaway       N               99.636536\n",
       "                                  Y                0.363464\n",
       "Name: active_buyer, dtype: float64"
      ]
     },
     "execution_count": 91,
     "metadata": {},
     "output_type": "execute_result"
    }
   ],
   "source": [
    "act_em2=list(order['Buyer Email'])\n",
    "contest20['active_buyer']='N'\n",
    "contest20.loc[contest20['Email Address'].isin(act_em2),'active_buyer']='Y'\n",
    "contest20.groupby('Contest')['active_buyer'].value_counts()/contest20.groupby('Contest')['active_buyer'].count()*100"
   ]
  },
  {
   "cell_type": "code",
   "execution_count": 92,
   "metadata": {},
   "outputs": [
    {
     "data": {
      "text/plain": [
       "Contest                           active_buyer\n",
       "Lashify x LePrix                  N               11095\n",
       "                                  Y                  10\n",
       "LePrix X La Bella Donna Giveaway  N                4521\n",
       "                                  Y                  12\n",
       "LePrix X U Beauty                 N                6407\n",
       "                                  Y                  12\n",
       "Skin Inc. X LePrix Giveaway       N                6305\n",
       "                                  Y                  23\n",
       "Name: active_buyer, dtype: int64"
      ]
     },
     "execution_count": 92,
     "metadata": {},
     "output_type": "execute_result"
    }
   ],
   "source": [
    "count20_act=contest20.groupby('Contest')['active_buyer'].value_counts()\n",
    "count20_act"
   ]
  },
  {
   "cell_type": "code",
   "execution_count": 93,
   "metadata": {},
   "outputs": [
    {
     "name": "stdout",
     "output_type": "stream",
     "text": [
      "number of active buyers from Lashify x LePrix: 10\n",
      "number of active buyers from LePrix X La Bella Donna Giveaway: 12\n",
      "number of active buyers from LePrix X U Beauty: 12\n",
      "number of active buyers from Skin Inc. X LePrix Giveaway: 23\n"
     ]
    }
   ],
   "source": [
    "print('number of active buyers from Lashify x LePrix: {}'.format(count20_act[1]))\n",
    "print('number of active buyers from LePrix X La Bella Donna Giveaway: {}'.format(count20_act[3]))\n",
    "print('number of active buyers from LePrix X U Beauty: {}'.format(count20_act[5]))\n",
    "print('number of active buyers from Skin Inc. X LePrix Giveaway: {}'.format(count20_act[7]))"
   ]
  },
  {
   "cell_type": "markdown",
   "metadata": {},
   "source": [
    "## 2017"
   ]
  },
  {
   "cell_type": "code",
   "execution_count": 47,
   "metadata": {},
   "outputs": [],
   "source": [
    "contest17=pd.read_csv('2017_contest.csv')\n",
    "contest17['Email Address']=contest17['Email Address'].str.lower()"
   ]
  },
  {
   "cell_type": "code",
   "execution_count": 48,
   "metadata": {},
   "outputs": [],
   "source": [
    "contest17['subscribed']='N'\n",
    "contest17.loc[contest17['Email Address'].isin(em_list), 'subscribed']='Y'"
   ]
  },
  {
   "cell_type": "code",
   "execution_count": 49,
   "metadata": {},
   "outputs": [
    {
     "data": {
      "image/png": "[encoded data removed]",
      "text/plain": [
       "<Figure size 720x576 with 1 Axes>"
      ]
     },
     "metadata": {
      "needs_background": "light"
     },
     "output_type": "display_data"
    }
   ],
   "source": [
    "plt.figure(figsize=(10,8))\n",
    "sns.histplot(x='Contest', hue='subscribed', data=contest17, multiple='stack', palette='rainbow')\n",
    "plt.title('2017 Contest Entrys and Subscribers to Listserv')\n",
    "plt.show()"
   ]
  },
  {
   "cell_type": "code",
   "execution_count": 50,
   "metadata": {},
   "outputs": [
    {
     "data": {
      "text/plain": [
       "Contest                       subscribed\n",
       "The Ultimate Bridal Giveaway  N             86.39576\n",
       "                              Y             13.60424\n",
       "The Ultimate Luxury Giveaway  N             83.73397\n",
       "                              Y             16.26603\n",
       "Name: subscribed, dtype: float64"
      ]
     },
     "execution_count": 50,
     "metadata": {},
     "output_type": "execute_result"
    }
   ],
   "source": [
    "(contest17.groupby('Contest')['subscribed']\n",
    " .value_counts()/contest17.groupby('Contest')['subscribed']\n",
    " .count()*100)"
   ]
  },
  {
   "cell_type": "code",
   "execution_count": 51,
   "metadata": {},
   "outputs": [],
   "source": [
    "contest17=contest17.merge(sub[['Email Address', 'OPTIN_TIME']], how='left')\n",
    "contest17[['Created At', 'OPTIN_TIME']]=contest17[['Created At', 'OPTIN_TIME']].apply(pd.to_datetime)\n",
    "contest17['time_to_sub']=(contest17['OPTIN_TIME']-contest17['Created At']).dt.days"
   ]
  },
  {
   "cell_type": "code",
   "execution_count": 52,
   "metadata": {},
   "outputs": [
    {
     "data": {
      "text/plain": [
       "6"
      ]
     },
     "execution_count": 52,
     "metadata": {},
     "output_type": "execute_result"
    }
   ],
   "source": [
    "len(contest17[contest17['time_to_sub']<0])"
   ]
  },
  {
   "cell_type": "code",
   "execution_count": null,
   "metadata": {},
   "outputs": [],
   "source": []
  }
 ],
 "metadata": {
  "kernelspec": {
   "display_name": "Python 3",
   "language": "python",
   "name": "python3"
  },
  "language_info": {
   "codemirror_mode": {
    "name": "ipython",
    "version": 3
   },
   "file_extension": ".py",
   "mimetype": "text/x-python",
   "name": "python",
   "nbconvert_exporter": "python",
   "pygments_lexer": "ipython3",
   "version": "3.7.6"
  }
 },
 "nbformat": 4,
 "nbformat_minor": 4
}
