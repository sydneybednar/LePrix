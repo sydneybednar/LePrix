{
 "cells": [
  {
   "cell_type": "markdown",
   "metadata": {},
   "source": [
    "# Hotjar Summary"
   ]
  },
  {
   "cell_type": "code",
   "execution_count": 1,
   "metadata": {},
   "outputs": [],
   "source": [
    "import pandas as pd\n",
    "import numpy as np\n",
    "import matplotlib.pyplot as plt\n",
    "from scipy import stats\n",
    "import statsmodels.api as sm\n",
    "import seaborn as sns\n",
    "import datetime"
   ]
  },
  {
   "cell_type": "code",
   "execution_count": 2,
   "metadata": {},
   "outputs": [],
   "source": [
    "hotjar=pd.read_excel('hotjar_log.xlsx')"
   ]
  },
  {
   "cell_type": "code",
   "execution_count": 3,
   "metadata": {},
   "outputs": [
    {
     "data": {
      "text/plain": [
       "(605, 5)"
      ]
     },
     "execution_count": 3,
     "metadata": {},
     "output_type": "execute_result"
    }
   ],
   "source": [
    "hotjar.shape"
   ]
  },
  {
   "cell_type": "code",
   "execution_count": 4,
   "metadata": {},
   "outputs": [],
   "source": [
    "hotjar['Date Time']=pd.to_datetime(hotjar['Date Time'])"
   ]
  },
  {
   "cell_type": "code",
   "execution_count": 5,
   "metadata": {},
   "outputs": [],
   "source": [
    "hotjar=hotjar.dropna(subset=['Action'])"
   ]
  },
  {
   "cell_type": "code",
   "execution_count": 6,
   "metadata": {},
   "outputs": [
    {
     "data": {
      "text/plain": [
       "/add to bag         57\n",
       "/place bid          57\n",
       "lv shoulder bag     45\n",
       "lv wallet           39\n",
       "lv tote             34\n",
       "                    ..\n",
       "# shop all           1\n",
       "prada top handle     1\n",
       "\"marmonty\"           1\n",
       "# hot deals          1\n",
       "ysl backpack         1\n",
       "Name: Qty/Input, Length: 122, dtype: int64"
      ]
     },
     "execution_count": 6,
     "metadata": {},
     "output_type": "execute_result"
    }
   ],
   "source": [
    "hotjar['Qty/Input'].value_counts()"
   ]
  },
  {
   "cell_type": "code",
   "execution_count": 7,
   "metadata": {},
   "outputs": [
    {
     "data": {
      "text/plain": [
       "Action  Qty/Input                \n",
       "Click   /add to bag                  11.899791\n",
       "        /place bid                   11.899791\n",
       "        lv wallet                     7.724426\n",
       "        lv shoulder bag               6.889353\n",
       "        lv tote                       5.845511\n",
       "                                       ...    \n",
       "Search  \"sunglasses\"                 10.000000\n",
       "Sort    prices low to high           44.444444\n",
       "        price low to high            22.222222\n",
       "        prices high to low           22.222222\n",
       "        minimum bid (low to high)    11.111111\n",
       "Name: Qty/Input, Length: 131, dtype: float64"
      ]
     },
     "execution_count": 7,
     "metadata": {},
     "output_type": "execute_result"
    }
   ],
   "source": [
    "hotjar.groupby('Action')['Qty/Input'].value_counts(normalize=True)*100"
   ]
  },
  {
   "cell_type": "code",
   "execution_count": 28,
   "metadata": {},
   "outputs": [
    {
     "data": {
      "text/plain": [
       "Action\n",
       "Click       54\n",
       "Favorite    12\n",
       "Name: Qty/Input, dtype: int64"
      ]
     },
     "execution_count": 28,
     "metadata": {},
     "output_type": "execute_result"
    }
   ],
   "source": [
    "hotjar[hotjar['Qty/Input'].str.contains('chanel')].groupby('Action')['Qty/Input'].count()"
   ]
  },
  {
   "cell_type": "code",
   "execution_count": 9,
   "metadata": {},
   "outputs": [
    {
     "data": {
      "text/plain": [
       "141"
      ]
     },
     "execution_count": 9,
     "metadata": {},
     "output_type": "execute_result"
    }
   ],
   "source": [
    "len(hotjar[hotjar['Qty/Input'].str.contains('lv')])-6"
   ]
  },
  {
   "cell_type": "code",
   "execution_count": 29,
   "metadata": {},
   "outputs": [
    {
     "data": {
      "text/html": [
       "<div>\n",
       "<style scoped>\n",
       "    .dataframe tbody tr th:only-of-type {\n",
       "        vertical-align: middle;\n",
       "    }\n",
       "\n",
       "    .dataframe tbody tr th {\n",
       "        vertical-align: top;\n",
       "    }\n",
       "\n",
       "    .dataframe thead th {\n",
       "        text-align: right;\n",
       "    }\n",
       "</style>\n",
       "<table border=\"1\" class=\"dataframe\">\n",
       "  <thead>\n",
       "    <tr style=\"text-align: right;\">\n",
       "      <th></th>\n",
       "      <th>0</th>\n",
       "    </tr>\n",
       "  </thead>\n",
       "  <tbody>\n",
       "    <tr>\n",
       "      <th>0</th>\n",
       "      <td>clothesencountersdc@gmail.com</td>\n",
       "    </tr>\n",
       "    <tr>\n",
       "      <th>1</th>\n",
       "      <td>juli.madigan@ebth.com</td>\n",
       "    </tr>\n",
       "    <tr>\n",
       "      <th>2</th>\n",
       "      <td>nesly.m@lxrco.com</td>\n",
       "    </tr>\n",
       "    <tr>\n",
       "      <th>3</th>\n",
       "      <td>luckyfindsboutique@gmail.com</td>\n",
       "    </tr>\n",
       "    <tr>\n",
       "      <th>4</th>\n",
       "      <td>hbowie@ruegiltgroupe.com</td>\n",
       "    </tr>\n",
       "    <tr>\n",
       "      <th>5</th>\n",
       "      <td>kim@onagainconsignment.com</td>\n",
       "    </tr>\n",
       "    <tr>\n",
       "      <th>6</th>\n",
       "      <td>jmsnapoleon@yahoo.com</td>\n",
       "    </tr>\n",
       "    <tr>\n",
       "      <th>7</th>\n",
       "      <td>wayne@vivrelle.com</td>\n",
       "    </tr>\n",
       "    <tr>\n",
       "      <th>8</th>\n",
       "      <td>smittenluxury@gmail.com</td>\n",
       "    </tr>\n",
       "    <tr>\n",
       "      <th>9</th>\n",
       "      <td>egpnyc@gmail.com</td>\n",
       "    </tr>\n",
       "    <tr>\n",
       "      <th>10</th>\n",
       "      <td>doubletakeva@gmail.com</td>\n",
       "    </tr>\n",
       "    <tr>\n",
       "      <th>11</th>\n",
       "      <td>itskarlawilliams@gmail.com</td>\n",
       "    </tr>\n",
       "    <tr>\n",
       "      <th>12</th>\n",
       "      <td>airamsossat@gmail.com</td>\n",
       "    </tr>\n",
       "    <tr>\n",
       "      <th>13</th>\n",
       "      <td>kathyancompany@gmail.com</td>\n",
       "    </tr>\n",
       "    <tr>\n",
       "      <th>14</th>\n",
       "      <td>sickofstorms@aol.com</td>\n",
       "    </tr>\n",
       "    <tr>\n",
       "      <th>15</th>\n",
       "      <td>urconsign@gmail.com</td>\n",
       "    </tr>\n",
       "    <tr>\n",
       "      <th>16</th>\n",
       "      <td>salesexpert@luxurygoround.com</td>\n",
       "    </tr>\n",
       "    <tr>\n",
       "      <th>17</th>\n",
       "      <td>chris.fuhrman@homations.com</td>\n",
       "    </tr>\n",
       "    <tr>\n",
       "      <th>18</th>\n",
       "      <td>alyssa.trn@gmail.com</td>\n",
       "    </tr>\n",
       "    <tr>\n",
       "      <th>19</th>\n",
       "      <td>mail@chicconsignment.com</td>\n",
       "    </tr>\n",
       "    <tr>\n",
       "      <th>20</th>\n",
       "      <td>sara.holme@bagborrowsteal.com</td>\n",
       "    </tr>\n",
       "    <tr>\n",
       "      <th>21</th>\n",
       "      <td>sandra.decola@gmail.com</td>\n",
       "    </tr>\n",
       "  </tbody>\n",
       "</table>\n",
       "</div>"
      ],
      "text/plain": [
       "                                0\n",
       "0   clothesencountersdc@gmail.com\n",
       "1           juli.madigan@ebth.com\n",
       "2               nesly.m@lxrco.com\n",
       "3    luckyfindsboutique@gmail.com\n",
       "4        hbowie@ruegiltgroupe.com\n",
       "5      kim@onagainconsignment.com\n",
       "6           jmsnapoleon@yahoo.com\n",
       "7              wayne@vivrelle.com\n",
       "8         smittenluxury@gmail.com\n",
       "9                egpnyc@gmail.com\n",
       "10         doubletakeva@gmail.com\n",
       "11     itskarlawilliams@gmail.com\n",
       "12          airamsossat@gmail.com\n",
       "13       kathyancompany@gmail.com\n",
       "14           sickofstorms@aol.com\n",
       "15            urconsign@gmail.com\n",
       "16  salesexpert@luxurygoround.com\n",
       "17    chris.fuhrman@homations.com\n",
       "18           alyssa.trn@gmail.com\n",
       "19       mail@chicconsignment.com\n",
       "20  sara.holme@bagborrowsteal.com\n",
       "21        sandra.decola@gmail.com"
      ]
     },
     "execution_count": 29,
     "metadata": {},
     "output_type": "execute_result"
    }
   ],
   "source": [
    "pd.DataFrame(hotjar['User Email'].unique())"
   ]
  },
  {
   "cell_type": "code",
   "execution_count": 11,
   "metadata": {},
   "outputs": [
    {
     "data": {
      "text/plain": [
       "Action    Qty/Input          \n",
       "Click     gucci shoulder bag     27\n",
       "          gucci tote             14\n",
       "          gucci clutch           11\n",
       "          gucci wallet            8\n",
       "          gucci sunglasses        6\n",
       "          gucci crossbody bag     4\n",
       "          gucci handbag           3\n",
       "          gucci top handle        2\n",
       "          gucci accessory         1\n",
       "          gucci case              1\n",
       "          gucci hat               1\n",
       "          gucci waist bag         1\n",
       "Favorite  gucci shoulder bag      6\n",
       "          gucci crossbody bag     2\n",
       "          gucci backpack          1\n",
       "Search    \"gucci marmot\"          1\n",
       "          \"gucci soho\"            1\n",
       "Name: Qty/Input, dtype: int64"
      ]
     },
     "execution_count": 11,
     "metadata": {},
     "output_type": "execute_result"
    }
   ],
   "source": [
    "hotjar[hotjar['Qty/Input'].str.contains('gucci')].groupby('Action')['Qty/Input'].value_counts()"
   ]
  },
  {
   "cell_type": "code",
   "execution_count": 12,
   "metadata": {},
   "outputs": [
    {
     "data": {
      "text/plain": [
       "Action\n",
       "Click       79\n",
       "Favorite     9\n",
       "Search       2\n",
       "Name: Qty/Input, dtype: int64"
      ]
     },
     "execution_count": 12,
     "metadata": {},
     "output_type": "execute_result"
    }
   ],
   "source": [
    "hotjar[hotjar['Qty/Input'].str.contains('gucci')].groupby('Action')['Qty/Input'].count()"
   ]
  },
  {
   "cell_type": "code",
   "execution_count": 13,
   "metadata": {},
   "outputs": [
    {
     "data": {
      "text/html": [
       "<div>\n",
       "<style scoped>\n",
       "    .dataframe tbody tr th:only-of-type {\n",
       "        vertical-align: middle;\n",
       "    }\n",
       "\n",
       "    .dataframe tbody tr th {\n",
       "        vertical-align: top;\n",
       "    }\n",
       "\n",
       "    .dataframe thead th {\n",
       "        text-align: right;\n",
       "    }\n",
       "</style>\n",
       "<table border=\"1\" class=\"dataframe\">\n",
       "  <thead>\n",
       "    <tr style=\"text-align: right;\">\n",
       "      <th></th>\n",
       "      <th>User Email</th>\n",
       "      <th>Date Time</th>\n",
       "      <th>Action</th>\n",
       "      <th>Qty/Input</th>\n",
       "      <th>Specs</th>\n",
       "    </tr>\n",
       "  </thead>\n",
       "  <tbody>\n",
       "    <tr>\n",
       "      <th>0</th>\n",
       "      <td>clothesencountersdc@gmail.com</td>\n",
       "      <td>2021-06-28 14:09:00</td>\n",
       "      <td>Search</td>\n",
       "      <td>\"louis vuitton azur\"</td>\n",
       "      <td>NaN</td>\n",
       "    </tr>\n",
       "    <tr>\n",
       "      <th>4</th>\n",
       "      <td>clothesencountersdc@gmail.com</td>\n",
       "      <td>2021-06-28 14:09:00</td>\n",
       "      <td>Search</td>\n",
       "      <td>\"louis vuitton graphite\"</td>\n",
       "      <td>NaN</td>\n",
       "    </tr>\n",
       "    <tr>\n",
       "      <th>6</th>\n",
       "      <td>clothesencountersdc@gmail.com</td>\n",
       "      <td>2021-06-28 14:09:00</td>\n",
       "      <td>Search</td>\n",
       "      <td>\"gucci soho\"</td>\n",
       "      <td>NaN</td>\n",
       "    </tr>\n",
       "    <tr>\n",
       "      <th>8</th>\n",
       "      <td>clothesencountersdc@gmail.com</td>\n",
       "      <td>2021-06-28 14:09:00</td>\n",
       "      <td>Search</td>\n",
       "      <td>\"gucci marmot\"</td>\n",
       "      <td>NaN</td>\n",
       "    </tr>\n",
       "    <tr>\n",
       "      <th>260</th>\n",
       "      <td>egpnyc@gmail.com</td>\n",
       "      <td>2021-07-06 17:52:00</td>\n",
       "      <td>Search</td>\n",
       "      <td>\"marmonty\"</td>\n",
       "      <td>NaN</td>\n",
       "    </tr>\n",
       "    <tr>\n",
       "      <th>279</th>\n",
       "      <td>doubletakeva@gmail.com</td>\n",
       "      <td>2021-07-08 17:30:00</td>\n",
       "      <td>Search</td>\n",
       "      <td>\"louis vuitton wallet\"</td>\n",
       "      <td>NaN</td>\n",
       "    </tr>\n",
       "    <tr>\n",
       "      <th>434</th>\n",
       "      <td>salesexpert@luxurygoround.com</td>\n",
       "      <td>2021-07-22 01:26:00</td>\n",
       "      <td>Search</td>\n",
       "      <td>\"hermes bag charm\"</td>\n",
       "      <td>NaN</td>\n",
       "    </tr>\n",
       "    <tr>\n",
       "      <th>452</th>\n",
       "      <td>chris.fuhrman@homations.com</td>\n",
       "      <td>2021-07-21 19:14:00</td>\n",
       "      <td>Search</td>\n",
       "      <td>\"hat\"</td>\n",
       "      <td>NaN</td>\n",
       "    </tr>\n",
       "    <tr>\n",
       "      <th>453</th>\n",
       "      <td>chris.fuhrman@homations.com</td>\n",
       "      <td>2021-07-21 19:14:00</td>\n",
       "      <td>Search</td>\n",
       "      <td>\"belt\"</td>\n",
       "      <td>NaN</td>\n",
       "    </tr>\n",
       "    <tr>\n",
       "      <th>454</th>\n",
       "      <td>chris.fuhrman@homations.com</td>\n",
       "      <td>2021-07-21 19:14:00</td>\n",
       "      <td>Search</td>\n",
       "      <td>\"sunglasses\"</td>\n",
       "      <td>NaN</td>\n",
       "    </tr>\n",
       "  </tbody>\n",
       "</table>\n",
       "</div>"
      ],
      "text/plain": [
       "                        User Email           Date Time  Action  \\\n",
       "0    clothesencountersdc@gmail.com 2021-06-28 14:09:00  Search   \n",
       "4    clothesencountersdc@gmail.com 2021-06-28 14:09:00  Search   \n",
       "6    clothesencountersdc@gmail.com 2021-06-28 14:09:00  Search   \n",
       "8    clothesencountersdc@gmail.com 2021-06-28 14:09:00  Search   \n",
       "260               egpnyc@gmail.com 2021-07-06 17:52:00  Search   \n",
       "279         doubletakeva@gmail.com 2021-07-08 17:30:00  Search   \n",
       "434  salesexpert@luxurygoround.com 2021-07-22 01:26:00  Search   \n",
       "452    chris.fuhrman@homations.com 2021-07-21 19:14:00  Search   \n",
       "453    chris.fuhrman@homations.com 2021-07-21 19:14:00  Search   \n",
       "454    chris.fuhrman@homations.com 2021-07-21 19:14:00  Search   \n",
       "\n",
       "                    Qty/Input Specs  \n",
       "0        \"louis vuitton azur\"   NaN  \n",
       "4    \"louis vuitton graphite\"   NaN  \n",
       "6                \"gucci soho\"   NaN  \n",
       "8              \"gucci marmot\"   NaN  \n",
       "260                \"marmonty\"   NaN  \n",
       "279    \"louis vuitton wallet\"   NaN  \n",
       "434        \"hermes bag charm\"   NaN  \n",
       "452                     \"hat\"   NaN  \n",
       "453                    \"belt\"   NaN  \n",
       "454              \"sunglasses\"   NaN  "
      ]
     },
     "execution_count": 13,
     "metadata": {},
     "output_type": "execute_result"
    }
   ],
   "source": [
    "hotjar[hotjar['Action']=='Search']"
   ]
  },
  {
   "cell_type": "code",
   "execution_count": 31,
   "metadata": {},
   "outputs": [
    {
     "data": {
      "text/plain": [
       "User Email                     Qty/Input        \n",
       "airamsossat@gmail.com          newest               1\n",
       "alyssa.trn@gmail.com           overall grade        1\n",
       "clothesencountersdc@gmail.com  designer             1\n",
       "doubletakeva@gmail.com         newest               1\n",
       "egpnyc@gmail.com               designer             2\n",
       "                               handbags             2\n",
       "itskarlawilliams@gmail.com     designer             1\n",
       "jmsnapoleon@yahoo.com          handbags             1\n",
       "                               overall grade        1\n",
       "kathyancompany@gmail.com       auction              2\n",
       "                               designer             2\n",
       "                               handbags             2\n",
       "                               overall grade        1\n",
       "kim@onagainconsignment.com     jewelry              1\n",
       "luckyfindsboutique@gmail.com   designer             1\n",
       "                               price                1\n",
       "salesexpert@luxurygoround.com  accessories          2\n",
       "                               designer             2\n",
       "                               small accessories    1\n",
       "sandra.decola@gmail.com        designer             1\n",
       "                               overall grade        1\n",
       "sara.holme@bagborrowsteal.com  overall grade        1\n",
       "smittenluxury@gmail.com        designer             2\n",
       "                               handbags             2\n",
       "                               accessories          1\n",
       "urconsign@gmail.com            designer             1\n",
       "                               overall grade        1\n",
       "                               quick shipping       1\n",
       "wayne@vivrelle.com             overall grade        3\n",
       "                               auction              1\n",
       "Name: Qty/Input, dtype: int64"
      ]
     },
     "execution_count": 31,
     "metadata": {},
     "output_type": "execute_result"
    }
   ],
   "source": [
    "hotjar[hotjar['Action']=='Filter'].groupby('User Email')['Qty/Input'].value_counts()"
   ]
  },
  {
   "cell_type": "code",
   "execution_count": 17,
   "metadata": {},
   "outputs": [
    {
     "data": {
      "text/plain": [
       "User Email                     Qty/Input                \n",
       "clothesencountersdc@gmail.com  prices low to high           3\n",
       "                               prices high to low           1\n",
       "doubletakeva@gmail.com         price low to high            1\n",
       "egpnyc@gmail.com               minimum bid (low to high)    1\n",
       "                               price low to high            1\n",
       "luckyfindsboutique@gmail.com   prices high to low           1\n",
       "                               prices low to high           1\n",
       "Name: Qty/Input, dtype: int64"
      ]
     },
     "execution_count": 17,
     "metadata": {},
     "output_type": "execute_result"
    }
   ],
   "source": [
    "hotjar[hotjar['Action']=='Sort'].groupby('User Email')['Qty/Input'].value_counts()"
   ]
  },
  {
   "cell_type": "code",
   "execution_count": 33,
   "metadata": {},
   "outputs": [
    {
     "data": {
      "text/plain": [
       "User Email                     Qty/Input                \n",
       "clothesencountersdc@gmail.com  prices low to high           3\n",
       "                               prices high to low           1\n",
       "doubletakeva@gmail.com         price low to high            1\n",
       "egpnyc@gmail.com               minimum bid (low to high)    1\n",
       "                               price low to high            1\n",
       "luckyfindsboutique@gmail.com   prices high to low           1\n",
       "                               prices low to high           1\n",
       "Name: Qty/Input, dtype: int64"
      ]
     },
     "execution_count": 33,
     "metadata": {},
     "output_type": "execute_result"
    }
   ],
   "source": [
    "hotjar[hotjar['Action']=='Sort'].groupby('User Email')['Qty/Input'].value_counts()"
   ]
  },
  {
   "cell_type": "code",
   "execution_count": 35,
   "metadata": {},
   "outputs": [
    {
     "data": {
      "text/plain": [
       "User Email\n",
       "kathyancompany@gmail.com          6\n",
       "sandra.decola@gmail.com          35\n",
       "sara.holme@bagborrowsteal.com     1\n",
       "Name: Qty/Input, dtype: int64"
      ]
     },
     "execution_count": 35,
     "metadata": {},
     "output_type": "execute_result"
    }
   ],
   "source": [
    "hotjar[hotjar['Action']=='Favorite'].groupby('User Email')['Qty/Input'].count()"
   ]
  },
  {
   "cell_type": "code",
   "execution_count": 38,
   "metadata": {},
   "outputs": [
    {
     "data": {
      "text/plain": [
       "# bag                    5\n",
       "# confirm purchase       5\n",
       "# buyers                 4\n",
       "# staple must haves      3\n",
       "# my orders              3\n",
       "# Rue Gilt stock         1\n",
       "# shop all               1\n",
       "# my profile             1\n",
       "# hot deals              1\n",
       "# my bids                1\n",
       "# my account             1\n",
       "# EBTH stock             1\n",
       "# order                  1\n",
       "# view bids              1\n",
       "# blog                   1\n",
       "# summer essentials      1\n",
       "# rare and remarkable    1\n",
       "# suppliers              1\n",
       "# auction                1\n",
       "# review bids            1\n",
       "Name: Qty/Input, dtype: int64"
      ]
     },
     "execution_count": 38,
     "metadata": {},
     "output_type": "execute_result"
    }
   ],
   "source": [
    "hotjar[hotjar['Qty/Input'].str.contains('#')]['Qty/Input'].value_counts()"
   ]
  },
  {
   "cell_type": "code",
   "execution_count": null,
   "metadata": {},
   "outputs": [],
   "source": []
  }
 ],
 "metadata": {
  "kernelspec": {
   "display_name": "Python 3",
   "language": "python",
   "name": "python3"
  },
  "language_info": {
   "codemirror_mode": {
    "name": "ipython",
    "version": 3
   },
   "file_extension": ".py",
   "mimetype": "text/x-python",
   "name": "python",
   "nbconvert_exporter": "python",
   "pygments_lexer": "ipython3",
   "version": "3.7.6"
  }
 },
 "nbformat": 4,
 "nbformat_minor": 4
}
