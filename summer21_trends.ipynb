{
 "cells": [
  {
   "cell_type": "markdown",
   "metadata": {},
   "source": [
    "# Summer 2021 Trends"
   ]
  },
  {
   "cell_type": "code",
   "execution_count": 1,
   "metadata": {},
   "outputs": [],
   "source": [
    "import pandas as pd\n",
    "import numpy as np\n",
    "import matplotlib.pyplot as plt\n",
    "from scipy import stats\n",
    "import statsmodels.api as sm\n",
    "import seaborn as sns\n",
    "import datetime"
   ]
  },
  {
   "cell_type": "code",
   "execution_count": 2,
   "metadata": {},
   "outputs": [
    {
     "name": "stderr",
     "output_type": "stream",
     "text": [
      "/Users/sydneybednar/opt/anaconda3/lib/python3.7/site-packages/IPython/core/interactiveshell.py:3063: DtypeWarning: Columns (14,15) have mixed types.Specify dtype option on import or set low_memory=False.\n",
      "  interactivity=interactivity, compiler=compiler, result=result)\n"
     ]
    }
   ],
   "source": [
    "stock=pd.read_csv('all_stock.csv')\n",
    "bid=pd.read_csv('all_bid.csv')"
   ]
  },
  {
   "cell_type": "code",
   "execution_count": 3,
   "metadata": {},
   "outputs": [],
   "source": [
    "stock['submitted_date']=pd.to_datetime(stock['submitted_date'])\n",
    "bid['bid_placed_on']=pd.to_datetime(bid['bid_placed_on'])"
   ]
  },
  {
   "cell_type": "code",
   "execution_count": 8,
   "metadata": {},
   "outputs": [],
   "source": [
    "sum_s=stock.loc[(stock['submitted_date']>datetime.datetime(2021,3,1))&(stock['submitted_date']<datetime.datetime(2021,6,1))]\n",
    "sum_b=bid.loc[(bid['bid_placed_on']>datetime.datetime(2021,3,1))&(bid['bid_placed_on']<datetime.datetime(2021,6,1))]"
   ]
  },
  {
   "cell_type": "code",
   "execution_count": 9,
   "metadata": {},
   "outputs": [
    {
     "name": "stderr",
     "output_type": "stream",
     "text": [
      "/Users/sydneybednar/opt/anaconda3/lib/python3.7/site-packages/ipykernel_launcher.py:1: SettingWithCopyWarning: \n",
      "A value is trying to be set on a copy of a slice from a DataFrame.\n",
      "Try using .loc[row_indexer,col_indexer] = value instead\n",
      "\n",
      "See the caveats in the documentation: https://pandas.pydata.org/pandas-docs/stable/user_guide/indexing.html#returning-a-view-versus-a-copy\n",
      "  \"\"\"Entry point for launching an IPython kernel.\n"
     ]
    }
   ],
   "source": [
    "sum_s['title']=sum_s['title'].str.lower()"
   ]
  },
  {
   "cell_type": "code",
   "execution_count": 10,
   "metadata": {},
   "outputs": [],
   "source": [
    "top_5stock=list(sum_s['brand_name'].value_counts()[:5].index)\n",
    "top_5bid=list(sum_b['brand_name'].value_counts()[:5].index)"
   ]
  },
  {
   "cell_type": "code",
   "execution_count": 11,
   "metadata": {},
   "outputs": [
    {
     "data": {
      "image/png": "[encoded data removed]",
      "text/plain": [
       "<Figure size 1440x576 with 2 Axes>"
      ]
     },
     "metadata": {
      "needs_background": "light"
     },
     "output_type": "display_data"
    }
   ],
   "source": [
    "fig,axes=plt.subplots(1,2, figsize=(20,8))\n",
    "sns.countplot(x='brand_name', data=sum_s[sum_s['brand_name'].isin(top_5stock)],\n",
    "             order=['Louis Vuitton', 'Gucci', 'Chanel', 'Hermès', 'Prada'], palette='Dark2',\n",
    "              ax=axes[0]).set(title='March-May 2021 Stock Purchases of Top 5 Brands')\n",
    "sns.countplot(x='brand_name', data=sum_b[sum_b['brand_name'].isin(top_5bid)],\n",
    "             order=['Louis Vuitton', 'Chanel', 'Hermès', 'Gucci', 'Christian Dior'], palette='Accent',\n",
    "              ax=axes[1]).set(title='March-May 2021 Auction Bids of Top 5 Brands')\n",
    "plt.show()"
   ]
  },
  {
   "cell_type": "code",
   "execution_count": 19,
   "metadata": {},
   "outputs": [
    {
     "data": {
      "text/html": [
       "<div>\n",
       "<style scoped>\n",
       "    .dataframe tbody tr th:only-of-type {\n",
       "        vertical-align: middle;\n",
       "    }\n",
       "\n",
       "    .dataframe tbody tr th {\n",
       "        vertical-align: top;\n",
       "    }\n",
       "\n",
       "    .dataframe thead th {\n",
       "        text-align: right;\n",
       "    }\n",
       "</style>\n",
       "<table border=\"1\" class=\"dataframe\">\n",
       "  <thead>\n",
       "    <tr style=\"text-align: right;\">\n",
       "      <th></th>\n",
       "      <th>seller</th>\n",
       "      <th>item_count</th>\n",
       "    </tr>\n",
       "  </thead>\n",
       "  <tbody>\n",
       "    <tr>\n",
       "      <th>0</th>\n",
       "      <td>Next Innovation</td>\n",
       "      <td>1123</td>\n",
       "    </tr>\n",
       "    <tr>\n",
       "      <th>1</th>\n",
       "      <td>BrandOff</td>\n",
       "      <td>390</td>\n",
       "    </tr>\n",
       "    <tr>\n",
       "      <th>2</th>\n",
       "      <td>camille+eLady_frontend</td>\n",
       "      <td>387</td>\n",
       "    </tr>\n",
       "    <tr>\n",
       "      <th>3</th>\n",
       "      <td>camille+glt</td>\n",
       "      <td>376</td>\n",
       "    </tr>\n",
       "    <tr>\n",
       "      <th>4</th>\n",
       "      <td>camille+vtt</td>\n",
       "      <td>331</td>\n",
       "    </tr>\n",
       "    <tr>\n",
       "      <th>5</th>\n",
       "      <td>camille+brandear</td>\n",
       "      <td>204</td>\n",
       "    </tr>\n",
       "    <tr>\n",
       "      <th>6</th>\n",
       "      <td>jeannette+dct-ep</td>\n",
       "      <td>186</td>\n",
       "    </tr>\n",
       "    <tr>\n",
       "      <th>7</th>\n",
       "      <td>RS_JapanWholesale</td>\n",
       "      <td>151</td>\n",
       "    </tr>\n",
       "    <tr>\n",
       "      <th>8</th>\n",
       "      <td>Camille+brandstreetTokyo</td>\n",
       "      <td>117</td>\n",
       "    </tr>\n",
       "    <tr>\n",
       "      <th>9</th>\n",
       "      <td>BrandJFA_WS</td>\n",
       "      <td>97</td>\n",
       "    </tr>\n",
       "  </tbody>\n",
       "</table>\n",
       "</div>"
      ],
      "text/plain": [
       "                     seller  item_count\n",
       "0           Next Innovation        1123\n",
       "1                  BrandOff         390\n",
       "2    camille+eLady_frontend         387\n",
       "3               camille+glt         376\n",
       "4               camille+vtt         331\n",
       "5          camille+brandear         204\n",
       "6          jeannette+dct-ep         186\n",
       "7         RS_JapanWholesale         151\n",
       "8  Camille+brandstreetTokyo         117\n",
       "9               BrandJFA_WS          97"
      ]
     },
     "execution_count": 19,
     "metadata": {},
     "output_type": "execute_result"
    }
   ],
   "source": [
    "sum_s['seller'].value_counts().rename('item_count')[:10].reset_index().rename(columns={'index':'seller'})"
   ]
  },
  {
   "cell_type": "code",
   "execution_count": 73,
   "metadata": {},
   "outputs": [
    {
     "name": "stderr",
     "output_type": "stream",
     "text": [
      "/Users/sydneybednar/opt/anaconda3/lib/python3.7/site-packages/ipykernel_launcher.py:1: SettingWithCopyWarning: \n",
      "A value is trying to be set on a copy of a slice from a DataFrame.\n",
      "Try using .loc[row_indexer,col_indexer] = value instead\n",
      "\n",
      "See the caveats in the documentation: https://pandas.pydata.org/pandas-docs/stable/user_guide/indexing.html#returning-a-view-versus-a-copy\n",
      "  \"\"\"Entry point for launching an IPython kernel.\n",
      "/Users/sydneybednar/opt/anaconda3/lib/python3.7/site-packages/ipykernel_launcher.py:2: SettingWithCopyWarning: \n",
      "A value is trying to be set on a copy of a slice from a DataFrame.\n",
      "Try using .loc[row_indexer,col_indexer] = value instead\n",
      "\n",
      "See the caveats in the documentation: https://pandas.pydata.org/pandas-docs/stable/user_guide/indexing.html#returning-a-view-versus-a-copy\n",
      "  \n"
     ]
    }
   ],
   "source": [
    "sum_s['title']=sum_s['title'].str.lower()\n",
    "sum_b['title']=sum_b['title'].str.lower()"
   ]
  },
  {
   "cell_type": "code",
   "execution_count": 32,
   "metadata": {},
   "outputs": [
    {
     "name": "stderr",
     "output_type": "stream",
     "text": [
      "/Users/sydneybednar/opt/anaconda3/lib/python3.7/site-packages/pandas/core/indexing.py:844: SettingWithCopyWarning: \n",
      "A value is trying to be set on a copy of a slice from a DataFrame.\n",
      "Try using .loc[row_indexer,col_indexer] = value instead\n",
      "\n",
      "See the caveats in the documentation: https://pandas.pydata.org/pandas-docs/stable/user_guide/indexing.html#returning-a-view-versus-a-copy\n",
      "  self.obj[key] = _infer_fill_value(value)\n",
      "/Users/sydneybednar/opt/anaconda3/lib/python3.7/site-packages/pandas/core/indexing.py:965: SettingWithCopyWarning: \n",
      "A value is trying to be set on a copy of a slice from a DataFrame.\n",
      "Try using .loc[row_indexer,col_indexer] = value instead\n",
      "\n",
      "See the caveats in the documentation: https://pandas.pydata.org/pandas-docs/stable/user_guide/indexing.html#returning-a-view-versus-a-copy\n",
      "  self.obj[item] = s\n"
     ]
    },
    {
     "data": {
      "text/html": [
       "<div>\n",
       "<style scoped>\n",
       "    .dataframe tbody tr th:only-of-type {\n",
       "        vertical-align: middle;\n",
       "    }\n",
       "\n",
       "    .dataframe tbody tr th {\n",
       "        vertical-align: top;\n",
       "    }\n",
       "\n",
       "    .dataframe thead th {\n",
       "        text-align: right;\n",
       "    }\n",
       "</style>\n",
       "<table border=\"1\" class=\"dataframe\">\n",
       "  <thead>\n",
       "    <tr style=\"text-align: right;\">\n",
       "      <th></th>\n",
       "      <th>seller</th>\n",
       "      <th>seller_id</th>\n",
       "      <th>buyer</th>\n",
       "      <th>buyer_id</th>\n",
       "      <th>item_id</th>\n",
       "      <th>title</th>\n",
       "      <th>brand_name</th>\n",
       "      <th>category_name</th>\n",
       "      <th>price</th>\n",
       "      <th>submitted_date</th>\n",
       "      <th>style</th>\n",
       "    </tr>\n",
       "  </thead>\n",
       "  <tbody>\n",
       "    <tr>\n",
       "      <th>7614</th>\n",
       "      <td>Camille+brandstreetTokyo</td>\n",
       "      <td>206687</td>\n",
       "      <td>season 2 consign</td>\n",
       "      <td>214028</td>\n",
       "      <td>2371323</td>\n",
       "      <td>louis vuitton monogram agenda pm day planner c...</td>\n",
       "      <td>Louis Vuitton</td>\n",
       "      <td>Small Accessories</td>\n",
       "      <td>132.0</td>\n",
       "      <td>2021-03-01 15:27:00</td>\n",
       "      <td>NaN</td>\n",
       "    </tr>\n",
       "    <tr>\n",
       "      <th>7615</th>\n",
       "      <td>camille+glt</td>\n",
       "      <td>199623</td>\n",
       "      <td>season 2 consign</td>\n",
       "      <td>214028</td>\n",
       "      <td>2371240</td>\n",
       "      <td>louis vuitton speedy 30, epi</td>\n",
       "      <td>Louis Vuitton</td>\n",
       "      <td>Top Handles &amp; Satchels</td>\n",
       "      <td>533.0</td>\n",
       "      <td>2021-03-01 15:27:00</td>\n",
       "      <td>speedy</td>\n",
       "    </tr>\n",
       "    <tr>\n",
       "      <th>7616</th>\n",
       "      <td>camille+glt</td>\n",
       "      <td>199623</td>\n",
       "      <td>season 2 consign</td>\n",
       "      <td>214028</td>\n",
       "      <td>2371131</td>\n",
       "      <td>louis vuitton speedy 25 epi</td>\n",
       "      <td>Louis Vuitton</td>\n",
       "      <td>Top Handles &amp; Satchels</td>\n",
       "      <td>565.0</td>\n",
       "      <td>2021-03-01 15:27:00</td>\n",
       "      <td>speedy</td>\n",
       "    </tr>\n",
       "    <tr>\n",
       "      <th>7617</th>\n",
       "      <td>camille+glt</td>\n",
       "      <td>199623</td>\n",
       "      <td>everything but the house</td>\n",
       "      <td>216378</td>\n",
       "      <td>2371171</td>\n",
       "      <td>louis vuitton musette gm, monogram canvas</td>\n",
       "      <td>Louis Vuitton</td>\n",
       "      <td>Shoulder Bags</td>\n",
       "      <td>544.0</td>\n",
       "      <td>2021-03-01 16:47:00</td>\n",
       "      <td>NaN</td>\n",
       "    </tr>\n",
       "    <tr>\n",
       "      <th>7626</th>\n",
       "      <td>Camille+brandstreetTokyo</td>\n",
       "      <td>206687</td>\n",
       "      <td>the realreal</td>\n",
       "      <td>200963</td>\n",
       "      <td>2371300</td>\n",
       "      <td>louis vuitton monogram mat houston hand bag no...</td>\n",
       "      <td>Louis Vuitton</td>\n",
       "      <td>Top Handles &amp; Satchels</td>\n",
       "      <td>526.0</td>\n",
       "      <td>2021-03-01 18:21:00</td>\n",
       "      <td>NaN</td>\n",
       "    </tr>\n",
       "  </tbody>\n",
       "</table>\n",
       "</div>"
      ],
      "text/plain": [
       "                        seller  seller_id                     buyer  buyer_id  \\\n",
       "7614  Camille+brandstreetTokyo     206687          season 2 consign    214028   \n",
       "7615               camille+glt     199623          season 2 consign    214028   \n",
       "7616               camille+glt     199623          season 2 consign    214028   \n",
       "7617               camille+glt     199623  everything but the house    216378   \n",
       "7626  Camille+brandstreetTokyo     206687              the realreal    200963   \n",
       "\n",
       "      item_id                                              title  \\\n",
       "7614  2371323  louis vuitton monogram agenda pm day planner c...   \n",
       "7615  2371240                       louis vuitton speedy 30, epi   \n",
       "7616  2371131                        louis vuitton speedy 25 epi   \n",
       "7617  2371171          louis vuitton musette gm, monogram canvas   \n",
       "7626  2371300  louis vuitton monogram mat houston hand bag no...   \n",
       "\n",
       "         brand_name           category_name  price      submitted_date   style  \n",
       "7614  Louis Vuitton       Small Accessories  132.0 2021-03-01 15:27:00     NaN  \n",
       "7615  Louis Vuitton  Top Handles & Satchels  533.0 2021-03-01 15:27:00  speedy  \n",
       "7616  Louis Vuitton  Top Handles & Satchels  565.0 2021-03-01 15:27:00  speedy  \n",
       "7617  Louis Vuitton           Shoulder Bags  544.0 2021-03-01 16:47:00     NaN  \n",
       "7626  Louis Vuitton  Top Handles & Satchels  526.0 2021-03-01 18:21:00     NaN  "
      ]
     },
     "execution_count": 32,
     "metadata": {},
     "output_type": "execute_result"
    }
   ],
   "source": [
    "lv=sum_s.loc[sum_s['brand_name']=='Louis Vuitton']\n",
    "lv.loc[lv['title'].str.contains('neverfull'), 'style']='neverfull'\n",
    "lv.loc[lv['title'].str.contains('speedy'), 'style']='speedy'\n",
    "lv.loc[lv['title'].str.contains('alma'), 'style']='alma'\n",
    "lv.loc[lv['title'].str.contains('pochette'), 'style']='pochette'\n",
    "lv.loc[lv['title'].str.contains('pochette'), 'style']='keepall'\n",
    "\n",
    "lv.head()"
   ]
  },
  {
   "cell_type": "code",
   "execution_count": 49,
   "metadata": {},
   "outputs": [],
   "source": [
    "nv=lv.loc[lv['title'].str.contains('neverfull')]\n",
    "sp=lv.loc[lv['title'].str.contains('speedy')]\n",
    "al=lv.loc[lv['title'].str.contains('alma')]\n",
    "po=lv.loc[lv['title'].str.contains('pochette')]\n",
    "ke=lv.loc[lv['title'].str.contains('keepall')]"
   ]
  },
  {
   "cell_type": "code",
   "execution_count": 60,
   "metadata": {},
   "outputs": [
    {
     "data": {
      "image/png": "[encoded data removed]",
      "text/plain": [
       "<Figure size 720x576 with 1 Axes>"
      ]
     },
     "metadata": {
      "needs_background": "light"
     },
     "output_type": "display_data"
    }
   ],
   "source": [
    "plt.figure(figsize=(10,8))\n",
    "ax=sns.lineplot(x=nv['submitted_date'].dt.month.unique(),\n",
    "                y=list(nv.groupby(nv['submitted_date'].dt.month)['price'].count()), marker='o',\n",
    "               label='Neverfull')\n",
    "ax=sns.lineplot(x=sp['submitted_date'].dt.month.unique(),\n",
    "                y=list(sp.groupby(sp['submitted_date'].dt.month)['price'].count()), marker='o',\n",
    "               label='Speedy')\n",
    "ax=sns.lineplot(x=al['submitted_date'].dt.month.unique(),\n",
    "                y=list(al.groupby(al['submitted_date'].dt.month)['price'].count()), marker='o',\n",
    "               label='Alma')\n",
    "ax=sns.lineplot(x=po['submitted_date'].dt.month.unique(),\n",
    "                y=list(po.groupby(po['submitted_date'].dt.month)['price'].count()), marker='o',\n",
    "               label='Pochette')\n",
    "ax=sns.lineplot(x=ke['submitted_date'].dt.month.unique(),\n",
    "                y=list(ke.groupby(ke['submitted_date'].dt.month)['price'].count()), marker='o',\n",
    "               label='Keepall')\n",
    "plt.title('LV Bag Styles Stock Purchases Per Month')\n",
    "plt.ylabel('number of purchases')\n",
    "plt.xlabel('month')\n",
    "ax.set_xticks(range(3,6))\n",
    "ax.set_xticklabels(['March', 'April', 'May'])\n",
    "plt.show()"
   ]
  },
  {
   "cell_type": "code",
   "execution_count": 61,
   "metadata": {},
   "outputs": [
    {
     "data": {
      "text/plain": [
       "571.1090909090909"
      ]
     },
     "execution_count": 61,
     "metadata": {},
     "output_type": "execute_result"
    }
   ],
   "source": [
    "sp['price'].mean()"
   ]
  },
  {
   "cell_type": "code",
   "execution_count": 62,
   "metadata": {},
   "outputs": [
    {
     "data": {
      "text/plain": [
       "418.90683229813664"
      ]
     },
     "execution_count": 62,
     "metadata": {},
     "output_type": "execute_result"
    }
   ],
   "source": [
    "po['price'].mean()"
   ]
  },
  {
   "cell_type": "code",
   "execution_count": 75,
   "metadata": {},
   "outputs": [],
   "source": [
    "baguette=sum_b.dropna(subset=['title'])\n",
    "baguette=baguette[baguette['title'].str.contains('baguette')]"
   ]
  },
  {
   "cell_type": "code",
   "execution_count": 78,
   "metadata": {},
   "outputs": [
    {
     "data": {
      "image/png": "[encoded data removed]",
      "text/plain": [
       "<Figure size 432x288 with 1 Axes>"
      ]
     },
     "metadata": {
      "needs_background": "light"
     },
     "output_type": "display_data"
    }
   ],
   "source": [
    "ax=sns.lineplot(x=baguette['bid_placed_on'].dt.month.unique(),\n",
    "                y=list(baguette.groupby(baguette['bid_placed_on'].dt.month)['bid'].count()), marker='o',\n",
    "               label='Baguette')\n",
    "plt.title('Baguette Bag Bids Per Month')\n",
    "plt.ylabel('number of purchases')\n",
    "plt.xlabel('month')\n",
    "ax.set_xticks(range(3,6))\n",
    "ax.set_xticklabels(['March', 'April', 'May'])\n",
    "plt.ylim(0,28)\n",
    "plt.show()"
   ]
  },
  {
   "cell_type": "code",
   "execution_count": 83,
   "metadata": {},
   "outputs": [
    {
     "data": {
      "text/html": [
       "<div>\n",
       "<style scoped>\n",
       "    .dataframe tbody tr th:only-of-type {\n",
       "        vertical-align: middle;\n",
       "    }\n",
       "\n",
       "    .dataframe tbody tr th {\n",
       "        vertical-align: top;\n",
       "    }\n",
       "\n",
       "    .dataframe thead th {\n",
       "        text-align: right;\n",
       "    }\n",
       "</style>\n",
       "<table border=\"1\" class=\"dataframe\">\n",
       "  <thead>\n",
       "    <tr style=\"text-align: right;\">\n",
       "      <th></th>\n",
       "      <th>title</th>\n",
       "      <th>bid_count</th>\n",
       "    </tr>\n",
       "  </thead>\n",
       "  <tbody>\n",
       "    <tr>\n",
       "      <th>0</th>\n",
       "      <td>chanel earrings</td>\n",
       "      <td>121</td>\n",
       "    </tr>\n",
       "    <tr>\n",
       "      <th>1</th>\n",
       "      <td>chanel quilted bag  shoulder bag</td>\n",
       "      <td>77</td>\n",
       "    </tr>\n",
       "    <tr>\n",
       "      <th>2</th>\n",
       "      <td>chanel necklace</td>\n",
       "      <td>66</td>\n",
       "    </tr>\n",
       "    <tr>\n",
       "      <th>3</th>\n",
       "      <td>chanel cc rhinestone necklace</td>\n",
       "      <td>61</td>\n",
       "    </tr>\n",
       "    <tr>\n",
       "      <th>4</th>\n",
       "      <td>chanel sunglasses</td>\n",
       "      <td>51</td>\n",
       "    </tr>\n",
       "    <tr>\n",
       "      <th>5</th>\n",
       "      <td>hermès other line accessories / scarves</td>\n",
       "      <td>49</td>\n",
       "    </tr>\n",
       "    <tr>\n",
       "      <th>6</th>\n",
       "      <td>chanel cc earrings</td>\n",
       "      <td>44</td>\n",
       "    </tr>\n",
       "    <tr>\n",
       "      <th>7</th>\n",
       "      <td>chanel other lines precious metals and earrings</td>\n",
       "      <td>42</td>\n",
       "    </tr>\n",
       "    <tr>\n",
       "      <th>8</th>\n",
       "      <td>gucci gg canvas (bag) / shoulder bag</td>\n",
       "      <td>41</td>\n",
       "    </tr>\n",
       "    <tr>\n",
       "      <th>9</th>\n",
       "      <td>gucci other line bags / shoulder</td>\n",
       "      <td>37</td>\n",
       "    </tr>\n",
       "    <tr>\n",
       "      <th>10</th>\n",
       "      <td>christian dior trotteur bag  boston bag</td>\n",
       "      <td>36</td>\n",
       "    </tr>\n",
       "    <tr>\n",
       "      <th>11</th>\n",
       "      <td>chanel bangle</td>\n",
       "      <td>36</td>\n",
       "    </tr>\n",
       "    <tr>\n",
       "      <th>12</th>\n",
       "      <td>chanel cc necklace</td>\n",
       "      <td>36</td>\n",
       "    </tr>\n",
       "    <tr>\n",
       "      <th>13</th>\n",
       "      <td>goyard saint louis pm</td>\n",
       "      <td>33</td>\n",
       "    </tr>\n",
       "    <tr>\n",
       "      <th>14</th>\n",
       "      <td>christian dior trotteur bag  shoulder bag</td>\n",
       "      <td>33</td>\n",
       "    </tr>\n",
       "    <tr>\n",
       "      <th>15</th>\n",
       "      <td>chanel caviar bag  wallet</td>\n",
       "      <td>30</td>\n",
       "    </tr>\n",
       "    <tr>\n",
       "      <th>16</th>\n",
       "      <td>chanel other line bags / tote</td>\n",
       "      <td>30</td>\n",
       "    </tr>\n",
       "    <tr>\n",
       "      <th>17</th>\n",
       "      <td>christian dior trotteur bag  handbag</td>\n",
       "      <td>29</td>\n",
       "    </tr>\n",
       "    <tr>\n",
       "      <th>18</th>\n",
       "      <td>chanel other line bags / shoulder</td>\n",
       "      <td>29</td>\n",
       "    </tr>\n",
       "    <tr>\n",
       "      <th>19</th>\n",
       "      <td>gucci shoulder bag</td>\n",
       "      <td>28</td>\n",
       "    </tr>\n",
       "  </tbody>\n",
       "</table>\n",
       "</div>"
      ],
      "text/plain": [
       "                                              title  bid_count\n",
       "0                                   chanel earrings        121\n",
       "1                  chanel quilted bag  shoulder bag         77\n",
       "2                                   chanel necklace         66\n",
       "3                     chanel cc rhinestone necklace         61\n",
       "4                                 chanel sunglasses         51\n",
       "5           hermès other line accessories / scarves         49\n",
       "6                                chanel cc earrings         44\n",
       "7   chanel other lines precious metals and earrings         42\n",
       "8              gucci gg canvas (bag) / shoulder bag         41\n",
       "9                  gucci other line bags / shoulder         37\n",
       "10          christian dior trotteur bag  boston bag         36\n",
       "11                                    chanel bangle         36\n",
       "12                               chanel cc necklace         36\n",
       "13                            goyard saint louis pm         33\n",
       "14        christian dior trotteur bag  shoulder bag         33\n",
       "15                        chanel caviar bag  wallet         30\n",
       "16                    chanel other line bags / tote         30\n",
       "17             christian dior trotteur bag  handbag         29\n",
       "18                chanel other line bags / shoulder         29\n",
       "19                               gucci shoulder bag         28"
      ]
     },
     "execution_count": 83,
     "metadata": {},
     "output_type": "execute_result"
    }
   ],
   "source": [
    "sum_b[sum_b['brand_name']!='Louis Vuitton']['title'].value_counts()[:20].reset_index().rename(columns={'index':'title', 'title':'bid_count'})"
   ]
  },
  {
   "cell_type": "code",
   "execution_count": 84,
   "metadata": {},
   "outputs": [
    {
     "data": {
      "text/html": [
       "<div>\n",
       "<style scoped>\n",
       "    .dataframe tbody tr th:only-of-type {\n",
       "        vertical-align: middle;\n",
       "    }\n",
       "\n",
       "    .dataframe tbody tr th {\n",
       "        vertical-align: top;\n",
       "    }\n",
       "\n",
       "    .dataframe thead th {\n",
       "        text-align: right;\n",
       "    }\n",
       "</style>\n",
       "<table border=\"1\" class=\"dataframe\">\n",
       "  <thead>\n",
       "    <tr style=\"text-align: right;\">\n",
       "      <th></th>\n",
       "      <th>title</th>\n",
       "      <th>bid_count</th>\n",
       "    </tr>\n",
       "  </thead>\n",
       "  <tbody>\n",
       "    <tr>\n",
       "      <th>0</th>\n",
       "      <td>hermes scarf blue</td>\n",
       "      <td>18</td>\n",
       "    </tr>\n",
       "    <tr>\n",
       "      <th>1</th>\n",
       "      <td>hermes scarf red</td>\n",
       "      <td>12</td>\n",
       "    </tr>\n",
       "    <tr>\n",
       "      <th>2</th>\n",
       "      <td>hermes scarf navy</td>\n",
       "      <td>11</td>\n",
       "    </tr>\n",
       "    <tr>\n",
       "      <th>3</th>\n",
       "      <td>hermes scarf black</td>\n",
       "      <td>11</td>\n",
       "    </tr>\n",
       "    <tr>\n",
       "      <th>4</th>\n",
       "      <td>hermes scarf pink</td>\n",
       "      <td>11</td>\n",
       "    </tr>\n",
       "    <tr>\n",
       "      <th>5</th>\n",
       "      <td>prada nylon backpack black</td>\n",
       "      <td>10</td>\n",
       "    </tr>\n",
       "    <tr>\n",
       "      <th>6</th>\n",
       "      <td>prada nylon shoulder bag black</td>\n",
       "      <td>10</td>\n",
       "    </tr>\n",
       "    <tr>\n",
       "      <th>7</th>\n",
       "      <td>prada nylon handbag black</td>\n",
       "      <td>10</td>\n",
       "    </tr>\n",
       "    <tr>\n",
       "      <th>8</th>\n",
       "      <td>hermes brides de gala - hugo grygkar, carre 90</td>\n",
       "      <td>10</td>\n",
       "    </tr>\n",
       "    <tr>\n",
       "      <th>9</th>\n",
       "      <td>gucci boat pochette, gg canvas</td>\n",
       "      <td>9</td>\n",
       "    </tr>\n",
       "    <tr>\n",
       "      <th>10</th>\n",
       "      <td>hermes qu'importe le flacon - catherine basche...</td>\n",
       "      <td>8</td>\n",
       "    </tr>\n",
       "    <tr>\n",
       "      <th>11</th>\n",
       "      <td>enamel bangle pm</td>\n",
       "      <td>8</td>\n",
       "    </tr>\n",
       "    <tr>\n",
       "      <th>12</th>\n",
       "      <td>hermes poste et cavalerie - joachim metz, carr...</td>\n",
       "      <td>8</td>\n",
       "    </tr>\n",
       "    <tr>\n",
       "      <th>13</th>\n",
       "      <td>hermes springs - philippe ledoux, carre 90</td>\n",
       "      <td>8</td>\n",
       "    </tr>\n",
       "    <tr>\n",
       "      <th>14</th>\n",
       "      <td>hermes scarf  100% twill silk</td>\n",
       "      <td>7</td>\n",
       "    </tr>\n",
       "    <tr>\n",
       "      <th>15</th>\n",
       "      <td>hermes scarf green</td>\n",
       "      <td>7</td>\n",
       "    </tr>\n",
       "    <tr>\n",
       "      <th>16</th>\n",
       "      <td>hermes scarf light blue</td>\n",
       "      <td>6</td>\n",
       "    </tr>\n",
       "    <tr>\n",
       "      <th>17</th>\n",
       "      <td>gucci sherry line clutch bag pvc navy</td>\n",
       "      <td>6</td>\n",
       "    </tr>\n",
       "    <tr>\n",
       "      <th>18</th>\n",
       "      <td>goyard saint louis pm</td>\n",
       "      <td>6</td>\n",
       "    </tr>\n",
       "    <tr>\n",
       "      <th>19</th>\n",
       "      <td>hermes scarf yellow</td>\n",
       "      <td>5</td>\n",
       "    </tr>\n",
       "  </tbody>\n",
       "</table>\n",
       "</div>"
      ],
      "text/plain": [
       "                                                title  bid_count\n",
       "0                                   hermes scarf blue         18\n",
       "1                                    hermes scarf red         12\n",
       "2                                   hermes scarf navy         11\n",
       "3                                  hermes scarf black         11\n",
       "4                                   hermes scarf pink         11\n",
       "5                          prada nylon backpack black         10\n",
       "6                      prada nylon shoulder bag black         10\n",
       "7                           prada nylon handbag black         10\n",
       "8      hermes brides de gala - hugo grygkar, carre 90         10\n",
       "9                      gucci boat pochette, gg canvas          9\n",
       "10  hermes qu'importe le flacon - catherine basche...          8\n",
       "11                                   enamel bangle pm          8\n",
       "12  hermes poste et cavalerie - joachim metz, carr...          8\n",
       "13         hermes springs - philippe ledoux, carre 90          8\n",
       "14                      hermes scarf  100% twill silk          7\n",
       "15                                 hermes scarf green          7\n",
       "16                            hermes scarf light blue          6\n",
       "17              gucci sherry line clutch bag pvc navy          6\n",
       "18                              goyard saint louis pm          6\n",
       "19                                hermes scarf yellow          5"
      ]
     },
     "execution_count": 84,
     "metadata": {},
     "output_type": "execute_result"
    }
   ],
   "source": [
    "sum_s[sum_s['brand_name']!='Louis Vuitton']['title'].value_counts()[:20].reset_index().rename(columns={'index':'title', 'title':'bid_count'})"
   ]
  },
  {
   "cell_type": "code",
   "execution_count": null,
   "metadata": {},
   "outputs": [],
   "source": []
  }
 ],
 "metadata": {
  "kernelspec": {
   "display_name": "Python 3",
   "language": "python",
   "name": "python3"
  },
  "language_info": {
   "codemirror_mode": {
    "name": "ipython",
    "version": 3
   },
   "file_extension": ".py",
   "mimetype": "text/x-python",
   "name": "python",
   "nbconvert_exporter": "python",
   "pygments_lexer": "ipython3",
   "version": "3.7.6"
  }
 },
 "nbformat": 4,
 "nbformat_minor": 4
}
