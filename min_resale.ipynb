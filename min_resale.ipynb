{
 "cells": [
  {
   "cell_type": "markdown",
   "metadata": {},
   "source": [
    "# Minimum Resale Analysis"
   ]
  },
  {
   "cell_type": "code",
   "execution_count": 1,
   "metadata": {},
   "outputs": [],
   "source": [
    "import pandas as pd\n",
    "import numpy as np\n",
    "import matplotlib.pyplot as plt\n",
    "from scipy import stats\n",
    "import statsmodels.api as sm\n",
    "import seaborn as sns\n",
    "import datetime"
   ]
  },
  {
   "cell_type": "code",
   "execution_count": 2,
   "metadata": {},
   "outputs": [],
   "source": [
    "stock=pd.read_excel('min_resale.xlsx')"
   ]
  },
  {
   "cell_type": "markdown",
   "metadata": {},
   "source": [
    "**fixing margin--wrong data**"
   ]
  },
  {
   "cell_type": "code",
   "execution_count": 3,
   "metadata": {},
   "outputs": [],
   "source": [
    "stock['margin']=(stock['min_resale']-stock['price'])/stock['min_resale']"
   ]
  },
  {
   "cell_type": "code",
   "execution_count": 4,
   "metadata": {},
   "outputs": [],
   "source": [
    "stock['submitted_date']=pd.to_datetime(stock['submitted_date'])\n",
    "stock=stock.sort_values(by='submitted_date', ascending=True)"
   ]
  },
  {
   "cell_type": "code",
   "execution_count": 5,
   "metadata": {},
   "outputs": [],
   "source": [
    "stock=stock[stock['submitted_date']>datetime.datetime(2021,4,2)]"
   ]
  },
  {
   "cell_type": "code",
   "execution_count": 6,
   "metadata": {},
   "outputs": [
    {
     "data": {
      "text/html": [
       "<div>\n",
       "<style scoped>\n",
       "    .dataframe tbody tr th:only-of-type {\n",
       "        vertical-align: middle;\n",
       "    }\n",
       "\n",
       "    .dataframe tbody tr th {\n",
       "        vertical-align: top;\n",
       "    }\n",
       "\n",
       "    .dataframe thead th {\n",
       "        text-align: right;\n",
       "    }\n",
       "</style>\n",
       "<table border=\"1\" class=\"dataframe\">\n",
       "  <thead>\n",
       "    <tr style=\"text-align: right;\">\n",
       "      <th></th>\n",
       "      <th>seller_username</th>\n",
       "      <th>seller_id</th>\n",
       "      <th>buyer_username</th>\n",
       "      <th>buyer_id</th>\n",
       "      <th>item_id</th>\n",
       "      <th>title</th>\n",
       "      <th>brand_name</th>\n",
       "      <th>category_name</th>\n",
       "      <th>overall_grade</th>\n",
       "      <th>min_resale</th>\n",
       "      <th>price</th>\n",
       "      <th>margin</th>\n",
       "      <th>submitted_date</th>\n",
       "      <th>main_image</th>\n",
       "      <th>has_min_resale</th>\n",
       "    </tr>\n",
       "  </thead>\n",
       "  <tbody>\n",
       "    <tr>\n",
       "      <th>4835</th>\n",
       "      <td>LoveLuxeBoutique</td>\n",
       "      <td>52950</td>\n",
       "      <td>Curateur</td>\n",
       "      <td>215874</td>\n",
       "      <td>2487896</td>\n",
       "      <td>Chanel Stamped Cc Sunburst Bracelet</td>\n",
       "      <td>Chanel</td>\n",
       "      <td>Bracelets</td>\n",
       "      <td>B</td>\n",
       "      <td>625.0</td>\n",
       "      <td>379.0</td>\n",
       "      <td>0.393600</td>\n",
       "      <td>2021-04-02 16:58:56</td>\n",
       "      <td>https://img.leprix.com/image/YDn7lB693Qg9ysThn...</td>\n",
       "      <td>Y</td>\n",
       "    </tr>\n",
       "    <tr>\n",
       "      <th>4833</th>\n",
       "      <td>LoveLuxeBoutique</td>\n",
       "      <td>52950</td>\n",
       "      <td>Curateur</td>\n",
       "      <td>215874</td>\n",
       "      <td>2487894</td>\n",
       "      <td>Chanel Vintage  Small Coin Earrings</td>\n",
       "      <td>Chanel</td>\n",
       "      <td>Earrings</td>\n",
       "      <td>B</td>\n",
       "      <td>650.0</td>\n",
       "      <td>447.0</td>\n",
       "      <td>0.312308</td>\n",
       "      <td>2021-04-02 16:58:56</td>\n",
       "      <td>https://img.leprix.com/image/Nrz7O1VAnQdX1cIia...</td>\n",
       "      <td>Y</td>\n",
       "    </tr>\n",
       "    <tr>\n",
       "      <th>4828</th>\n",
       "      <td>BrandJFA_WS</td>\n",
       "      <td>210205</td>\n",
       "      <td>Everything But The House</td>\n",
       "      <td>216378</td>\n",
       "      <td>2487878</td>\n",
       "      <td>HERMES EARLY AMERICA Animal Motif Scarf Orange...</td>\n",
       "      <td>Hermès</td>\n",
       "      <td>Scarves/Wraps</td>\n",
       "      <td>A</td>\n",
       "      <td>NaN</td>\n",
       "      <td>187.0</td>\n",
       "      <td>NaN</td>\n",
       "      <td>2021-04-02 20:08:57</td>\n",
       "      <td>https://img.leprix.com/image/aiaWSRwMid37seWgv...</td>\n",
       "      <td>N</td>\n",
       "    </tr>\n",
       "    <tr>\n",
       "      <th>4498</th>\n",
       "      <td>camille+glt</td>\n",
       "      <td>199623</td>\n",
       "      <td>Everything But The House</td>\n",
       "      <td>216378</td>\n",
       "      <td>2485410</td>\n",
       "      <td>Louis Vuitton Strap  Epi</td>\n",
       "      <td>Louis Vuitton</td>\n",
       "      <td>Small Accessories</td>\n",
       "      <td>B</td>\n",
       "      <td>NaN</td>\n",
       "      <td>166.0</td>\n",
       "      <td>NaN</td>\n",
       "      <td>2021-04-02 20:08:57</td>\n",
       "      <td>https://img.leprix.com/image/BgDr6BrWnb2bmoLeF...</td>\n",
       "      <td>N</td>\n",
       "    </tr>\n",
       "    <tr>\n",
       "      <th>4843</th>\n",
       "      <td>jeannette+dct-ep</td>\n",
       "      <td>202972</td>\n",
       "      <td>Everything But The House</td>\n",
       "      <td>216378</td>\n",
       "      <td>2502273</td>\n",
       "      <td>Louis Vuitton Set of 10 Name Tag Set Leather B...</td>\n",
       "      <td>Louis Vuitton</td>\n",
       "      <td>Small Accessories</td>\n",
       "      <td>B</td>\n",
       "      <td>NaN</td>\n",
       "      <td>161.0</td>\n",
       "      <td>NaN</td>\n",
       "      <td>2021-04-02 20:08:57</td>\n",
       "      <td>https://img.leprix.com/image/qBcSIm2TMp8MVQTkk...</td>\n",
       "      <td>N</td>\n",
       "    </tr>\n",
       "  </tbody>\n",
       "</table>\n",
       "</div>"
      ],
      "text/plain": [
       "       seller_username  seller_id            buyer_username  buyer_id  \\\n",
       "4835  LoveLuxeBoutique      52950                  Curateur    215874   \n",
       "4833  LoveLuxeBoutique      52950                  Curateur    215874   \n",
       "4828       BrandJFA_WS     210205  Everything But The House    216378   \n",
       "4498       camille+glt     199623  Everything But The House    216378   \n",
       "4843  jeannette+dct-ep     202972  Everything But The House    216378   \n",
       "\n",
       "      item_id                                              title  \\\n",
       "4835  2487896                Chanel Stamped Cc Sunburst Bracelet   \n",
       "4833  2487894                Chanel Vintage  Small Coin Earrings   \n",
       "4828  2487878  HERMES EARLY AMERICA Animal Motif Scarf Orange...   \n",
       "4498  2485410                           Louis Vuitton Strap  Epi   \n",
       "4843  2502273  Louis Vuitton Set of 10 Name Tag Set Leather B...   \n",
       "\n",
       "         brand_name      category_name overall_grade  min_resale  price  \\\n",
       "4835         Chanel          Bracelets             B       625.0  379.0   \n",
       "4833         Chanel           Earrings             B       650.0  447.0   \n",
       "4828         Hermès      Scarves/Wraps             A         NaN  187.0   \n",
       "4498  Louis Vuitton  Small Accessories             B         NaN  166.0   \n",
       "4843  Louis Vuitton  Small Accessories             B         NaN  161.0   \n",
       "\n",
       "        margin      submitted_date  \\\n",
       "4835  0.393600 2021-04-02 16:58:56   \n",
       "4833  0.312308 2021-04-02 16:58:56   \n",
       "4828       NaN 2021-04-02 20:08:57   \n",
       "4498       NaN 2021-04-02 20:08:57   \n",
       "4843       NaN 2021-04-02 20:08:57   \n",
       "\n",
       "                                             main_image has_min_resale  \n",
       "4835  https://img.leprix.com/image/YDn7lB693Qg9ysThn...              Y  \n",
       "4833  https://img.leprix.com/image/Nrz7O1VAnQdX1cIia...              Y  \n",
       "4828  https://img.leprix.com/image/aiaWSRwMid37seWgv...              N  \n",
       "4498  https://img.leprix.com/image/BgDr6BrWnb2bmoLeF...              N  \n",
       "4843  https://img.leprix.com/image/qBcSIm2TMp8MVQTkk...              N  "
      ]
     },
     "execution_count": 6,
     "metadata": {},
     "output_type": "execute_result"
    }
   ],
   "source": [
    "stock['has_min_resale']='N'\n",
    "stock.loc[~stock['min_resale'].isnull(), 'has_min_resale']='Y'\n",
    "stock.head()"
   ]
  },
  {
   "cell_type": "code",
   "execution_count": 7,
   "metadata": {},
   "outputs": [
    {
     "data": {
      "text/plain": [
       "N    3555\n",
       "Y    2564\n",
       "Name: has_min_resale, dtype: int64"
      ]
     },
     "execution_count": 7,
     "metadata": {},
     "output_type": "execute_result"
    }
   ],
   "source": [
    "stock['has_min_resale'].value_counts()"
   ]
  },
  {
   "cell_type": "code",
   "execution_count": 8,
   "metadata": {},
   "outputs": [],
   "source": [
    "top5=list(stock['brand_name'].value_counts()[:5].index)"
   ]
  },
  {
   "cell_type": "markdown",
   "metadata": {},
   "source": [
    "Top 5 Brands and whether or not minimum resale values were listed on items sold in 2021."
   ]
  },
  {
   "cell_type": "code",
   "execution_count": 9,
   "metadata": {},
   "outputs": [
    {
     "data": {
      "image/png": "[encoded data removed]",
      "text/plain": [
       "<Figure size 1080x576 with 1 Axes>"
      ]
     },
     "metadata": {
      "needs_background": "light"
     },
     "output_type": "display_data"
    }
   ],
   "source": [
    "\n",
    "plt.figure(figsize=(15,8))\n",
    "sns.histplot(x='brand_name', hue='has_min_resale',\n",
    "             data=stock[stock['brand_name'].isin(top5)].sort_values(by='brand_name'), multiple='stack',\n",
    "            palette='Pastel2', hue_order=['Y','N'])\n",
    "plt.title('Items Sold 2021 With and Without Minimum Resale Values of Top 5 Brands')\n",
    "plt.show()"
   ]
  },
  {
   "cell_type": "code",
   "execution_count": 10,
   "metadata": {},
   "outputs": [
    {
     "data": {
      "text/plain": [
       "brand_name     has_min_resale\n",
       "Chanel         N                 73.000000\n",
       "               Y                 27.000000\n",
       "Gucci          N                 58.663647\n",
       "               Y                 41.336353\n",
       "Hermès         N                 81.632653\n",
       "               Y                 18.367347\n",
       "Louis Vuitton  Y                 67.476328\n",
       "               N                 32.523672\n",
       "Prada          N                 82.716049\n",
       "               Y                 17.283951\n",
       "Name: has_min_resale, dtype: float64"
      ]
     },
     "execution_count": 10,
     "metadata": {},
     "output_type": "execute_result"
    }
   ],
   "source": [
    "(stock[stock['brand_name'].isin(top5)].sort_values(by='has_min_resale')\n",
    " .groupby('brand_name')['has_min_resale']\n",
    " .value_counts(normalize=True)*100)"
   ]
  },
  {
   "cell_type": "markdown",
   "metadata": {},
   "source": [
    "**set margin bins manually** **"
   ]
  },
  {
   "cell_type": "code",
   "execution_count": 11,
   "metadata": {},
   "outputs": [],
   "source": [
    "stock['margin_lvl'] = pd.cut(stock['margin'],[-float('inf'),0,0.1,0.2,0.3,0.4,0.5,0.6,0.7,float('inf')],\n",
    "                             labels=['<0%','0-10%','11-20%','21-30%','31-40%', '41-50%', '51-60%',\n",
    "                                     '61-70%', '71+%'])"
   ]
  },
  {
   "cell_type": "code",
   "execution_count": 12,
   "metadata": {},
   "outputs": [
    {
     "data": {
      "image/png": "[encoded data removed]",
      "text/plain": [
       "<Figure size 1080x576 with 1 Axes>"
      ]
     },
     "metadata": {
      "needs_background": "light"
     },
     "output_type": "display_data"
    }
   ],
   "source": [
    "plt.figure(figsize=(15,8))\n",
    "sns.histplot(x='brand_name', hue='margin_lvl',\n",
    "             data=stock[stock['brand_name'].isin(top5)].sort_values(by='brand_name'),\n",
    "             multiple='dodge', \n",
    "            palette='Pastel2')\n",
    "plt.title('Items Sold 2021 With Minimum Resale Values of Top 5 Brands by Margin')\n",
    "plt.show()"
   ]
  },
  {
   "cell_type": "code",
   "execution_count": 13,
   "metadata": {},
   "outputs": [
    {
     "data": {
      "text/html": [
       "<div>\n",
       "<style scoped>\n",
       "    .dataframe tbody tr th:only-of-type {\n",
       "        vertical-align: middle;\n",
       "    }\n",
       "\n",
       "    .dataframe tbody tr th {\n",
       "        vertical-align: top;\n",
       "    }\n",
       "\n",
       "    .dataframe thead th {\n",
       "        text-align: right;\n",
       "    }\n",
       "</style>\n",
       "<table border=\"1\" class=\"dataframe\">\n",
       "  <thead>\n",
       "    <tr style=\"text-align: right;\">\n",
       "      <th></th>\n",
       "      <th>seller_username</th>\n",
       "      <th>seller_id</th>\n",
       "      <th>buyer_username</th>\n",
       "      <th>buyer_id</th>\n",
       "      <th>item_id</th>\n",
       "      <th>title</th>\n",
       "      <th>brand_name</th>\n",
       "      <th>category_name</th>\n",
       "      <th>overall_grade</th>\n",
       "      <th>min_resale</th>\n",
       "      <th>price</th>\n",
       "      <th>margin</th>\n",
       "      <th>submitted_date</th>\n",
       "      <th>main_image</th>\n",
       "      <th>has_min_resale</th>\n",
       "      <th>margin_lvl</th>\n",
       "    </tr>\n",
       "  </thead>\n",
       "  <tbody>\n",
       "    <tr>\n",
       "      <th>5189</th>\n",
       "      <td>Camille+brandstreetTokyo</td>\n",
       "      <td>206687</td>\n",
       "      <td>Back On The Rack Gulfport</td>\n",
       "      <td>208798</td>\n",
       "      <td>2517983</td>\n",
       "      <td>LOUIS VUITTON Monogram Musette Tango Long Stra...</td>\n",
       "      <td>Louis Vuitton</td>\n",
       "      <td>Shoulder Bags</td>\n",
       "      <td>BC</td>\n",
       "      <td>625.00</td>\n",
       "      <td>699.0</td>\n",
       "      <td>-0.118400</td>\n",
       "      <td>2021-04-08 18:36:18</td>\n",
       "      <td>https://img.leprix.com/image/6C6zoOerkCQnliKBW...</td>\n",
       "      <td>Y</td>\n",
       "      <td>&lt;0%</td>\n",
       "    </tr>\n",
       "    <tr>\n",
       "      <th>4996</th>\n",
       "      <td>Next Innovation</td>\n",
       "      <td>198548</td>\n",
       "      <td>Nesly.M</td>\n",
       "      <td>199122</td>\n",
       "      <td>2514251</td>\n",
       "      <td>Chanel Caviar Medallion Tote Pink</td>\n",
       "      <td>Chanel</td>\n",
       "      <td>Totes</td>\n",
       "      <td>BC</td>\n",
       "      <td>1320.00</td>\n",
       "      <td>1374.0</td>\n",
       "      <td>-0.040909</td>\n",
       "      <td>2021-04-12 09:58:00</td>\n",
       "      <td>https://img.leprix.com/image/zTR3bveQUf4Xu31qg...</td>\n",
       "      <td>Y</td>\n",
       "      <td>&lt;0%</td>\n",
       "    </tr>\n",
       "    <tr>\n",
       "      <th>5538</th>\n",
       "      <td>RS_JapanWholesale</td>\n",
       "      <td>215421</td>\n",
       "      <td>The RealReal</td>\n",
       "      <td>200963</td>\n",
       "      <td>2557491</td>\n",
       "      <td>Chanel Caviar Large Coco Chain Tote Bag Black ...</td>\n",
       "      <td>Chanel</td>\n",
       "      <td>Totes</td>\n",
       "      <td>B</td>\n",
       "      <td>1870.00</td>\n",
       "      <td>2045.0</td>\n",
       "      <td>-0.093583</td>\n",
       "      <td>2021-04-19 18:52:14</td>\n",
       "      <td>https://img.leprix.com/image/z2ENBc2etxJdSe2mJ...</td>\n",
       "      <td>Y</td>\n",
       "      <td>&lt;0%</td>\n",
       "    </tr>\n",
       "    <tr>\n",
       "      <th>6348</th>\n",
       "      <td>Next Innovation</td>\n",
       "      <td>198548</td>\n",
       "      <td>Bag Borrow Steal</td>\n",
       "      <td>188669</td>\n",
       "      <td>2607168</td>\n",
       "      <td>Louis Vuitton Damier Azur Saleya PM</td>\n",
       "      <td>Louis Vuitton</td>\n",
       "      <td>Totes</td>\n",
       "      <td>BC</td>\n",
       "      <td>8.95</td>\n",
       "      <td>646.0</td>\n",
       "      <td>-71.178771</td>\n",
       "      <td>2021-04-27 14:59:21</td>\n",
       "      <td>https://img.leprix.com/image/vHQZvwliybbUQWxOs...</td>\n",
       "      <td>Y</td>\n",
       "      <td>&lt;0%</td>\n",
       "    </tr>\n",
       "    <tr>\n",
       "      <th>6260</th>\n",
       "      <td>BrandOff</td>\n",
       "      <td>202899</td>\n",
       "      <td>Divine Consign</td>\n",
       "      <td>199611</td>\n",
       "      <td>2606665</td>\n",
       "      <td>LOUIS VUITTON Tivoli GM Handbag Monogram</td>\n",
       "      <td>Louis Vuitton</td>\n",
       "      <td>Top Handles &amp; Satchels</td>\n",
       "      <td>B</td>\n",
       "      <td>950.00</td>\n",
       "      <td>951.0</td>\n",
       "      <td>-0.001053</td>\n",
       "      <td>2021-04-27 22:35:14</td>\n",
       "      <td>https://img.leprix.com/image/RZ58Ni12gF9K0WHzw...</td>\n",
       "      <td>Y</td>\n",
       "      <td>&lt;0%</td>\n",
       "    </tr>\n",
       "  </tbody>\n",
       "</table>\n",
       "</div>"
      ],
      "text/plain": [
       "               seller_username  seller_id             buyer_username  \\\n",
       "5189  Camille+brandstreetTokyo     206687  Back On The Rack Gulfport   \n",
       "4996           Next Innovation     198548                    Nesly.M   \n",
       "5538         RS_JapanWholesale     215421               The RealReal   \n",
       "6348           Next Innovation     198548           Bag Borrow Steal   \n",
       "6260                  BrandOff     202899             Divine Consign   \n",
       "\n",
       "      buyer_id  item_id                                              title  \\\n",
       "5189    208798  2517983  LOUIS VUITTON Monogram Musette Tango Long Stra...   \n",
       "4996    199122  2514251                  Chanel Caviar Medallion Tote Pink   \n",
       "5538    200963  2557491  Chanel Caviar Large Coco Chain Tote Bag Black ...   \n",
       "6348    188669  2607168                Louis Vuitton Damier Azur Saleya PM   \n",
       "6260    199611  2606665           LOUIS VUITTON Tivoli GM Handbag Monogram   \n",
       "\n",
       "         brand_name           category_name overall_grade  min_resale   price  \\\n",
       "5189  Louis Vuitton           Shoulder Bags            BC      625.00   699.0   \n",
       "4996         Chanel                   Totes            BC     1320.00  1374.0   \n",
       "5538         Chanel                   Totes             B     1870.00  2045.0   \n",
       "6348  Louis Vuitton                   Totes            BC        8.95   646.0   \n",
       "6260  Louis Vuitton  Top Handles & Satchels             B      950.00   951.0   \n",
       "\n",
       "         margin      submitted_date  \\\n",
       "5189  -0.118400 2021-04-08 18:36:18   \n",
       "4996  -0.040909 2021-04-12 09:58:00   \n",
       "5538  -0.093583 2021-04-19 18:52:14   \n",
       "6348 -71.178771 2021-04-27 14:59:21   \n",
       "6260  -0.001053 2021-04-27 22:35:14   \n",
       "\n",
       "                                             main_image has_min_resale  \\\n",
       "5189  https://img.leprix.com/image/6C6zoOerkCQnliKBW...              Y   \n",
       "4996  https://img.leprix.com/image/zTR3bveQUf4Xu31qg...              Y   \n",
       "5538  https://img.leprix.com/image/z2ENBc2etxJdSe2mJ...              Y   \n",
       "6348  https://img.leprix.com/image/vHQZvwliybbUQWxOs...              Y   \n",
       "6260  https://img.leprix.com/image/RZ58Ni12gF9K0WHzw...              Y   \n",
       "\n",
       "     margin_lvl  \n",
       "5189        <0%  \n",
       "4996        <0%  \n",
       "5538        <0%  \n",
       "6348        <0%  \n",
       "6260        <0%  "
      ]
     },
     "execution_count": 13,
     "metadata": {},
     "output_type": "execute_result"
    }
   ],
   "source": [
    "stock[stock['margin']<0].head()"
   ]
  },
  {
   "cell_type": "code",
   "execution_count": 15,
   "metadata": {},
   "outputs": [],
   "source": [
    "merch=pd.read_excel('merch_resale.xlsx')"
   ]
  },
  {
   "cell_type": "code",
   "execution_count": 16,
   "metadata": {},
   "outputs": [],
   "source": [
    "merch=merch.rename(columns={'date(si.created_at)':'created_at',\n",
    "                            'date(si.deleted_at)':'deleted_at'})"
   ]
  },
  {
   "cell_type": "code",
   "execution_count": 18,
   "metadata": {},
   "outputs": [],
   "source": [
    "merch['has_min_resale']='N'\n",
    "merch.loc[(~merch['resale_price'].isnull())&(merch['resale_price']!=0),\n",
    "            'has_min_resale']='Y'"
   ]
  },
  {
   "cell_type": "code",
   "execution_count": 31,
   "metadata": {},
   "outputs": [],
   "source": [
    "merch['margin']=(merch['resale_price']-merch['b2b_price'])/merch['resale_price']"
   ]
  },
  {
   "cell_type": "code",
   "execution_count": 32,
   "metadata": {},
   "outputs": [],
   "source": [
    "merch['margin_lvl'] = pd.cut(merch['margin'],[-float('inf'),0,0.1,0.2,0.3,0.4,0.5,0.6,0.7,float('inf')],\n",
    "                             labels=['<0%','0-10%','11-20%','21-30%','31-40%', '41-50%', '51-60%',\n",
    "                                     '61-70%', '71+%'])"
   ]
  },
  {
   "cell_type": "code",
   "execution_count": 33,
   "metadata": {},
   "outputs": [
    {
     "data": {
      "text/plain": [
       "N    57235\n",
       "Y    21436\n",
       "Name: has_min_resale, dtype: int64"
      ]
     },
     "execution_count": 33,
     "metadata": {},
     "output_type": "execute_result"
    }
   ],
   "source": [
    "merch['has_min_resale'].value_counts().sort_index(ascending=True)"
   ]
  },
  {
   "cell_type": "code",
   "execution_count": 34,
   "metadata": {},
   "outputs": [
    {
     "data": {
      "text/plain": [
       "N    3555\n",
       "Y    2564\n",
       "Name: has_min_resale, dtype: int64"
      ]
     },
     "execution_count": 34,
     "metadata": {},
     "output_type": "execute_result"
    }
   ],
   "source": [
    "stock['has_min_resale'].value_counts()"
   ]
  },
  {
   "cell_type": "code",
   "execution_count": 35,
   "metadata": {},
   "outputs": [
    {
     "data": {
      "text/plain": [
       "N     6.211234\n",
       "Y    11.961187\n",
       "Name: has_min_resale, dtype: float64"
      ]
     },
     "execution_count": 35,
     "metadata": {},
     "output_type": "execute_result"
    }
   ],
   "source": [
    "st=(stock['has_min_resale'].value_counts()\n",
    " /merch['has_min_resale'].value_counts().sort_index(ascending=True))*100\n",
    "st"
   ]
  },
  {
   "cell_type": "code",
   "execution_count": 23,
   "metadata": {},
   "outputs": [
    {
     "name": "stdout",
     "output_type": "stream",
     "text": [
      "sellthrough rate for items WITHOUT resale prices from 4/2/2021-7/22/2021: 6.21%\n",
      "sellthrough rate for items WITH resale prices from 4/2/2021-7/22/2021: 11.96%\n"
     ]
    }
   ],
   "source": [
    "(print('sellthrough rate for items WITHOUT resale prices from 4/2/2021-7/22/2021: {:.2f}%'\n",
    "       .format(st[0])))\n",
    "(print('sellthrough rate for items WITH resale prices from 4/2/2021-7/22/2021: {:.2f}%'\n",
    "       .format(st[1])))"
   ]
  },
  {
   "cell_type": "code",
   "execution_count": 27,
   "metadata": {},
   "outputs": [],
   "source": [
    "total_st=len(stock)/len(merch)*100"
   ]
  },
  {
   "cell_type": "code",
   "execution_count": 28,
   "metadata": {},
   "outputs": [
    {
     "name": "stdout",
     "output_type": "stream",
     "text": [
      "total sellthrough rate from 4/2/2021-7/22/2021: 7.78%\n"
     ]
    }
   ],
   "source": [
    "(print('total sellthrough rate from 4/2/2021-7/22/2021: {:.2f}%'\n",
    "       .format(total_st)))"
   ]
  },
  {
   "cell_type": "code",
   "execution_count": 38,
   "metadata": {},
   "outputs": [
    {
     "data": {
      "text/plain": [
       "<0%       3785\n",
       "0-10%     2641\n",
       "11-20%    3815\n",
       "21-30%    4318\n",
       "31-40%    3567\n",
       "41-50%    2170\n",
       "51-60%     826\n",
       "61-70%     227\n",
       "71+%        87\n",
       "Name: margin_lvl, dtype: int64"
      ]
     },
     "execution_count": 38,
     "metadata": {},
     "output_type": "execute_result"
    }
   ],
   "source": [
    "merch['margin_lvl'].value_counts().sort_index()"
   ]
  },
  {
   "cell_type": "code",
   "execution_count": 63,
   "metadata": {},
   "outputs": [
    {
     "name": "stdout",
     "output_type": "stream",
     "text": [
      "sellthrough by margin level (%)\n"
     ]
    },
    {
     "data": {
      "text/plain": [
       "<0%        0.686922\n",
       "0-10%      2.839833\n",
       "11-20%     8.466579\n",
       "21-30%    14.335340\n",
       "31-40%    20.885899\n",
       "41-50%    21.013825\n",
       "51-60%    27.845036\n",
       "61-70%    26.431718\n",
       "71+%      34.482759\n",
       "Name: margin_lvl, dtype: float64"
      ]
     },
     "execution_count": 63,
     "metadata": {},
     "output_type": "execute_result"
    }
   ],
   "source": [
    "# sell through by margin level\n",
    "print('sellthrough by margin level (%)')\n",
    "(stock['margin_lvl'].value_counts().sort_index()\n",
    " /merch['margin_lvl'].value_counts().sort_index())*100"
   ]
  },
  {
   "cell_type": "code",
   "execution_count": 64,
   "metadata": {},
   "outputs": [],
   "source": [
    "# manually sorting brand name\n",
    "merch['title']=merch['title'].str.lower()\n",
    "(merch.loc[(~merch['title'].isnull())&\n",
    "    (merch['title'].str.contains('louis vuitton')),'brand_name'])='Louis Vuitton'\n",
    "(merch.loc[(~merch['title'].isnull())&\n",
    "    (merch['title'].str.contains('chanel')),'brand_name'])='Chanel'\n",
    "(merch.loc[(~merch['title'].isnull())&\n",
    "    (merch['title'].str.contains('gucci')),'brand_name'])='Gucci'\n",
    "(merch.loc[(~merch['title'].isnull())&\n",
    "    (merch['title'].str.contains('hermes')),'brand_name'])='Hermès'\n",
    "(merch.loc[(~merch['title'].isnull())&\n",
    "    (merch['title'].str.contains('prada')),'brand_name'])='Prada'"
   ]
  },
  {
   "cell_type": "code",
   "execution_count": 65,
   "metadata": {},
   "outputs": [
    {
     "name": "stdout",
     "output_type": "stream",
     "text": [
      "sellthrough by brand (%)\n"
     ]
    },
    {
     "data": {
      "text/plain": [
       "Louis Vuitton     7.770313\n",
       "Chanel           10.617966\n",
       "Gucci            11.537959\n",
       "Hermès            8.769932\n",
       "Prada             9.358752\n",
       "Name: brand_name, dtype: float64"
      ]
     },
     "execution_count": 65,
     "metadata": {},
     "output_type": "execute_result"
    }
   ],
   "source": [
    "# sellthrough by brand\n",
    "print('sellthrough by brand (%)')\n",
    "stock['brand_name'].value_counts()[:5]/merch['brand_name'].value_counts()*100"
   ]
  },
  {
   "cell_type": "code",
   "execution_count": 71,
   "metadata": {},
   "outputs": [],
   "source": [
    "sold_by_brand=(stock[stock['brand_name'].isin(top5)]\n",
    " .groupby('brand_name')['has_min_resale'].value_counts().sort_index())"
   ]
  },
  {
   "cell_type": "code",
   "execution_count": 72,
   "metadata": {},
   "outputs": [],
   "source": [
    "merch_by_brand=(merch.groupby('brand_name')['has_min_resale'].value_counts().sort_index())"
   ]
  },
  {
   "cell_type": "code",
   "execution_count": 75,
   "metadata": {},
   "outputs": [
    {
     "name": "stdout",
     "output_type": "stream",
     "text": [
      "sell through by brand and inclusion of min resale value\n"
     ]
    },
    {
     "data": {
      "text/plain": [
       "brand_name     has_min_resale\n",
       "Chanel         N                  9.586343\n",
       "               Y                 14.975042\n",
       "Gucci          N                  8.806528\n",
       "               Y                 20.609825\n",
       "Hermès         N                  7.640215\n",
       "               Y                 25.581395\n",
       "Louis Vuitton  N                  5.210051\n",
       "               Y                 10.182021\n",
       "Prada          N                  8.021550\n",
       "               Y                 46.280992\n",
       "Name: has_min_resale, dtype: float64"
      ]
     },
     "execution_count": 75,
     "metadata": {},
     "output_type": "execute_result"
    }
   ],
   "source": [
    "# sellthrough by brand and min resale (y/n)\n",
    "print('sell through by brand and inclusion of min resale value')\n",
    "(sold_by_brand/merch_by_brand)*100"
   ]
  },
  {
   "cell_type": "code",
   "execution_count": 77,
   "metadata": {},
   "outputs": [
    {
     "data": {
      "text/plain": [
       "brand_name     has_min_resale\n",
       "Chanel         N                  7615\n",
       "               Y                  1803\n",
       "Gucci          N                  5882\n",
       "               Y                  1771\n",
       "Hermès         N                  5759\n",
       "               Y                   387\n",
       "Louis Vuitton  N                 15163\n",
       "               Y                 16097\n",
       "Prada          N                  3341\n",
       "               Y                   121\n",
       "Name: has_min_resale, dtype: int64"
      ]
     },
     "execution_count": 77,
     "metadata": {},
     "output_type": "execute_result"
    }
   ],
   "source": [
    "merch_by_brand"
   ]
  },
  {
   "cell_type": "code",
   "execution_count": 83,
   "metadata": {},
   "outputs": [
    {
     "data": {
      "text/plain": [
       "brand_name     has_min_resale\n",
       "Chanel         N                  730\n",
       "               Y                  270\n",
       "Gucci          N                  518\n",
       "               Y                  365\n",
       "Hermès         N                  440\n",
       "               Y                   99\n",
       "Louis Vuitton  N                  790\n",
       "               Y                 1639\n",
       "Prada          N                  268\n",
       "               Y                   56\n",
       "Name: has_min_resale, dtype: int64"
      ]
     },
     "execution_count": 83,
     "metadata": {},
     "output_type": "execute_result"
    }
   ],
   "source": [
    "sold_by_brand"
   ]
  }
 ],
 "metadata": {
  "kernelspec": {
   "display_name": "Python 3",
   "language": "python",
   "name": "python3"
  },
  "language_info": {
   "codemirror_mode": {
    "name": "ipython",
    "version": 3
   },
   "file_extension": ".py",
   "mimetype": "text/x-python",
   "name": "python",
   "nbconvert_exporter": "python",
   "pygments_lexer": "ipython3",
   "version": "3.7.6"
  }
 },
 "nbformat": 4,
 "nbformat_minor": 4
}
