{
 "cells": [
  {
   "cell_type": "markdown",
   "metadata": {},
   "source": [
    "# Sized Buyer Profiles"
   ]
  },
  {
   "cell_type": "code",
   "execution_count": 1,
   "metadata": {},
   "outputs": [],
   "source": [
    "import pandas as pd\n",
    "import numpy as np\n",
    "import matplotlib.pyplot as plt\n",
    "from scipy import stats\n",
    "import statsmodels.api as sm\n",
    "import seaborn as sns\n",
    "import datetime"
   ]
  },
  {
   "cell_type": "code",
   "execution_count": 2,
   "metadata": {},
   "outputs": [],
   "source": [
    "bid=pd.read_excel('bid19to21.xlsx')\n",
    "stock=pd.read_excel('stock19to21.xlsx')"
   ]
  },
  {
   "cell_type": "code",
   "execution_count": 3,
   "metadata": {},
   "outputs": [],
   "source": [
    "bid['buyer_username']=bid['buyer_username'].str.lower()\n",
    "stock['buyer_username']=stock['buyer_username'].str.lower()"
   ]
  },
  {
   "cell_type": "code",
   "execution_count": 4,
   "metadata": {},
   "outputs": [],
   "source": [
    "min_resale=pd.read_excel('min_resale.xlsx')"
   ]
  },
  {
   "cell_type": "code",
   "execution_count": 5,
   "metadata": {},
   "outputs": [],
   "source": [
    "min_resale['margin_lvl'] = pd.cut(min_resale['margin'],[-float('inf'),0,0.1,0.2,0.3,0.4,0.5,0.6,0.7,float('inf')],\n",
    "                             labels=['<0%','0-10%','11-20%','21-30%','31-40%', '41-50%', '51-60%',\n",
    "                                     '61-70%', '71+%'])"
   ]
  },
  {
   "cell_type": "code",
   "execution_count": 6,
   "metadata": {},
   "outputs": [],
   "source": [
    "min_resale['buyer_username']=min_resale['buyer_username'].str.lower()"
   ]
  },
  {
   "cell_type": "code",
   "execution_count": 7,
   "metadata": {},
   "outputs": [],
   "source": [
    "bid['bid_placed']=pd.to_datetime(bid['bid_placed'])\n",
    "stock['submitted_date']=pd.to_datetime(stock['submitted_date'])"
   ]
  },
  {
   "cell_type": "code",
   "execution_count": 8,
   "metadata": {},
   "outputs": [],
   "source": [
    "bid['win']='N'\n",
    "bid.loc[bid['bid']>=bid['winning_bid'],'win']='Y'"
   ]
  },
  {
   "cell_type": "code",
   "execution_count": 9,
   "metadata": {},
   "outputs": [],
   "source": [
    "bid21=bid[bid['bid_placed'].dt.year==2021]\n",
    "stock21=stock[stock['submitted_date'].dt.year==2021]"
   ]
  },
  {
   "cell_type": "markdown",
   "metadata": {},
   "source": [
    "## Whales\n",
    "Wholesale GMV of $180k+"
   ]
  },
  {
   "cell_type": "markdown",
   "metadata": {},
   "source": [
    "### Rue Gilt\n",
    "Monthly Buyer"
   ]
  },
  {
   "cell_type": "code",
   "execution_count": 10,
   "metadata": {},
   "outputs": [],
   "source": [
    "rg_b=bid21[bid21['buyer_username']=='rue gilt']\n",
    "rg_s=stock21[stock21['buyer_username']=='rue gilt']"
   ]
  },
  {
   "cell_type": "code",
   "execution_count": 11,
   "metadata": {},
   "outputs": [],
   "source": [
    "rg_mr=min_resale[min_resale['buyer_username']=='rue gilt']"
   ]
  },
  {
   "cell_type": "code",
   "execution_count": 12,
   "metadata": {},
   "outputs": [
    {
     "data": {
      "text/plain": [
       "Hermès            376\n",
       "Louis Vuitton     231\n",
       "Gucci             197\n",
       "Chanel             65\n",
       "Christian Dior     19\n",
       "Name: brand_name, dtype: int64"
      ]
     },
     "execution_count": 12,
     "metadata": {},
     "output_type": "execute_result"
    }
   ],
   "source": [
    "rg_s['brand_name'].value_counts()[:5]"
   ]
  },
  {
   "cell_type": "code",
   "execution_count": 13,
   "metadata": {},
   "outputs": [],
   "source": [
    "top5=rg_b['brand_name'].value_counts()[:5].index"
   ]
  },
  {
   "cell_type": "code",
   "execution_count": 14,
   "metadata": {},
   "outputs": [
    {
     "data": {
      "text/plain": [
       "brand_name      win\n",
       "Louis Vuitton   Y      35.538613\n",
       "                N      64.461387\n",
       "Hermès          Y      52.529762\n",
       "                N      47.470238\n",
       "Gucci           Y      59.876543\n",
       "                N      40.123457\n",
       "Christian Dior  Y      24.305556\n",
       "                N      75.694444\n",
       "Chanel          Y      36.619718\n",
       "                N      63.380282\n",
       "Name: win, dtype: float64"
      ]
     },
     "execution_count": 14,
     "metadata": {},
     "output_type": "execute_result"
    }
   ],
   "source": [
    "# percentage of won bids by brand\n",
    "(rg_b[rg_b['brand_name'].isin(top5)].groupby(['brand_name'])['win']\n",
    " .value_counts(normalize=True)*100).sort_index(ascending=False)"
   ]
  },
  {
   "cell_type": "markdown",
   "metadata": {},
   "source": [
    "Percentage of won bids by brand"
   ]
  },
  {
   "cell_type": "code",
   "execution_count": 15,
   "metadata": {},
   "outputs": [
    {
     "data": {
      "image/png": "[encoded data removed]",
      "text/plain": [
       "<Figure size 432x288 with 1 Axes>"
      ]
     },
     "metadata": {
      "needs_background": "light"
     },
     "output_type": "display_data"
    }
   ],
   "source": [
    "sns.histplot(x='brand_name', data=rg_b[rg_b['brand_name'].isin(top5)],\n",
    "            hue='win', stat='frequency', multiple='fill', palette='rainbow',\n",
    "            hue_order=['N','Y'])\n",
    "plt.title('Rue Gilt Won Items by Brand')\n",
    "plt.show()"
   ]
  },
  {
   "cell_type": "code",
   "execution_count": 16,
   "metadata": {},
   "outputs": [
    {
     "data": {
      "text/plain": [
       "N    59.847036\n",
       "Y    40.152964\n",
       "Name: win, dtype: float64"
      ]
     },
     "execution_count": 16,
     "metadata": {},
     "output_type": "execute_result"
    }
   ],
   "source": [
    "rg_b['win'].value_counts(normalize=True)*100"
   ]
  },
  {
   "cell_type": "markdown",
   "metadata": {},
   "source": [
    "**40.15% win rate--very high**"
   ]
  },
  {
   "cell_type": "code",
   "execution_count": 17,
   "metadata": {},
   "outputs": [
    {
     "name": "stderr",
     "output_type": "stream",
     "text": [
      "/Users/sydneybednar/opt/anaconda3/lib/python3.7/site-packages/ipykernel_launcher.py:1: SettingWithCopyWarning: \n",
      "A value is trying to be set on a copy of a slice from a DataFrame.\n",
      "Try using .loc[row_indexer,col_indexer] = value instead\n",
      "\n",
      "See the caveats in the documentation: https://pandas.pydata.org/pandas-docs/stable/user_guide/indexing.html#returning-a-view-versus-a-copy\n",
      "  \"\"\"Entry point for launching an IPython kernel.\n",
      "/Users/sydneybednar/opt/anaconda3/lib/python3.7/site-packages/pandas/core/indexing.py:965: SettingWithCopyWarning: \n",
      "A value is trying to be set on a copy of a slice from a DataFrame.\n",
      "Try using .loc[row_indexer,col_indexer] = value instead\n",
      "\n",
      "See the caveats in the documentation: https://pandas.pydata.org/pandas-docs/stable/user_guide/indexing.html#returning-a-view-versus-a-copy\n",
      "  self.obj[item] = s\n"
     ]
    }
   ],
   "source": [
    "rg_mr['has_min_resale']='N'\n",
    "rg_mr.loc[(~rg_mr['min_resale'].isnull()), 'has_min_resale']='Y'"
   ]
  },
  {
   "cell_type": "code",
   "execution_count": 18,
   "metadata": {},
   "outputs": [
    {
     "data": {
      "text/plain": [
       "N    71.892497\n",
       "Y    28.107503\n",
       "Name: has_min_resale, dtype: float64"
      ]
     },
     "execution_count": 18,
     "metadata": {},
     "output_type": "execute_result"
    }
   ],
   "source": [
    "rg_mr['has_min_resale'].value_counts(normalize=True)*100"
   ]
  },
  {
   "cell_type": "markdown",
   "metadata": {},
   "source": [
    "Only 28% of Rue Gilt's stock purchases had minimum resale prices."
   ]
  },
  {
   "cell_type": "code",
   "execution_count": 19,
   "metadata": {},
   "outputs": [
    {
     "data": {
      "text/plain": [
       "<0%         0\n",
       "0-10%       0\n",
       "11-20%      0\n",
       "21-30%      0\n",
       "31-40%      1\n",
       "41-50%      3\n",
       "51-60%     32\n",
       "61-70%     56\n",
       "71+%      159\n",
       "Name: margin_lvl, dtype: int64"
      ]
     },
     "execution_count": 19,
     "metadata": {},
     "output_type": "execute_result"
    }
   ],
   "source": [
    "rg_mr['margin_lvl'].value_counts().sort_index()"
   ]
  },
  {
   "cell_type": "markdown",
   "metadata": {},
   "source": [
    "Rue Gilt tends to purchase items with margins>30%."
   ]
  },
  {
   "cell_type": "code",
   "execution_count": 20,
   "metadata": {},
   "outputs": [
    {
     "data": {
      "text/plain": [
       "brand_name      margin_lvl\n",
       "Chanel          51-60%          1\n",
       "                61-70%          2\n",
       "                71+%           13\n",
       "Christian Dior  71+%            2\n",
       "Fendi           31-40%          1\n",
       "Goyard          51-60%          1\n",
       "                61-70%          1\n",
       "Gucci           41-50%          2\n",
       "                51-60%         12\n",
       "                61-70%         19\n",
       "                71+%           38\n",
       "Hermès          51-60%          2\n",
       "                61-70%          4\n",
       "                71+%            3\n",
       "Louis Vuitton   41-50%          1\n",
       "                51-60%         16\n",
       "                61-70%         30\n",
       "                71+%          103\n",
       "Name: margin_lvl, dtype: int64"
      ]
     },
     "execution_count": 20,
     "metadata": {},
     "output_type": "execute_result"
    }
   ],
   "source": [
    "rg_mr.groupby('brand_name')['margin_lvl'].value_counts().sort_index()"
   ]
  },
  {
   "cell_type": "markdown",
   "metadata": {},
   "source": [
    "Margin levels split by brand"
   ]
  },
  {
   "cell_type": "code",
   "execution_count": 21,
   "metadata": {},
   "outputs": [
    {
     "data": {
      "image/png": "[encoded data removed]",
      "text/plain": [
       "<Figure size 720x576 with 1 Axes>"
      ]
     },
     "metadata": {
      "needs_background": "light"
     },
     "output_type": "display_data"
    }
   ],
   "source": [
    "plt.figure(figsize=(10,8))\n",
    "sns.histplot(x='margin_lvl', data=rg_mr[~rg_mr['margin_lvl'].isnull()],\n",
    "            hue='brand_name', stat='count', multiple='stack', palette='rainbow')\n",
    "plt.title('Rue Gilt Margin Levels by Brand')\n",
    "plt.show()"
   ]
  },
  {
   "cell_type": "code",
   "execution_count": 22,
   "metadata": {},
   "outputs": [
    {
     "data": {
      "text/plain": [
       "brand_name\n",
       "Chanel            1162.307692\n",
       "Christian Dior     600.368421\n",
       "Fendi              319.000000\n",
       "Goyard            1206.500000\n",
       "Gucci              516.568528\n",
       "Hermès             290.393617\n",
       "Louis Vuitton      614.298701\n",
       "Name: price, dtype: float64"
      ]
     },
     "execution_count": 22,
     "metadata": {},
     "output_type": "execute_result"
    }
   ],
   "source": [
    "rg_mr.groupby('brand_name')['price'].mean()"
   ]
  },
  {
   "cell_type": "markdown",
   "metadata": {},
   "source": [
    "Average prices by brand"
   ]
  },
  {
   "cell_type": "code",
   "execution_count": 23,
   "metadata": {},
   "outputs": [
    {
     "data": {
      "text/plain": [
       "557.1229166666667"
      ]
     },
     "execution_count": 23,
     "metadata": {},
     "output_type": "execute_result"
    }
   ],
   "source": [
    "rg_b[rg_b['win']=='Y']['winning_bid'].mean()"
   ]
  },
  {
   "cell_type": "markdown",
   "metadata": {},
   "source": [
    "Average winning bid (for items that Rue Gilt has won)"
   ]
  },
  {
   "cell_type": "code",
   "execution_count": 24,
   "metadata": {},
   "outputs": [
    {
     "data": {
      "text/plain": [
       "brand_name\n",
       "Chanel             670.400285\n",
       "Christian Dior     750.228571\n",
       "Fendi              705.000000\n",
       "Goyard            1027.000000\n",
       "Gucci              513.587629\n",
       "Hermès             331.256846\n",
       "Louis Vuitton      658.936332\n",
       "Name: winning_bid, dtype: float64"
      ]
     },
     "execution_count": 24,
     "metadata": {},
     "output_type": "execute_result"
    }
   ],
   "source": [
    "rg_b[rg_b['win']=='Y'].groupby('brand_name')['winning_bid'].mean()"
   ]
  },
  {
   "cell_type": "code",
   "execution_count": 25,
   "metadata": {},
   "outputs": [
    {
     "data": {
      "text/plain": [
       "498.2721164613662"
      ]
     },
     "execution_count": 25,
     "metadata": {},
     "output_type": "execute_result"
    }
   ],
   "source": [
    "rg_s['price'].mean()"
   ]
  },
  {
   "cell_type": "markdown",
   "metadata": {},
   "source": [
    "Average price of stock item purchase"
   ]
  },
  {
   "cell_type": "markdown",
   "metadata": {},
   "source": [
    "-----"
   ]
  },
  {
   "cell_type": "markdown",
   "metadata": {},
   "source": [
    "### The RealReal\n",
    "Monthly Buyer"
   ]
  },
  {
   "cell_type": "code",
   "execution_count": 26,
   "metadata": {},
   "outputs": [],
   "source": [
    "rr_b=bid21[bid21['buyer_username']=='the realreal']\n",
    "rr_s=stock21[stock21['buyer_username']=='the realreal']\n",
    "rr_mr=min_resale[min_resale['buyer_username']=='the realreal']"
   ]
  },
  {
   "cell_type": "code",
   "execution_count": 27,
   "metadata": {},
   "outputs": [
    {
     "data": {
      "text/plain": [
       "brand_name      win\n",
       "Hermès          Y        8.823529\n",
       "                N       91.176471\n",
       "Fendi           Y       28.571429\n",
       "                N       71.428571\n",
       "Christian Dior  Y      100.000000\n",
       "Chanel          Y       20.833333\n",
       "                N       79.166667\n",
       "Name: win, dtype: float64"
      ]
     },
     "execution_count": 27,
     "metadata": {},
     "output_type": "execute_result"
    }
   ],
   "source": [
    "# percentage of won bids by brand\n",
    "(rr_b.groupby(['brand_name'])['win']\n",
    " .value_counts(normalize=True)*100).sort_index(ascending=False)"
   ]
  },
  {
   "cell_type": "code",
   "execution_count": 28,
   "metadata": {},
   "outputs": [
    {
     "data": {
      "text/plain": [
       "N    82.222222\n",
       "Y    17.777778\n",
       "Name: win, dtype: float64"
      ]
     },
     "execution_count": 28,
     "metadata": {},
     "output_type": "execute_result"
    }
   ],
   "source": [
    "rr_b['win'].value_counts(normalize=True)*100"
   ]
  },
  {
   "cell_type": "markdown",
   "metadata": {},
   "source": [
    "Low win rate of 17.78%"
   ]
  },
  {
   "cell_type": "code",
   "execution_count": 29,
   "metadata": {},
   "outputs": [
    {
     "data": {
      "image/png": "[encoded data removed]",
      "text/plain": [
       "<Figure size 432x288 with 1 Axes>"
      ]
     },
     "metadata": {
      "needs_background": "light"
     },
     "output_type": "display_data"
    }
   ],
   "source": [
    "sns.histplot(x='brand_name', data=rr_b,\n",
    "            hue='win', stat='frequency', multiple='fill', palette='rainbow',\n",
    "            hue_order=['N','Y'])\n",
    "plt.title('The RealReal Won Items by Brand')\n",
    "plt.show()"
   ]
  },
  {
   "cell_type": "code",
   "execution_count": 30,
   "metadata": {},
   "outputs": [
    {
     "name": "stderr",
     "output_type": "stream",
     "text": [
      "/Users/sydneybednar/opt/anaconda3/lib/python3.7/site-packages/pandas/core/indexing.py:844: SettingWithCopyWarning: \n",
      "A value is trying to be set on a copy of a slice from a DataFrame.\n",
      "Try using .loc[row_indexer,col_indexer] = value instead\n",
      "\n",
      "See the caveats in the documentation: https://pandas.pydata.org/pandas-docs/stable/user_guide/indexing.html#returning-a-view-versus-a-copy\n",
      "  self.obj[key] = _infer_fill_value(value)\n",
      "/Users/sydneybednar/opt/anaconda3/lib/python3.7/site-packages/pandas/core/indexing.py:965: SettingWithCopyWarning: \n",
      "A value is trying to be set on a copy of a slice from a DataFrame.\n",
      "Try using .loc[row_indexer,col_indexer] = value instead\n",
      "\n",
      "See the caveats in the documentation: https://pandas.pydata.org/pandas-docs/stable/user_guide/indexing.html#returning-a-view-versus-a-copy\n",
      "  self.obj[item] = s\n"
     ]
    }
   ],
   "source": [
    "rr_mr.loc[:,'has_min_resale']='N'\n",
    "rr_mr.loc[(~rr_mr['min_resale'].isnull()), 'has_min_resale']='Y'"
   ]
  },
  {
   "cell_type": "code",
   "execution_count": 31,
   "metadata": {},
   "outputs": [
    {
     "data": {
      "text/plain": [
       "N    61.496493\n",
       "Y    38.503507\n",
       "Name: has_min_resale, dtype: float64"
      ]
     },
     "execution_count": 31,
     "metadata": {},
     "output_type": "execute_result"
    }
   ],
   "source": [
    "rr_mr['has_min_resale'].value_counts(normalize=True)*100"
   ]
  },
  {
   "cell_type": "markdown",
   "metadata": {},
   "source": [
    "38% of The RealReal's stock purchases had minimum resale prices."
   ]
  },
  {
   "cell_type": "code",
   "execution_count": 32,
   "metadata": {},
   "outputs": [
    {
     "data": {
      "text/plain": [
       "<0%         0\n",
       "0-10%       0\n",
       "11-20%      0\n",
       "21-30%      3\n",
       "31-40%      8\n",
       "41-50%     35\n",
       "51-60%     96\n",
       "61-70%    139\n",
       "71+%      213\n",
       "Name: margin_lvl, dtype: int64"
      ]
     },
     "execution_count": 32,
     "metadata": {},
     "output_type": "execute_result"
    }
   ],
   "source": [
    "rr_mr['margin_lvl'].value_counts().sort_index()"
   ]
  },
  {
   "cell_type": "markdown",
   "metadata": {},
   "source": [
    "TRR purchases items with margins>20%."
   ]
  },
  {
   "cell_type": "code",
   "execution_count": 33,
   "metadata": {},
   "outputs": [
    {
     "data": {
      "text/plain": [
       "brand_name      margin_lvl\n",
       "Bottega Veneta  61-70%         1\n",
       "Burberry        51-60%         1\n",
       "Celine          61-70%         2\n",
       "Chanel          31-40%         1\n",
       "                41-50%         8\n",
       "                51-60%        14\n",
       "                61-70%        22\n",
       "                71+%          76\n",
       "Chloé           61-70%         1\n",
       "Christian Dior  51-60%         2\n",
       "                61-70%         9\n",
       "                71+%           5\n",
       "Fendi           31-40%         2\n",
       "                41-50%         4\n",
       "                51-60%         9\n",
       "                61-70%        12\n",
       "                71+%          12\n",
       "Goyard          51-60%         3\n",
       "                61-70%         1\n",
       "                71+%           2\n",
       "Gucci           31-40%         2\n",
       "                41-50%         5\n",
       "                51-60%         7\n",
       "                61-70%         1\n",
       "                71+%           4\n",
       "Hermès          41-50%         4\n",
       "                51-60%        15\n",
       "                61-70%        15\n",
       "                71+%          27\n",
       "Louis Vuitton   21-30%         3\n",
       "                31-40%         2\n",
       "                41-50%        10\n",
       "                51-60%        35\n",
       "                61-70%        66\n",
       "                71+%          83\n",
       "Prada           31-40%         1\n",
       "                41-50%         4\n",
       "                51-60%        10\n",
       "                61-70%         9\n",
       "                71+%           3\n",
       "Saint Laurent   71+%           1\n",
       "Name: margin_lvl, dtype: int64"
      ]
     },
     "execution_count": 33,
     "metadata": {},
     "output_type": "execute_result"
    }
   ],
   "source": [
    "rr_mr.groupby('brand_name')['margin_lvl'].value_counts().sort_index()"
   ]
  },
  {
   "cell_type": "code",
   "execution_count": 34,
   "metadata": {},
   "outputs": [
    {
     "data": {
      "image/png": "[encoded data removed]",
      "text/plain": [
       "<Figure size 720x576 with 1 Axes>"
      ]
     },
     "metadata": {
      "needs_background": "light"
     },
     "output_type": "display_data"
    }
   ],
   "source": [
    "plt.figure(figsize=(10,8))\n",
    "sns.histplot(x='margin_lvl', data=rr_mr[~rr_mr['margin_lvl'].isnull()],\n",
    "            hue='brand_name', stat='count', multiple='stack', palette='rainbow')\n",
    "plt.title('The RealReal Margin Levels by Brand')\n",
    "plt.show()"
   ]
  },
  {
   "cell_type": "code",
   "execution_count": 35,
   "metadata": {},
   "outputs": [
    {
     "data": {
      "text/plain": [
       "brand_name\n",
       "Balenciaga              467.77\n",
       "Bottega Veneta          489.15\n",
       "Burberry                342.53\n",
       "Celine                  476.87\n",
       "Chanel                 1975.00\n",
       "Chloé                   418.75\n",
       "Christian Dior          768.45\n",
       "Etro                    114.00\n",
       "Fendi                   451.26\n",
       "Gianni Versace          286.00\n",
       "Givenchy                288.50\n",
       "Goyard                 1447.00\n",
       "Gucci                   318.40\n",
       "Hermès                 4071.64\n",
       "Loewe                   372.00\n",
       "Louis Vuitton           506.74\n",
       "MCM                     246.38\n",
       "Miu Miu                 185.00\n",
       "Mulberry                254.00\n",
       "Prada                   388.35\n",
       "Saint Laurent           682.30\n",
       "Salvatore Ferragamo     309.33\n",
       "Stella McCartney        168.00\n",
       "Valentino               426.42\n",
       "Versace                 235.00\n",
       "Yves Saint Laurent      503.12\n",
       "Name: price, dtype: float64"
      ]
     },
     "execution_count": 35,
     "metadata": {},
     "output_type": "execute_result"
    }
   ],
   "source": [
    "round(rr_mr.groupby('brand_name')['price'].mean(),2)"
   ]
  },
  {
   "cell_type": "code",
   "execution_count": 36,
   "metadata": {},
   "outputs": [
    {
     "data": {
      "text/plain": [
       "2600.3125"
      ]
     },
     "execution_count": 36,
     "metadata": {},
     "output_type": "execute_result"
    }
   ],
   "source": [
    "rr_b[rr_b['win']=='Y']['winning_bid'].mean()"
   ]
  },
  {
   "cell_type": "code",
   "execution_count": 37,
   "metadata": {},
   "outputs": [
    {
     "data": {
      "text/plain": [
       "brand_name\n",
       "Chanel            1007.9\n",
       "Christian Dior    1684.0\n",
       "Fendi              849.5\n",
       "Hermès            9381.0\n",
       "Name: winning_bid, dtype: float64"
      ]
     },
     "execution_count": 37,
     "metadata": {},
     "output_type": "execute_result"
    }
   ],
   "source": [
    "rr_b[rr_b['win']=='Y'].groupby('brand_name')['winning_bid'].mean()"
   ]
  },
  {
   "cell_type": "code",
   "execution_count": 38,
   "metadata": {},
   "outputs": [
    {
     "data": {
      "text/plain": [
       "1258.2005333333332"
      ]
     },
     "execution_count": 38,
     "metadata": {},
     "output_type": "execute_result"
    }
   ],
   "source": [
    "rr_s['price'].mean()"
   ]
  },
  {
   "cell_type": "markdown",
   "metadata": {},
   "source": [
    "## L-XXL\n",
    "$30-180k in GMV"
   ]
  },
  {
   "cell_type": "markdown",
   "metadata": {},
   "source": [
    "### Vivrelle"
   ]
  },
  {
   "cell_type": "code",
   "execution_count": 39,
   "metadata": {},
   "outputs": [],
   "source": [
    "v_b=bid21[bid21['buyer_username']=='harley 2019']\n",
    "v_s=stock21[stock21['buyer_username']=='harley 2019']\n",
    "v_mr=min_resale[min_resale['buyer_username']=='harley 2019']"
   ]
  },
  {
   "cell_type": "code",
   "execution_count": 40,
   "metadata": {},
   "outputs": [
    {
     "data": {
      "text/plain": [
       "brand_name          win\n",
       "Yves Saint Laurent  N      100.000000\n",
       "Van Cleef & Arpels  Y       70.000000\n",
       "                    N       30.000000\n",
       "Saint Laurent       Y       50.000000\n",
       "                    N       50.000000\n",
       "Prada               Y       51.724138\n",
       "                    N       48.275862\n",
       "Mont Blanc          N      100.000000\n",
       "Louis Vuitton       Y       20.749280\n",
       "                    N       79.250720\n",
       "Hermès              Y       29.411765\n",
       "                    N       70.588235\n",
       "Gucci               Y       35.416667\n",
       "                    N       64.583333\n",
       "Goyard              N      100.000000\n",
       "Fendi               Y       37.500000\n",
       "                    N       62.500000\n",
       "Christian Dior      Y       21.153846\n",
       "                    N       78.846154\n",
       "Chloé               N      100.000000\n",
       "Chanel              Y       29.310345\n",
       "                    N       70.689655\n",
       "Celine              Y       15.625000\n",
       "                    N       84.375000\n",
       "Bulgari             N      100.000000\n",
       "Bottega Veneta      Y       18.181818\n",
       "                    N       81.818182\n",
       "Balenciaga          Y       22.727273\n",
       "                    N       77.272727\n",
       "Name: win, dtype: float64"
      ]
     },
     "execution_count": 40,
     "metadata": {},
     "output_type": "execute_result"
    }
   ],
   "source": [
    "# percentage of won bids by brand\n",
    "(v_b.groupby(['brand_name'])['win']\n",
    " .value_counts(normalize=True)*100).sort_index(ascending=False)"
   ]
  },
  {
   "cell_type": "code",
   "execution_count": 41,
   "metadata": {},
   "outputs": [
    {
     "data": {
      "text/plain": [
       "N    72.943172\n",
       "Y    27.056828\n",
       "Name: win, dtype: float64"
      ]
     },
     "execution_count": 41,
     "metadata": {},
     "output_type": "execute_result"
    }
   ],
   "source": [
    "v_b['win'].value_counts(normalize=True)*100"
   ]
  },
  {
   "cell_type": "markdown",
   "metadata": {},
   "source": [
    "Win rate of 27.06%"
   ]
  },
  {
   "cell_type": "code",
   "execution_count": 42,
   "metadata": {},
   "outputs": [],
   "source": [
    "top5_v=v_b['brand_name'].value_counts().index[:5]"
   ]
  },
  {
   "cell_type": "code",
   "execution_count": 43,
   "metadata": {},
   "outputs": [
    {
     "data": {
      "image/png": "[encoded data removed]",
      "text/plain": [
       "<Figure size 432x288 with 1 Axes>"
      ]
     },
     "metadata": {
      "needs_background": "light"
     },
     "output_type": "display_data"
    }
   ],
   "source": [
    "sns.histplot(x='brand_name', data=v_b[v_b['brand_name'].isin(top5_v)],\n",
    "            hue='win', stat='frequency', multiple='fill', palette='rainbow',\n",
    "            hue_order=['N','Y'])\n",
    "plt.title('Vivrelle Won Items by Top Brand')\n",
    "plt.show()"
   ]
  },
  {
   "cell_type": "code",
   "execution_count": 44,
   "metadata": {},
   "outputs": [
    {
     "name": "stderr",
     "output_type": "stream",
     "text": [
      "/Users/sydneybednar/opt/anaconda3/lib/python3.7/site-packages/pandas/core/indexing.py:844: SettingWithCopyWarning: \n",
      "A value is trying to be set on a copy of a slice from a DataFrame.\n",
      "Try using .loc[row_indexer,col_indexer] = value instead\n",
      "\n",
      "See the caveats in the documentation: https://pandas.pydata.org/pandas-docs/stable/user_guide/indexing.html#returning-a-view-versus-a-copy\n",
      "  self.obj[key] = _infer_fill_value(value)\n",
      "/Users/sydneybednar/opt/anaconda3/lib/python3.7/site-packages/pandas/core/indexing.py:965: SettingWithCopyWarning: \n",
      "A value is trying to be set on a copy of a slice from a DataFrame.\n",
      "Try using .loc[row_indexer,col_indexer] = value instead\n",
      "\n",
      "See the caveats in the documentation: https://pandas.pydata.org/pandas-docs/stable/user_guide/indexing.html#returning-a-view-versus-a-copy\n",
      "  self.obj[item] = s\n"
     ]
    }
   ],
   "source": [
    "v_mr.loc[:,'has_min_resale']='N'\n",
    "v_mr.loc[(~v_mr['min_resale'].isnull()), 'has_min_resale']='Y'"
   ]
  },
  {
   "cell_type": "code",
   "execution_count": 45,
   "metadata": {},
   "outputs": [
    {
     "data": {
      "text/plain": [
       "N    78.444444\n",
       "Y    21.555556\n",
       "Name: has_min_resale, dtype: float64"
      ]
     },
     "execution_count": 45,
     "metadata": {},
     "output_type": "execute_result"
    }
   ],
   "source": [
    "v_mr['has_min_resale'].value_counts(normalize=True)*100"
   ]
  },
  {
   "cell_type": "markdown",
   "metadata": {},
   "source": [
    "Only 21.56% of Vivrelle's purchases have minimum resale"
   ]
  },
  {
   "cell_type": "code",
   "execution_count": 46,
   "metadata": {},
   "outputs": [
    {
     "data": {
      "text/plain": [
       "<0%        0\n",
       "0-10%      0\n",
       "11-20%     0\n",
       "21-30%     0\n",
       "31-40%     0\n",
       "41-50%     1\n",
       "51-60%     2\n",
       "61-70%     3\n",
       "71+%      91\n",
       "Name: margin_lvl, dtype: int64"
      ]
     },
     "execution_count": 46,
     "metadata": {},
     "output_type": "execute_result"
    }
   ],
   "source": [
    "v_mr['margin_lvl'].value_counts().sort_index()"
   ]
  },
  {
   "cell_type": "markdown",
   "metadata": {},
   "source": [
    "Vivrelle has only bought stock with margins>40%."
   ]
  },
  {
   "cell_type": "code",
   "execution_count": 47,
   "metadata": {},
   "outputs": [
    {
     "data": {
      "text/plain": [
       "brand_name          margin_lvl\n",
       "Balenciaga          71+%           1\n",
       "Celine              71+%           2\n",
       "Chanel              71+%          31\n",
       "Christian Dior      51-60%         1\n",
       "                    71+%           6\n",
       "Fendi               41-50%         1\n",
       "                    71+%           2\n",
       "Gucci               61-70%         2\n",
       "                    71+%          11\n",
       "Louis Vuitton       51-60%         1\n",
       "                    61-70%         1\n",
       "                    71+%          27\n",
       "Prada               71+%           2\n",
       "Saint Laurent       71+%           1\n",
       "Yves Saint Laurent  71+%           8\n",
       "Name: margin_lvl, dtype: int64"
      ]
     },
     "execution_count": 47,
     "metadata": {},
     "output_type": "execute_result"
    }
   ],
   "source": [
    "v_mr.groupby('brand_name')['margin_lvl'].value_counts().sort_index()"
   ]
  },
  {
   "cell_type": "markdown",
   "metadata": {},
   "source": [
    "Margin level by brand"
   ]
  },
  {
   "cell_type": "code",
   "execution_count": 48,
   "metadata": {},
   "outputs": [
    {
     "data": {
      "image/png": "[encoded data removed]",
      "text/plain": [
       "<Figure size 720x576 with 1 Axes>"
      ]
     },
     "metadata": {
      "needs_background": "light"
     },
     "output_type": "display_data"
    }
   ],
   "source": [
    "plt.figure(figsize=(10,8))\n",
    "sns.histplot(x='margin_lvl', data=v_mr[~v_mr['margin_lvl'].isnull()],\n",
    "            hue='brand_name', stat='count', multiple='stack', palette='rainbow')\n",
    "plt.title('Vivrelle Margin Levels by Brand')\n",
    "plt.show()"
   ]
  },
  {
   "cell_type": "code",
   "execution_count": 49,
   "metadata": {},
   "outputs": [
    {
     "data": {
      "text/plain": [
       "brand_name\n",
       "Balenciaga             648.00\n",
       "Bottega Veneta        1747.73\n",
       "Celine                1286.54\n",
       "Chanel                2381.71\n",
       "Christian Dior        1890.20\n",
       "Fendi                  949.32\n",
       "Givenchy              1191.40\n",
       "Goyard                1997.50\n",
       "Gucci                 1170.07\n",
       "Hermès                1626.73\n",
       "Louis Vuitton         1717.20\n",
       "Prada                 1151.27\n",
       "Saint Laurent         1256.00\n",
       "Van Cleef & Arpels    2109.31\n",
       "Yves Saint Laurent    1165.42\n",
       "Name: price, dtype: float64"
      ]
     },
     "execution_count": 49,
     "metadata": {},
     "output_type": "execute_result"
    }
   ],
   "source": [
    "round(v_mr.groupby('brand_name')['price'].mean(),2)"
   ]
  },
  {
   "cell_type": "code",
   "execution_count": 50,
   "metadata": {},
   "outputs": [
    {
     "data": {
      "text/plain": [
       "1588.0344827586207"
      ]
     },
     "execution_count": 50,
     "metadata": {},
     "output_type": "execute_result"
    }
   ],
   "source": [
    "v_b[v_b['win']=='Y']['winning_bid'].mean()"
   ]
  },
  {
   "cell_type": "code",
   "execution_count": 51,
   "metadata": {},
   "outputs": [
    {
     "data": {
      "text/plain": [
       "brand_name\n",
       "Balenciaga            1297.40\n",
       "Bottega Veneta         967.00\n",
       "Celine                1107.60\n",
       "Chanel                1979.32\n",
       "Christian Dior        1169.27\n",
       "Fendi                 1335.83\n",
       "Gucci                  918.24\n",
       "Hermès                1241.25\n",
       "Louis Vuitton         1532.86\n",
       "Prada                  956.40\n",
       "Saint Laurent         1313.50\n",
       "Van Cleef & Arpels    1988.71\n",
       "Name: winning_bid, dtype: float64"
      ]
     },
     "execution_count": 51,
     "metadata": {},
     "output_type": "execute_result"
    }
   ],
   "source": [
    "round(v_b[v_b['win']=='Y'].groupby('brand_name')['winning_bid'].mean(),2)"
   ]
  },
  {
   "cell_type": "code",
   "execution_count": 52,
   "metadata": {},
   "outputs": [
    {
     "data": {
      "text/plain": [
       "1955.0034699453558"
      ]
     },
     "execution_count": 52,
     "metadata": {},
     "output_type": "execute_result"
    }
   ],
   "source": [
    "v_s['price'].mean()"
   ]
  },
  {
   "cell_type": "markdown",
   "metadata": {},
   "source": [
    "### Bagriculture"
   ]
  },
  {
   "cell_type": "code",
   "execution_count": 53,
   "metadata": {},
   "outputs": [],
   "source": [
    "b_b=bid21[bid21['buyer_username']=='bagriculture']\n",
    "b_s=stock21[stock21['buyer_username']=='bagriculture']\n",
    "# no stock"
   ]
  },
  {
   "cell_type": "code",
   "execution_count": 54,
   "metadata": {},
   "outputs": [
    {
     "data": {
      "text/plain": [
       "brand_name           win\n",
       "Yves Saint Laurent   Y       13.333333\n",
       "                     N       86.666667\n",
       "Versace              Y        9.090909\n",
       "                     N       90.909091\n",
       "Van Cleef & Arpels   Y       21.428571\n",
       "                     N       78.571429\n",
       "Valentino Garavani   N      100.000000\n",
       "Valentino            Y       30.000000\n",
       "                     N       70.000000\n",
       "Tiffany & Co.        N      100.000000\n",
       "Saint Laurent        N      100.000000\n",
       "Rolex                Y        8.000000\n",
       "                     N       92.000000\n",
       "Ralph Lauren         N      100.000000\n",
       "Prada                Y        9.345794\n",
       "                     N       90.654206\n",
       "Moschino             Y      100.000000\n",
       "Miu Miu              N      100.000000\n",
       "MCM                  Y        4.597701\n",
       "                     N       95.402299\n",
       "Louis Vuitton        Y        7.830552\n",
       "                     N       92.169448\n",
       "Hermès               Y        8.279221\n",
       "                     N       91.720779\n",
       "Gucci                Y       10.714286\n",
       "                     N       89.285714\n",
       "Goyard               Y       12.500000\n",
       "                     N       87.500000\n",
       "Givenchy             Y       20.000000\n",
       "                     N       80.000000\n",
       "Ferragamo            Y       50.000000\n",
       "                     N       50.000000\n",
       "Fendi                Y        9.677419\n",
       "                     N       90.322581\n",
       "Dolce & Gabbana      N      100.000000\n",
       "Christian Louboutin  N      100.000000\n",
       "Christian Dior       Y       11.445783\n",
       "                     N       88.554217\n",
       "Chopard              N      100.000000\n",
       "Chanel               Y        7.443820\n",
       "                     N       92.556180\n",
       "Celine               N      100.000000\n",
       "Burberry             Y       14.814815\n",
       "                     N       85.185185\n",
       "Bulgari              N      100.000000\n",
       "Bottega Veneta       Y        5.084746\n",
       "                     N       94.915254\n",
       "Bally                N      100.000000\n",
       "Balenciaga           Y        5.000000\n",
       "                     N       95.000000\n",
       "Name: win, dtype: float64"
      ]
     },
     "execution_count": 54,
     "metadata": {},
     "output_type": "execute_result"
    }
   ],
   "source": [
    "# percentage of won bids by brand\n",
    "(b_b.groupby(['brand_name'])['win']\n",
    " .value_counts(normalize=True)*100).sort_index(ascending=False)"
   ]
  },
  {
   "cell_type": "code",
   "execution_count": 55,
   "metadata": {},
   "outputs": [
    {
     "data": {
      "text/plain": [
       "N    91.827021\n",
       "Y     8.172979\n",
       "Name: win, dtype: float64"
      ]
     },
     "execution_count": 55,
     "metadata": {},
     "output_type": "execute_result"
    }
   ],
   "source": [
    "b_b['win'].value_counts(normalize=True)*100"
   ]
  },
  {
   "cell_type": "markdown",
   "metadata": {},
   "source": [
    "Low win rate of 8.17%"
   ]
  },
  {
   "cell_type": "code",
   "execution_count": 56,
   "metadata": {},
   "outputs": [],
   "source": [
    "top5_b=b_b['brand_name'].value_counts().index[:5]"
   ]
  },
  {
   "cell_type": "code",
   "execution_count": 57,
   "metadata": {},
   "outputs": [
    {
     "data": {
      "image/png": "[encoded data removed]",
      "text/plain": [
       "<Figure size 432x288 with 1 Axes>"
      ]
     },
     "metadata": {
      "needs_background": "light"
     },
     "output_type": "display_data"
    }
   ],
   "source": [
    "sns.histplot(x='brand_name', data=b_b[b_b['brand_name'].isin(top5_b)],\n",
    "            hue='win', stat='frequency', multiple='fill', palette='rainbow',\n",
    "            hue_order=['N','Y'])\n",
    "plt.title('Bagriculture Won Items by Top Brand')\n",
    "plt.show()"
   ]
  },
  {
   "cell_type": "code",
   "execution_count": 58,
   "metadata": {},
   "outputs": [
    {
     "data": {
      "text/plain": [
       "433.1314475873544"
      ]
     },
     "execution_count": 58,
     "metadata": {},
     "output_type": "execute_result"
    }
   ],
   "source": [
    "b_b[b_b['win']=='Y']['winning_bid'].mean()"
   ]
  },
  {
   "cell_type": "markdown",
   "metadata": {},
   "source": [
    "Average price of item for bids won by Bagriculture."
   ]
  },
  {
   "cell_type": "code",
   "execution_count": 59,
   "metadata": {},
   "outputs": [
    {
     "data": {
      "text/plain": [
       "brand_name\n",
       "Balenciaga            203.00\n",
       "Bottega Veneta        184.67\n",
       "Burberry              141.06\n",
       "Chanel                485.19\n",
       "Christian Dior        316.92\n",
       "Fendi                 278.89\n",
       "Ferragamo             122.67\n",
       "Givenchy              129.00\n",
       "Goyard                558.61\n",
       "Gucci                 259.54\n",
       "Hermès                421.36\n",
       "Louis Vuitton         458.21\n",
       "MCM                   166.75\n",
       "Moschino              483.00\n",
       "Prada                 307.80\n",
       "Rolex                 866.00\n",
       "Valentino             165.33\n",
       "Van Cleef & Arpels    667.67\n",
       "Versace               249.00\n",
       "Yves Saint Laurent     73.00\n",
       "Name: winning_bid, dtype: float64"
      ]
     },
     "execution_count": 59,
     "metadata": {},
     "output_type": "execute_result"
    }
   ],
   "source": [
    "round(b_b[b_b['win']=='Y'].groupby('brand_name')['winning_bid'].mean(),2)"
   ]
  },
  {
   "cell_type": "markdown",
   "metadata": {},
   "source": [
    "## S-M \n",
    "$5k-30k in GMV"
   ]
  },
  {
   "cell_type": "markdown",
   "metadata": {},
   "source": [
    "### Season 2 Consign"
   ]
  },
  {
   "cell_type": "code",
   "execution_count": 60,
   "metadata": {},
   "outputs": [],
   "source": [
    "s2_b=bid21[bid21['buyer_username']=='season 2 consign']\n",
    "s2_s=stock21[stock21['buyer_username']=='season 2 consign']\n",
    "s2_mr=min_resale[min_resale['buyer_username']=='season 2 consign']"
   ]
  },
  {
   "cell_type": "code",
   "execution_count": 61,
   "metadata": {},
   "outputs": [
    {
     "data": {
      "text/plain": [
       "brand_name      win\n",
       "Bottega Veneta  N      100.000000\n",
       "Chanel          N       90.322581\n",
       "                Y        9.677419\n",
       "Christian Dior  N      100.000000\n",
       "Fendi           N       66.666667\n",
       "                Y       33.333333\n",
       "Gucci           N       60.606061\n",
       "                Y       39.393939\n",
       "Hermès          N      100.000000\n",
       "Louis Vuitton   N       79.746835\n",
       "                Y       20.253165\n",
       "Prada           N       46.153846\n",
       "                Y       53.846154\n",
       "Saint Laurent   N      100.000000\n",
       "Name: win, dtype: float64"
      ]
     },
     "execution_count": 61,
     "metadata": {},
     "output_type": "execute_result"
    }
   ],
   "source": [
    "(s2_b.groupby('brand_name')['win'].value_counts(normalize=True)*100).sort_index()"
   ]
  },
  {
   "cell_type": "code",
   "execution_count": 62,
   "metadata": {},
   "outputs": [
    {
     "data": {
      "text/plain": [
       "N    69.767442\n",
       "Y    30.232558\n",
       "Name: win, dtype: float64"
      ]
     },
     "execution_count": 62,
     "metadata": {},
     "output_type": "execute_result"
    }
   ],
   "source": [
    "s2_b['win'].value_counts(normalize=True)*100"
   ]
  },
  {
   "cell_type": "markdown",
   "metadata": {},
   "source": [
    "Season 2 Consign has a win rate of 30.23%"
   ]
  },
  {
   "cell_type": "code",
   "execution_count": 63,
   "metadata": {},
   "outputs": [],
   "source": [
    "top5_s2=s2_b['brand_name'].value_counts().index[:5]"
   ]
  },
  {
   "cell_type": "code",
   "execution_count": 64,
   "metadata": {},
   "outputs": [
    {
     "data": {
      "image/png": "[encoded data removed]",
      "text/plain": [
       "<Figure size 432x288 with 1 Axes>"
      ]
     },
     "metadata": {
      "needs_background": "light"
     },
     "output_type": "display_data"
    }
   ],
   "source": [
    "sns.histplot(x='brand_name', data=s2_b[s2_b['brand_name'].isin(top5_s2)],\n",
    "            hue='win', stat='frequency', multiple='fill', palette='rainbow',\n",
    "            hue_order=['N','Y'])\n",
    "plt.title('Season 2 Consign Won Items by Top Brand')\n",
    "plt.show()"
   ]
  },
  {
   "cell_type": "code",
   "execution_count": 65,
   "metadata": {},
   "outputs": [
    {
     "name": "stderr",
     "output_type": "stream",
     "text": [
      "/Users/sydneybednar/opt/anaconda3/lib/python3.7/site-packages/pandas/core/indexing.py:844: SettingWithCopyWarning: \n",
      "A value is trying to be set on a copy of a slice from a DataFrame.\n",
      "Try using .loc[row_indexer,col_indexer] = value instead\n",
      "\n",
      "See the caveats in the documentation: https://pandas.pydata.org/pandas-docs/stable/user_guide/indexing.html#returning-a-view-versus-a-copy\n",
      "  self.obj[key] = _infer_fill_value(value)\n",
      "/Users/sydneybednar/opt/anaconda3/lib/python3.7/site-packages/pandas/core/indexing.py:965: SettingWithCopyWarning: \n",
      "A value is trying to be set on a copy of a slice from a DataFrame.\n",
      "Try using .loc[row_indexer,col_indexer] = value instead\n",
      "\n",
      "See the caveats in the documentation: https://pandas.pydata.org/pandas-docs/stable/user_guide/indexing.html#returning-a-view-versus-a-copy\n",
      "  self.obj[item] = s\n"
     ]
    }
   ],
   "source": [
    "s2_mr.loc[:,'has_min_resale']='N'\n",
    "s2_mr.loc[(~s2_mr['min_resale'].isnull()), 'has_min_resale']='Y'"
   ]
  },
  {
   "cell_type": "code",
   "execution_count": 66,
   "metadata": {},
   "outputs": [
    {
     "data": {
      "text/plain": [
       "Y    50.0\n",
       "N    50.0\n",
       "Name: has_min_resale, dtype: float64"
      ]
     },
     "execution_count": 66,
     "metadata": {},
     "output_type": "execute_result"
    }
   ],
   "source": [
    "s2_mr['has_min_resale'].value_counts(normalize=True)*100"
   ]
  },
  {
   "cell_type": "markdown",
   "metadata": {},
   "source": [
    "50% of Season 2 Consign's purchases had minimum resale prices."
   ]
  },
  {
   "cell_type": "code",
   "execution_count": 67,
   "metadata": {},
   "outputs": [
    {
     "data": {
      "text/plain": [
       "<0%        0\n",
       "0-10%      0\n",
       "11-20%     0\n",
       "21-30%     4\n",
       "31-40%     5\n",
       "41-50%    20\n",
       "51-60%    38\n",
       "61-70%    62\n",
       "71+%      73\n",
       "Name: margin_lvl, dtype: int64"
      ]
     },
     "execution_count": 67,
     "metadata": {},
     "output_type": "execute_result"
    }
   ],
   "source": [
    "s2_mr['margin_lvl'].value_counts().sort_index()"
   ]
  },
  {
   "cell_type": "code",
   "execution_count": 68,
   "metadata": {},
   "outputs": [
    {
     "data": {
      "text/plain": [
       "brand_name          margin_lvl\n",
       "Balenciaga          61-70%         2\n",
       "Burberry            41-50%         1\n",
       "Chanel              41-50%         2\n",
       "                    51-60%         3\n",
       "                    61-70%        15\n",
       "                    71+%          19\n",
       "Christian Dior      51-60%         2\n",
       "                    61-70%         1\n",
       "Fendi               51-60%         1\n",
       "                    61-70%         1\n",
       "                    71+%           1\n",
       "Givenchy            41-50%         1\n",
       "                    61-70%         1\n",
       "Goyard              31-40%         1\n",
       "Gucci               31-40%         2\n",
       "                    41-50%         8\n",
       "                    51-60%         5\n",
       "                    61-70%         6\n",
       "                    71+%           2\n",
       "Hermès              51-60%         1\n",
       "Louis Vuitton       21-30%         4\n",
       "                    31-40%         2\n",
       "                    41-50%         8\n",
       "                    51-60%        24\n",
       "                    61-70%        34\n",
       "                    71+%          49\n",
       "Prada               51-60%         2\n",
       "                    61-70%         1\n",
       "                    71+%           2\n",
       "Yves Saint Laurent  61-70%         1\n",
       "Name: margin_lvl, dtype: int64"
      ]
     },
     "execution_count": 68,
     "metadata": {},
     "output_type": "execute_result"
    }
   ],
   "source": [
    "s2_mr.groupby('brand_name')['margin_lvl'].value_counts().sort_index()"
   ]
  },
  {
   "cell_type": "code",
   "execution_count": 69,
   "metadata": {},
   "outputs": [
    {
     "data": {
      "image/png": "[encoded data removed]",
      "text/plain": [
       "<Figure size 720x576 with 1 Axes>"
      ]
     },
     "metadata": {
      "needs_background": "light"
     },
     "output_type": "display_data"
    }
   ],
   "source": [
    "plt.figure(figsize=(10,8))\n",
    "sns.histplot(x='margin_lvl', data=s2_mr[~s2_mr['margin_lvl'].isnull()],\n",
    "            hue='brand_name', stat='count', multiple='stack', palette='rainbow')\n",
    "plt.title('Season 2 Consign Margin Levels by Brand')\n",
    "plt.show()"
   ]
  },
  {
   "cell_type": "code",
   "execution_count": 70,
   "metadata": {},
   "outputs": [
    {
     "data": {
      "text/plain": [
       "brand_name\n",
       "Balenciaga             369.20\n",
       "Bottega Veneta         398.33\n",
       "Burberry               179.67\n",
       "Celine                 516.00\n",
       "Chanel                1176.70\n",
       "Chloé                  719.00\n",
       "Christian Dior         471.77\n",
       "Coach                  287.00\n",
       "Fendi                  467.73\n",
       "Gianni Versace         273.00\n",
       "Givenchy               340.19\n",
       "Goyard                1013.00\n",
       "Gucci                  432.68\n",
       "Hermès                 545.79\n",
       "Loewe                 1215.00\n",
       "Louis Vuitton          595.00\n",
       "MCM                    189.00\n",
       "Prada                  387.19\n",
       "Saint Laurent          734.50\n",
       "Valentino              720.49\n",
       "Van Cleef & Arpels     503.00\n",
       "Yves Saint Laurent     517.80\n",
       "Name: price, dtype: float64"
      ]
     },
     "execution_count": 70,
     "metadata": {},
     "output_type": "execute_result"
    }
   ],
   "source": [
    "round(s2_mr.groupby('brand_name')['price'].mean(),2)"
   ]
  },
  {
   "cell_type": "code",
   "execution_count": 71,
   "metadata": {},
   "outputs": [
    {
     "data": {
      "text/plain": [
       "295.3974358974359"
      ]
     },
     "execution_count": 71,
     "metadata": {},
     "output_type": "execute_result"
    }
   ],
   "source": [
    "s2_b[s2_b['win']=='Y']['winning_bid'].mean()"
   ]
  },
  {
   "cell_type": "code",
   "execution_count": 72,
   "metadata": {},
   "outputs": [
    {
     "data": {
      "text/plain": [
       "brand_name\n",
       "Chanel           368.00\n",
       "Fendi            307.17\n",
       "Gucci            289.73\n",
       "Louis Vuitton    319.62\n",
       "Prada            266.86\n",
       "Name: winning_bid, dtype: float64"
      ]
     },
     "execution_count": 72,
     "metadata": {},
     "output_type": "execute_result"
    }
   ],
   "source": [
    "round(s2_b[s2_b['win']=='Y'].groupby('brand_name')['winning_bid'].mean(),2)"
   ]
  },
  {
   "cell_type": "code",
   "execution_count": 73,
   "metadata": {},
   "outputs": [
    {
     "data": {
      "text/plain": [
       "658.7229950495049"
      ]
     },
     "execution_count": 73,
     "metadata": {},
     "output_type": "execute_result"
    }
   ],
   "source": [
    "s2_s['price'].mean()"
   ]
  },
  {
   "cell_type": "markdown",
   "metadata": {},
   "source": [
    "### Chic to Chic"
   ]
  },
  {
   "cell_type": "code",
   "execution_count": 74,
   "metadata": {},
   "outputs": [],
   "source": [
    "c_b=bid21[bid21['buyer_username']=='chic to chic']\n",
    "c_s=stock21[stock21['buyer_username']=='chic to chic']\n",
    "c_mr=min_resale[min_resale['buyer_username']=='chic to chic']"
   ]
  },
  {
   "cell_type": "code",
   "execution_count": null,
   "metadata": {},
   "outputs": [],
   "source": []
  }
 ],
 "metadata": {
  "kernelspec": {
   "display_name": "Python 3",
   "language": "python",
   "name": "python3"
  },
  "language_info": {
   "codemirror_mode": {
    "name": "ipython",
    "version": 3
   },
   "file_extension": ".py",
   "mimetype": "text/x-python",
   "name": "python",
   "nbconvert_exporter": "python",
   "pygments_lexer": "ipython3",
   "version": "3.7.6"
  }
 },
 "nbformat": 4,
 "nbformat_minor": 4
}
