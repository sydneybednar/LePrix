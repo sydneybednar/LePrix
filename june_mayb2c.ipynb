{
 "cells": [
  {
   "cell_type": "markdown",
   "metadata": {},
   "source": [
    "# June vs May"
   ]
  },
  {
   "cell_type": "code",
   "execution_count": 1,
   "metadata": {},
   "outputs": [],
   "source": [
    "import pandas as pd\n",
    "import numpy as np\n",
    "import matplotlib.pyplot as plt\n",
    "from scipy import stats\n",
    "import statsmodels.api as sm\n",
    "import seaborn as sns\n",
    "import datetime"
   ]
  },
  {
   "cell_type": "code",
   "execution_count": 2,
   "metadata": {},
   "outputs": [],
   "source": [
    "orders=pd.read_csv('june_may2021.csv')"
   ]
  },
  {
   "cell_type": "code",
   "execution_count": 3,
   "metadata": {},
   "outputs": [
    {
     "data": {
      "text/plain": [
       "Index(['Order ID', 'Reference', 'Buyer ID', 'Seller ID', 'Item ID',\n",
       "       'Markdown ID', 'Buyer', 'Buyer Email', 'Seller', 'Seller Email', 'Item',\n",
       "       'Item Creation', 'Color', 'Brand', 'Category', 'Parent Category',\n",
       "       'Subtotal', 'Shipping', 'Refunded', 'Promo Code', 'Promo Value',\n",
       "       'Markdown', 'Credit', 'Tax', 'Total', 'Payment Type',\n",
       "       'Credit Card (Stripe) ID', 'Paypal Transaction ID', 'Affirm Charge ID',\n",
       "       'Seller Fee', 'Seller Label', 'Seller Shipping', 'Seller Refunded',\n",
       "       'Seller Cashout', 'Seller Promo', 'Billing Name', 'Billing Line 1',\n",
       "       'Billing Line 2', 'Billing City', 'Billing Region', 'Billing Postcode',\n",
       "       'Billing Country', 'Buyer Shipping Name', 'Buyer Shipping Line 1',\n",
       "       'Buyer Shipping Line 2', 'Buyer Shipping City', 'Buyer Shipping Region',\n",
       "       'Buyer Shipping Postcode', 'Buyer Shipping Country', 'Phone',\n",
       "       'Seller Shipping Name', 'Seller Shipping Line 1',\n",
       "       'Seller Shipping Line 2', 'Seller Shipping City',\n",
       "       'Seller Shipping Region', 'Seller Shipping Postcode',\n",
       "       'Seller Shipping Country', 'Status', 'Cancellation Reason',\n",
       "       'Modified_At', 'Created At', 'Completed At', 'Pending Until',\n",
       "       'Item URL', 'Main Image URL', 'Order URL', 'Style', 'Material', 'Size',\n",
       "       'Prints'],\n",
       "      dtype='object')"
      ]
     },
     "execution_count": 3,
     "metadata": {},
     "output_type": "execute_result"
    }
   ],
   "source": [
    "orders.columns"
   ]
  },
  {
   "cell_type": "code",
   "execution_count": 4,
   "metadata": {},
   "outputs": [],
   "source": [
    "orders=orders.drop(columns=['Payment Type',\n",
    "       'Credit Card (Stripe) ID', 'Paypal Transaction ID', 'Affirm Charge ID',\n",
    "       'Seller Fee', 'Seller Label', 'Seller Shipping', 'Seller Refunded',\n",
    "       'Seller Cashout', 'Seller Promo', 'Billing Name', 'Billing Line 1',\n",
    "       'Billing Line 2', 'Billing City', 'Billing Region', 'Billing Postcode',\n",
    "       'Billing Country', 'Buyer Shipping Name', 'Buyer Shipping Line 1',\n",
    "       'Buyer Shipping Line 2', 'Buyer Shipping City', 'Buyer Shipping Region',\n",
    "       'Buyer Shipping Postcode', 'Buyer Shipping Country', 'Phone',\n",
    "       'Seller Shipping Name', 'Seller Shipping Line 1',\n",
    "       'Seller Shipping Line 2', 'Seller Shipping City',\n",
    "       'Seller Shipping Region', 'Seller Shipping Postcode',\n",
    "       'Seller Shipping Country'])"
   ]
  },
  {
   "cell_type": "code",
   "execution_count": 5,
   "metadata": {},
   "outputs": [
    {
     "data": {
      "text/plain": [
       "Index(['Order ID', 'Reference', 'Buyer ID', 'Seller ID', 'Item ID',\n",
       "       'Markdown ID', 'Buyer', 'Buyer Email', 'Seller', 'Seller Email', 'Item',\n",
       "       'Item Creation', 'Color', 'Brand', 'Category', 'Parent Category',\n",
       "       'Subtotal', 'Shipping', 'Refunded', 'Promo Code', 'Promo Value',\n",
       "       'Markdown', 'Credit', 'Tax', 'Total', 'Status', 'Cancellation Reason',\n",
       "       'Modified_At', 'Created At', 'Completed At', 'Pending Until',\n",
       "       'Item URL', 'Main Image URL', 'Order URL', 'Style', 'Material', 'Size',\n",
       "       'Prints'],\n",
       "      dtype='object')"
      ]
     },
     "execution_count": 5,
     "metadata": {},
     "output_type": "execute_result"
    }
   ],
   "source": [
    "orders.columns"
   ]
  },
  {
   "cell_type": "code",
   "execution_count": 6,
   "metadata": {},
   "outputs": [],
   "source": [
    "orders['Created At']=pd.to_datetime(orders['Created At'])"
   ]
  },
  {
   "cell_type": "code",
   "execution_count": 7,
   "metadata": {},
   "outputs": [
    {
     "data": {
      "text/plain": [
       "Created At\n",
       "5    1164.287658\n",
       "6    1061.088455\n",
       "Name: Total, dtype: float64"
      ]
     },
     "execution_count": 7,
     "metadata": {},
     "output_type": "execute_result"
    }
   ],
   "source": [
    "full=orders.groupby([orders['Created At'].dt.date, orders['Buyer']])['Total'].sum().reset_index()\n",
    "full['Created At']=pd.to_datetime(full['Created At'])\n",
    "full.groupby(full['Created At'].dt.month)['Total'].mean()"
   ]
  },
  {
   "cell_type": "code",
   "execution_count": 8,
   "metadata": {},
   "outputs": [
    {
     "data": {
      "text/plain": [
       "Created At\n",
       "5    266\n",
       "6    158\n",
       "Name: Total, dtype: int64"
      ]
     },
     "execution_count": 8,
     "metadata": {},
     "output_type": "execute_result"
    }
   ],
   "source": [
    "count=orders.groupby([orders['Created At'].dt.date, orders['Buyer']])['Total'].count().reset_index()\n",
    "count['Created At']=pd.to_datetime(count['Created At'])\n",
    "count.groupby(count['Created At'].dt.month)['Total'].sum()"
   ]
  },
  {
   "cell_type": "code",
   "execution_count": 9,
   "metadata": {},
   "outputs": [
    {
     "data": {
      "text/html": [
       "<div>\n",
       "<style scoped>\n",
       "    .dataframe tbody tr th:only-of-type {\n",
       "        vertical-align: middle;\n",
       "    }\n",
       "\n",
       "    .dataframe tbody tr th {\n",
       "        vertical-align: top;\n",
       "    }\n",
       "\n",
       "    .dataframe thead th {\n",
       "        text-align: right;\n",
       "    }\n",
       "</style>\n",
       "<table border=\"1\" class=\"dataframe\">\n",
       "  <thead>\n",
       "    <tr style=\"text-align: right;\">\n",
       "      <th></th>\n",
       "      <th>Buyer</th>\n",
       "      <th>count</th>\n",
       "    </tr>\n",
       "    <tr>\n",
       "      <th>Created At</th>\n",
       "      <th></th>\n",
       "      <th></th>\n",
       "    </tr>\n",
       "  </thead>\n",
       "  <tbody>\n",
       "    <tr>\n",
       "      <th>5</th>\n",
       "      <td>8</td>\n",
       "      <td>8</td>\n",
       "    </tr>\n",
       "    <tr>\n",
       "      <th>6</th>\n",
       "      <td>6</td>\n",
       "      <td>6</td>\n",
       "    </tr>\n",
       "  </tbody>\n",
       "</table>\n",
       "</div>"
      ],
      "text/plain": [
       "            Buyer  count\n",
       "Created At              \n",
       "5               8      8\n",
       "6               6      6"
      ]
     },
     "execution_count": 9,
     "metadata": {},
     "output_type": "execute_result"
    }
   ],
   "source": [
    "repeat=count.groupby(count['Created At'].dt.month)['Buyer'].value_counts().rename('count').reset_index()\n",
    "repeat[repeat['count']>1].groupby('Created At').count()"
   ]
  },
  {
   "cell_type": "code",
   "execution_count": 16,
   "metadata": {},
   "outputs": [
    {
     "data": {
      "text/plain": [
       "Created At\n",
       "5    145\n",
       "6    117\n",
       "Name: Buyer, dtype: int64"
      ]
     },
     "execution_count": 16,
     "metadata": {},
     "output_type": "execute_result"
    }
   ],
   "source": [
    "repeat.groupby('Created At')['Buyer'].count()"
   ]
  },
  {
   "cell_type": "code",
   "execution_count": 19,
   "metadata": {},
   "outputs": [
    {
     "data": {
      "text/plain": [
       "5.128205128205128"
      ]
     },
     "execution_count": 19,
     "metadata": {},
     "output_type": "execute_result"
    }
   ],
   "source": [
    "6/117*100"
   ]
  },
  {
   "cell_type": "code",
   "execution_count": 11,
   "metadata": {},
   "outputs": [
    {
     "data": {
      "text/plain": [
       "Created At\n",
       "5    223158.19\n",
       "6    142022.38\n",
       "Name: Subtotal, dtype: float64"
      ]
     },
     "execution_count": 11,
     "metadata": {},
     "output_type": "execute_result"
    }
   ],
   "source": [
    "orders.groupby(orders['Created At'].dt.month)['Subtotal'].sum()"
   ]
  },
  {
   "cell_type": "code",
   "execution_count": 12,
   "metadata": {},
   "outputs": [
    {
     "data": {
      "text/plain": [
       "Created At  Promo Code\n",
       "5           APRIL40        4642.80\n",
       "            LEPRIX10      16443.59\n",
       "            MAY10         16692.19\n",
       "            MAY40         60287.42\n",
       "            MEMORIAL      29662.80\n",
       "            THANKYOU       1500.00\n",
       "            WELCOME       21275.79\n",
       "6           28546           828.74\n",
       "            CARSON          850.00\n",
       "            FLASH          1323.00\n",
       "            JUNE2021       1753.00\n",
       "            KICKOFF25      6006.00\n",
       "            LEPRIX10      12916.33\n",
       "            MEMORIAL       6658.00\n",
       "            THANKYOU        817.00\n",
       "            WELCOME       32874.15\n",
       "Name: Subtotal, dtype: float64"
      ]
     },
     "execution_count": 12,
     "metadata": {},
     "output_type": "execute_result"
    }
   ],
   "source": [
    "orders.groupby([orders['Created At'].dt.month, orders['Promo Code']])['Subtotal'].sum()"
   ]
  },
  {
   "cell_type": "code",
   "execution_count": 13,
   "metadata": {},
   "outputs": [
    {
     "data": {
      "text/plain": [
       "Created At  Status        \n",
       "5           COMPLETE          191\n",
       "            CANCELLED          44\n",
       "            APPROVED           26\n",
       "            REJECTED_FRAUD      7\n",
       "            REVIEWING           1\n",
       "6           COMPLETE          105\n",
       "            CANCELLED          37\n",
       "            APPROVED           14\n",
       "            REVIEWING           4\n",
       "Name: Status, dtype: int64"
      ]
     },
     "execution_count": 13,
     "metadata": {},
     "output_type": "execute_result"
    }
   ],
   "source": [
    "orders.groupby([orders['Created At'].dt.month])['Status'].value_counts()"
   ]
  },
  {
   "cell_type": "code",
   "execution_count": null,
   "metadata": {},
   "outputs": [],
   "source": []
  }
 ],
 "metadata": {
  "kernelspec": {
   "display_name": "Python 3",
   "language": "python",
   "name": "python3"
  },
  "language_info": {
   "codemirror_mode": {
    "name": "ipython",
    "version": 3
   },
   "file_extension": ".py",
   "mimetype": "text/x-python",
   "name": "python",
   "nbconvert_exporter": "python",
   "pygments_lexer": "ipython3",
   "version": "3.7.6"
  }
 },
 "nbformat": 4,
 "nbformat_minor": 4
}
