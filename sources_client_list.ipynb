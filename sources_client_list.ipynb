{
 "cells": [
  {
   "cell_type": "markdown",
   "metadata": {},
   "source": [
    "# Client List"
   ]
  },
  {
   "cell_type": "code",
   "execution_count": 1,
   "metadata": {},
   "outputs": [],
   "source": [
    "import pandas as pd\n",
    "import numpy as np\n",
    "import matplotlib.pyplot as plt\n",
    "from scipy import stats\n",
    "import statsmodels.api as sm\n",
    "import seaborn as sns"
   ]
  },
  {
   "cell_type": "code",
   "execution_count": 2,
   "metadata": {},
   "outputs": [],
   "source": [
    "buy=pd.read_excel('client_list.xlsx')\n",
    "email=pd.read_csv('buyer_emails.csv')"
   ]
  },
  {
   "cell_type": "code",
   "execution_count": 3,
   "metadata": {},
   "outputs": [
    {
     "data": {
      "text/html": [
       "<div>\n",
       "<style scoped>\n",
       "    .dataframe tbody tr th:only-of-type {\n",
       "        vertical-align: middle;\n",
       "    }\n",
       "\n",
       "    .dataframe tbody tr th {\n",
       "        vertical-align: top;\n",
       "    }\n",
       "\n",
       "    .dataframe thead th {\n",
       "        text-align: right;\n",
       "    }\n",
       "</style>\n",
       "<table border=\"1\" class=\"dataframe\">\n",
       "  <thead>\n",
       "    <tr style=\"text-align: right;\">\n",
       "      <th></th>\n",
       "      <th>user_id</th>\n",
       "      <th>username</th>\n",
       "    </tr>\n",
       "  </thead>\n",
       "  <tbody>\n",
       "    <tr>\n",
       "      <th>0</th>\n",
       "      <td>186104</td>\n",
       "      <td>sydney.s</td>\n",
       "    </tr>\n",
       "    <tr>\n",
       "      <th>1</th>\n",
       "      <td>182715</td>\n",
       "      <td>wgaca</td>\n",
       "    </tr>\n",
       "    <tr>\n",
       "      <th>2</th>\n",
       "      <td>205200</td>\n",
       "      <td>jonathanriss</td>\n",
       "    </tr>\n",
       "    <tr>\n",
       "      <th>3</th>\n",
       "      <td>2829</td>\n",
       "      <td>chic girl</td>\n",
       "    </tr>\n",
       "    <tr>\n",
       "      <th>4</th>\n",
       "      <td>188669</td>\n",
       "      <td>bag borrow steal</td>\n",
       "    </tr>\n",
       "  </tbody>\n",
       "</table>\n",
       "</div>"
      ],
      "text/plain": [
       "   user_id          username\n",
       "0   186104          sydney.s\n",
       "1   182715             wgaca\n",
       "2   205200      jonathanriss\n",
       "3     2829         chic girl\n",
       "4   188669  bag borrow steal"
      ]
     },
     "execution_count": 3,
     "metadata": {},
     "output_type": "execute_result"
    }
   ],
   "source": [
    "buy=buy[['User ID', 'Retailer Name']]\n",
    "buy=buy.rename(columns={'User ID': 'user_id', 'Retailer Name': 'username'})\n",
    "\n",
    "buy['username']=buy['username'].str.lower()\n",
    "\n",
    "buy.head()"
   ]
  },
  {
   "cell_type": "code",
   "execution_count": 4,
   "metadata": {},
   "outputs": [
    {
     "data": {
      "text/plain": [
       "(296, 2)"
      ]
     },
     "execution_count": 4,
     "metadata": {},
     "output_type": "execute_result"
    }
   ],
   "source": [
    "buy.shape"
   ]
  },
  {
   "cell_type": "code",
   "execution_count": 5,
   "metadata": {},
   "outputs": [],
   "source": [
    "email['username']=email['username'].str.lower()"
   ]
  },
  {
   "cell_type": "code",
   "execution_count": 6,
   "metadata": {},
   "outputs": [
    {
     "data": {
      "text/html": [
       "<div>\n",
       "<style scoped>\n",
       "    .dataframe tbody tr th:only-of-type {\n",
       "        vertical-align: middle;\n",
       "    }\n",
       "\n",
       "    .dataframe tbody tr th {\n",
       "        vertical-align: top;\n",
       "    }\n",
       "\n",
       "    .dataframe thead th {\n",
       "        text-align: right;\n",
       "    }\n",
       "</style>\n",
       "<table border=\"1\" class=\"dataframe\">\n",
       "  <thead>\n",
       "    <tr style=\"text-align: right;\">\n",
       "      <th></th>\n",
       "      <th>user_id</th>\n",
       "      <th>username</th>\n",
       "      <th>email</th>\n",
       "      <th>first_purchase_date</th>\n",
       "    </tr>\n",
       "  </thead>\n",
       "  <tbody>\n",
       "    <tr>\n",
       "      <th>0</th>\n",
       "      <td>186104</td>\n",
       "      <td>sydney.s</td>\n",
       "      <td>sydney.s@lxrco.com</td>\n",
       "      <td>2019-02-13</td>\n",
       "    </tr>\n",
       "    <tr>\n",
       "      <th>1</th>\n",
       "      <td>182715</td>\n",
       "      <td>wgaca</td>\n",
       "      <td>luxbuyers@wgacany.com</td>\n",
       "      <td>2019-11-11</td>\n",
       "    </tr>\n",
       "    <tr>\n",
       "      <th>2</th>\n",
       "      <td>205200</td>\n",
       "      <td>jonathanriss</td>\n",
       "      <td>jonathanriss@jayahr.com</td>\n",
       "      <td>2019-12-04</td>\n",
       "    </tr>\n",
       "    <tr>\n",
       "      <th>3</th>\n",
       "      <td>2829</td>\n",
       "      <td>chic girl</td>\n",
       "      <td>Ellen@chictochic.com</td>\n",
       "      <td>2019-03-20</td>\n",
       "    </tr>\n",
       "    <tr>\n",
       "      <th>4</th>\n",
       "      <td>188669</td>\n",
       "      <td>bag borrow steal</td>\n",
       "      <td>Sara.Holme@bagborroworsteal.com</td>\n",
       "      <td>2019-04-04</td>\n",
       "    </tr>\n",
       "  </tbody>\n",
       "</table>\n",
       "</div>"
      ],
      "text/plain": [
       "   user_id          username                            email  \\\n",
       "0   186104          sydney.s               sydney.s@lxrco.com   \n",
       "1   182715             wgaca            luxbuyers@wgacany.com   \n",
       "2   205200      jonathanriss          jonathanriss@jayahr.com   \n",
       "3     2829         chic girl             Ellen@chictochic.com   \n",
       "4   188669  bag borrow steal  Sara.Holme@bagborroworsteal.com   \n",
       "\n",
       "  first_purchase_date  \n",
       "0          2019-02-13  \n",
       "1          2019-11-11  \n",
       "2          2019-12-04  \n",
       "3          2019-03-20  \n",
       "4          2019-04-04  "
      ]
     },
     "execution_count": 6,
     "metadata": {},
     "output_type": "execute_result"
    }
   ],
   "source": [
    "new=buy.merge(email, how='left')\n",
    "\n",
    "new.head()"
   ]
  },
  {
   "cell_type": "code",
   "execution_count": 7,
   "metadata": {},
   "outputs": [
    {
     "data": {
      "text/plain": [
       "(296, 4)"
      ]
     },
     "execution_count": 7,
     "metadata": {},
     "output_type": "execute_result"
    }
   ],
   "source": [
    "new.shape"
   ]
  },
  {
   "cell_type": "code",
   "execution_count": 8,
   "metadata": {},
   "outputs": [],
   "source": [
    "new['email']=new['email'].str.lower()"
   ]
  },
  {
   "cell_type": "code",
   "execution_count": 9,
   "metadata": {},
   "outputs": [],
   "source": [
    "ws_buy=pd.read_csv('ws_buy.csv')\n",
    "new=new.merge(ws_buy[['email','medium']], left_on='email', right_on='email', how='left')"
   ]
  },
  {
   "cell_type": "code",
   "execution_count": 10,
   "metadata": {},
   "outputs": [
    {
     "data": {
      "text/plain": [
       "(298, 5)"
      ]
     },
     "execution_count": 10,
     "metadata": {},
     "output_type": "execute_result"
    }
   ],
   "source": [
    "new.shape"
   ]
  },
  {
   "cell_type": "code",
   "execution_count": 12,
   "metadata": {},
   "outputs": [
    {
     "data": {
      "text/plain": [
       "(293, 5)"
      ]
     },
     "execution_count": 12,
     "metadata": {},
     "output_type": "execute_result"
    }
   ],
   "source": [
    "leprix=list(email[email['email'].str.contains('leprix.com')]['username'])\n",
    "leprix.append(['rtn+loveluxe', 'loveluxeboutique', 'vivasnobswap', 'mustloveshoes', 'soohee'])\n",
    "\n",
    "new=new.drop(list(new.loc[new['username'].isin(leprix)].index))\n",
    "new.shape"
   ]
  },
  {
   "cell_type": "code",
   "execution_count": 13,
   "metadata": {},
   "outputs": [
    {
     "data": {
      "text/html": [
       "<div>\n",
       "<style scoped>\n",
       "    .dataframe tbody tr th:only-of-type {\n",
       "        vertical-align: middle;\n",
       "    }\n",
       "\n",
       "    .dataframe tbody tr th {\n",
       "        vertical-align: top;\n",
       "    }\n",
       "\n",
       "    .dataframe thead th {\n",
       "        text-align: right;\n",
       "    }\n",
       "</style>\n",
       "<table border=\"1\" class=\"dataframe\">\n",
       "  <thead>\n",
       "    <tr style=\"text-align: right;\">\n",
       "      <th></th>\n",
       "      <th>user_id</th>\n",
       "      <th>username</th>\n",
       "      <th>email</th>\n",
       "      <th>first_purchase_date</th>\n",
       "      <th>medium</th>\n",
       "    </tr>\n",
       "  </thead>\n",
       "  <tbody>\n",
       "    <tr>\n",
       "      <th>0</th>\n",
       "      <td>186104</td>\n",
       "      <td>sydney.s</td>\n",
       "      <td>sydney.s@lxrco.com</td>\n",
       "      <td>2019-02-13</td>\n",
       "      <td>NaN</td>\n",
       "    </tr>\n",
       "    <tr>\n",
       "      <th>1</th>\n",
       "      <td>182715</td>\n",
       "      <td>wgaca</td>\n",
       "      <td>luxbuyers@wgacany.com</td>\n",
       "      <td>2019-11-11</td>\n",
       "      <td>NaN</td>\n",
       "    </tr>\n",
       "    <tr>\n",
       "      <th>2</th>\n",
       "      <td>205200</td>\n",
       "      <td>jonathanriss</td>\n",
       "      <td>jonathanriss@jayahr.com</td>\n",
       "      <td>2019-12-04</td>\n",
       "      <td>NaN</td>\n",
       "    </tr>\n",
       "    <tr>\n",
       "      <th>3</th>\n",
       "      <td>2829</td>\n",
       "      <td>chic girl</td>\n",
       "      <td>ellen@chictochic.com</td>\n",
       "      <td>2019-03-20</td>\n",
       "      <td>NaN</td>\n",
       "    </tr>\n",
       "    <tr>\n",
       "      <th>4</th>\n",
       "      <td>188669</td>\n",
       "      <td>bag borrow steal</td>\n",
       "      <td>sara.holme@bagborroworsteal.com</td>\n",
       "      <td>2019-04-04</td>\n",
       "      <td>NaN</td>\n",
       "    </tr>\n",
       "    <tr>\n",
       "      <th>...</th>\n",
       "      <td>...</td>\n",
       "      <td>...</td>\n",
       "      <td>...</td>\n",
       "      <td>...</td>\n",
       "      <td>...</td>\n",
       "    </tr>\n",
       "    <tr>\n",
       "      <th>293</th>\n",
       "      <td>202428</td>\n",
       "      <td>taamtrading</td>\n",
       "      <td>hai@taamtrading.com</td>\n",
       "      <td>2019-08-04</td>\n",
       "      <td>NaN</td>\n",
       "    </tr>\n",
       "    <tr>\n",
       "      <th>294</th>\n",
       "      <td>202353</td>\n",
       "      <td>phenom01</td>\n",
       "      <td>phenom01@msn.com</td>\n",
       "      <td>2019-07-24</td>\n",
       "      <td>NaN</td>\n",
       "    </tr>\n",
       "    <tr>\n",
       "      <th>295</th>\n",
       "      <td>146587</td>\n",
       "      <td>ohlaladesignerresale</td>\n",
       "      <td>kbryant1042@gmail.com</td>\n",
       "      <td>2019-07-18</td>\n",
       "      <td>NaN</td>\n",
       "    </tr>\n",
       "    <tr>\n",
       "      <th>296</th>\n",
       "      <td>202157</td>\n",
       "      <td>backontheracknj</td>\n",
       "      <td>mcalarychris@aol.com</td>\n",
       "      <td>2019-07-13</td>\n",
       "      <td>NaN</td>\n",
       "    </tr>\n",
       "    <tr>\n",
       "      <th>297</th>\n",
       "      <td>201448</td>\n",
       "      <td>2ndchanceresaleoh</td>\n",
       "      <td>hollylaz@yahoo.com</td>\n",
       "      <td>2019-07-10</td>\n",
       "      <td>NaN</td>\n",
       "    </tr>\n",
       "  </tbody>\n",
       "</table>\n",
       "<p>261 rows × 5 columns</p>\n",
       "</div>"
      ],
      "text/plain": [
       "     user_id              username                            email  \\\n",
       "0     186104              sydney.s               sydney.s@lxrco.com   \n",
       "1     182715                 wgaca            luxbuyers@wgacany.com   \n",
       "2     205200          jonathanriss          jonathanriss@jayahr.com   \n",
       "3       2829             chic girl             ellen@chictochic.com   \n",
       "4     188669      bag borrow steal  sara.holme@bagborroworsteal.com   \n",
       "..       ...                   ...                              ...   \n",
       "293   202428           taamtrading              hai@taamtrading.com   \n",
       "294   202353              phenom01                 phenom01@msn.com   \n",
       "295   146587  ohlaladesignerresale            kbryant1042@gmail.com   \n",
       "296   202157       backontheracknj             mcalarychris@aol.com   \n",
       "297   201448     2ndchanceresaleoh               hollylaz@yahoo.com   \n",
       "\n",
       "    first_purchase_date medium  \n",
       "0            2019-02-13    NaN  \n",
       "1            2019-11-11    NaN  \n",
       "2            2019-12-04    NaN  \n",
       "3            2019-03-20    NaN  \n",
       "4            2019-04-04    NaN  \n",
       "..                  ...    ...  \n",
       "293          2019-08-04    NaN  \n",
       "294          2019-07-24    NaN  \n",
       "295          2019-07-18    NaN  \n",
       "296          2019-07-13    NaN  \n",
       "297          2019-07-10    NaN  \n",
       "\n",
       "[261 rows x 5 columns]"
      ]
     },
     "execution_count": 13,
     "metadata": {},
     "output_type": "execute_result"
    }
   ],
   "source": [
    "new[new['medium'].isnull()]"
   ]
  },
  {
   "cell_type": "code",
   "execution_count": 16,
   "metadata": {},
   "outputs": [],
   "source": [
    "bout=pd.read_csv('snobswapboutiques.csv')"
   ]
  },
  {
   "cell_type": "code",
   "execution_count": 21,
   "metadata": {},
   "outputs": [
    {
     "data": {
      "text/plain": [
       "(265, 5)"
      ]
     },
     "execution_count": 21,
     "metadata": {},
     "output_type": "execute_result"
    }
   ],
   "source": [
    "bout['Username']=bout['Username'].str.lower()\n",
    "\n",
    "bout_list=list(bout['Username'])\n",
    "\n",
    "\n",
    "new=new.drop(list(new.loc[new['username'].isin(bout_list)].index))\n",
    "new.shape"
   ]
  },
  {
   "cell_type": "code",
   "execution_count": 23,
   "metadata": {},
   "outputs": [
    {
     "data": {
      "text/plain": [
       "['gemma by wp diamonds',\n",
       " 'chic consignment ma',\n",
       " 'walkerviden',\n",
       " 'thebrandcollector',\n",
       " 'imissyouvintage',\n",
       " 'tara tucci',\n",
       " 'queen bee of beverly hills',\n",
       " 'fin and mo',\n",
       " 'luxuria & co.',\n",
       " 'prive porter',\n",
       " 'decades inc',\n",
       " 'zelda zonk consignment',\n",
       " 'turnabout',\n",
       " 'shopteoc',\n",
       " 'designervault',\n",
       " 're-vogue',\n",
       " \"wilder's house\",\n",
       " 'the lady bag',\n",
       " 'curatedstyles_cafe',\n",
       " 'maison boutik',\n",
       " 'comenuovobg',\n",
       " 'quick consignment',\n",
       " 'luxuryhorology',\n",
       " 'hottercooler',\n",
       " 'theluxurycloset',\n",
       " 'back by popular demand',\n",
       " 'authentique-luxe',\n",
       " 'luxojewelry',\n",
       " 'michael moses vault',\n",
       " 'tjbswap',\n",
       " 'shopthelx ',\n",
       " 'entrenous',\n",
       " 'elady',\n",
       " 'dallasdesignerhandbags',\n",
       " 'my closet rocks',\n",
       " 'grace & ted',\n",
       " 'malvaddiction',\n",
       " 'giftofgarb',\n",
       " 'rebag',\n",
       " 'modoboutique',\n",
       " 'behind the clothed door',\n",
       " 'designer consigners',\n",
       " 'exquisite finds',\n",
       " 'celebrity closets // vip fashion vault',\n",
       " 'luxeswap',\n",
       " 'luxetouchconsignment',\n",
       " 'luxe.it.fwd',\n",
       " 'kiki d. design & consign',\n",
       " 'curatedconsignment',\n",
       " 'anniesuniqueaccessories',\n",
       " 'couture for all',\n",
       " 'maruconsign',\n",
       " 'encore luxury resale',\n",
       " 'thediamondhanger',\n",
       " 'mrpawn',\n",
       " 'samples and sales',\n",
       " 'carredeparis',\n",
       " 'jemznjewels',\n",
       " 'fashionreloved',\n",
       " 'luxepurses',\n",
       " 'past&presentboutique',\n",
       " 'closetvogue',\n",
       " 'refrock',\n",
       " 'lexlyngroup boutique',\n",
       " 'spadecreations',\n",
       " 'luxury247',\n",
       " 'bagriculture',\n",
       " 'monalisa_creations',\n",
       " 'sweet deals',\n",
       " 'marquesupply',\n",
       " 'mightychic',\n",
       " 'jewelryislandjp2015',\n",
       " 'brand-jp',\n",
       " 'couture usa',\n",
       " 'gold and beyond',\n",
       " 'eexquisitejewelry',\n",
       " '31jewelsinc',\n",
       " 'leef\\xa0luxury',\n",
       " 'luxurylabels',\n",
       " 'real deal collection',\n",
       " 'paris diva',\n",
       " 'brocantedeluxe',\n",
       " 'luxedh',\n",
       " 'onlyauthentics',\n",
       " 'handbags divine',\n",
       " 'luxurytrading',\n",
       " 'lilla designer consignment',\n",
       " 'ascresale',\n",
       " 'therealsnobshop',\n",
       " 'tribecafashionhouse',\n",
       " 'designer swap',\n",
       " 'herbag',\n",
       " 'fmasarovic',\n",
       " 'dcnatickconsignment',\n",
       " 'wish newport',\n",
       " 'curatedluxe',\n",
       " 'luxcellent',\n",
       " 'handpicked boutique',\n",
       " 'classic collections palm beach',\n",
       " 'gem de la gem',\n",
       " 'chicagoconsignment',\n",
       " 'reebonz boutique',\n",
       " 'coco et louis',\n",
       " 'true fashionistas resale',\n",
       " 'evesherfashion',\n",
       " 'mineandyours',\n",
       " 'catwalkvintage',\n",
       " 'fifislkn',\n",
       " 'designerconsigner',\n",
       " 'a list sample sale',\n",
       " 'queen of luxury boutique',\n",
       " 'the style sanctum',\n",
       " 'phenixnyc',\n",
       " 'strictlypursonal',\n",
       " 'e designer',\n",
       " 'anauthentic',\n",
       " 'designer resale boutique',\n",
       " 'poshbagboutique',\n",
       " 'authentic designer stuff',\n",
       " 'eyewear gallery',\n",
       " 'happy 3 consignment',\n",
       " 'goclementine',\n",
       " 'undergroundrunway',\n",
       " 'cashinmybag',\n",
       " 'fashion_bazaar',\n",
       " 'echo boutique',\n",
       " 'the exquisite artichoke',\n",
       " 'bella tutto jewelry',\n",
       " 'i pick shoes much better than i pick men',\n",
       " 'fashion addict',\n",
       " 'dallas designer handbags tx',\n",
       " 'jetsetterglobal',\n",
       " 'raymondleejewelers',\n",
       " 'botenza boutique',\n",
       " 'designer revival',\n",
       " 'omi_jewelry',\n",
       " 'therecycledcloset',\n",
       " 'backinstyle',\n",
       " 'stepanistyle',\n",
       " 'crave luxury consignment',\n",
       " 'sellyourhandbag',\n",
       " 'poplin',\n",
       " 'luxurygaragesale',\n",
       " 'loveluxeboutique',\n",
       " 'clotheshorse anonymous tx',\n",
       " 'revolve belmont center',\n",
       " 'thrill of the find',\n",
       " 'thedivinerightoffashion',\n",
       " 'onesavvydesign',\n",
       " 'a daily diva',\n",
       " \"n'used fashions\",\n",
       " 'theupside',\n",
       " 'consignit couture',\n",
       " 'brpluxury',\n",
       " 'haute marché',\n",
       " 'perpetua luxury',\n",
       " 'boutiquepatina',\n",
       " 'tmcloset',\n",
       " 'prince & park',\n",
       " 'bellissima consignment boutique',\n",
       " 'bis designer resale',\n",
       " 'upscalealley',\n",
       " 'luxury resale',\n",
       " \"jody's closet\",\n",
       " 'designerexchange',\n",
       " 'boutiqueon57',\n",
       " 'consigneddesigns',\n",
       " 'to be continued...',\n",
       " 'cynthiasconsignments',\n",
       " 'luxuryresalenetwork',\n",
       " 'doubletakenj',\n",
       " 'ohmydarling',\n",
       " 'eraluxe',\n",
       " 'michaelsonline',\n",
       " 'graceysrecreations',\n",
       " 'lux addicts',\n",
       " 'snobshack',\n",
       " 'theconsignmentbar',\n",
       " 'revivalupscale',\n",
       " 'taupeco',\n",
       " 'salvedge boutique',\n",
       " 'clevelandconsignment',\n",
       " 'ladybaginternational',\n",
       " 'onquestyle',\n",
       " 'allforfunds',\n",
       " 'encorecloset',\n",
       " 'sgconsignment',\n",
       " 'ellarue',\n",
       " 'chictochic']"
      ]
     },
     "execution_count": 23,
     "metadata": {},
     "output_type": "execute_result"
    }
   ],
   "source": [
    "bout_list"
   ]
  },
  {
   "cell_type": "code",
   "execution_count": 22,
   "metadata": {},
   "outputs": [],
   "source": [
    "# new.to_excel('source_clients.xlsx')"
   ]
  },
  {
   "cell_type": "code",
   "execution_count": null,
   "metadata": {},
   "outputs": [],
   "source": []
  }
 ],
 "metadata": {
  "kernelspec": {
   "display_name": "Python 3",
   "language": "python",
   "name": "python3"
  },
  "language_info": {
   "codemirror_mode": {
    "name": "ipython",
    "version": 3
   },
   "file_extension": ".py",
   "mimetype": "text/x-python",
   "name": "python",
   "nbconvert_exporter": "python",
   "pygments_lexer": "ipython3",
   "version": "3.7.6"
  }
 },
 "nbformat": 4,
 "nbformat_minor": 4
}
