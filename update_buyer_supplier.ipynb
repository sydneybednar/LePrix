{
 "cells": [
  {
   "cell_type": "markdown",
   "metadata": {},
   "source": [
    "# Update Buyer Seller List"
   ]
  },
  {
   "cell_type": "code",
   "execution_count": 1,
   "metadata": {},
   "outputs": [],
   "source": [
    "import pandas as pd\n",
    "import numpy as np\n",
    "import matplotlib.pyplot as plt\n",
    "from scipy import stats\n",
    "import statsmodels.api as sm\n",
    "import seaborn as sns\n",
    "import datetime"
   ]
  },
  {
   "cell_type": "code",
   "execution_count": 2,
   "metadata": {},
   "outputs": [],
   "source": [
    "buyers=pd.read_csv('retailer_buyer_list.csv')"
   ]
  },
  {
   "cell_type": "code",
   "execution_count": 3,
   "metadata": {},
   "outputs": [],
   "source": [
    "bid_ytd=pd.read_csv('bid_ytd.csv')\n",
    "stock_ytd=pd.read_csv('stock_ytd.csv')"
   ]
  },
  {
   "cell_type": "code",
   "execution_count": 4,
   "metadata": {},
   "outputs": [],
   "source": [
    "stock_ytd['submitted_on']=pd.to_datetime(stock_ytd['submitted_on'])\n",
    "stock_ytd['buyer']=stock_ytd['buyer'].str.lower()"
   ]
  },
  {
   "cell_type": "code",
   "execution_count": 5,
   "metadata": {},
   "outputs": [],
   "source": [
    "start=datetime.datetime(2021,4,1)"
   ]
  },
  {
   "cell_type": "code",
   "execution_count": 6,
   "metadata": {},
   "outputs": [],
   "source": [
    "apr_may_stock=stock_ytd[(stock_ytd['submitted_on']>=start)]\n",
    "may_june_stock=stock_ytd[stock_ytd['submitted_on'].isnull()]"
   ]
  },
  {
   "cell_type": "code",
   "execution_count": 7,
   "metadata": {},
   "outputs": [],
   "source": [
    "up_stock=apr_may_stock.merge(may_june_stock, how='outer').reset_index(drop=True)"
   ]
  },
  {
   "cell_type": "code",
   "execution_count": 8,
   "metadata": {},
   "outputs": [],
   "source": [
    "bid_ytd['bid_placed_on']=pd.to_datetime(bid_ytd['bid_placed_on'])\n",
    "\n",
    "up_bid=bid_ytd[bid_ytd['bid_placed_on']>=start].reset_index(drop=True)\n",
    "up_bid['buyer']=up_bid['buyer'].str.lower()"
   ]
  },
  {
   "cell_type": "code",
   "execution_count": 9,
   "metadata": {},
   "outputs": [
    {
     "data": {
      "text/plain": [
       "(1327, 13)"
      ]
     },
     "execution_count": 9,
     "metadata": {},
     "output_type": "execute_result"
    }
   ],
   "source": [
    "may_june_stock.shape"
   ]
  },
  {
   "cell_type": "code",
   "execution_count": 10,
   "metadata": {},
   "outputs": [
    {
     "data": {
      "text/plain": [
       "(24813, 18)"
      ]
     },
     "execution_count": 10,
     "metadata": {},
     "output_type": "execute_result"
    }
   ],
   "source": [
    "up_bid.shape"
   ]
  },
  {
   "cell_type": "markdown",
   "metadata": {},
   "source": [
    "## Auctions"
   ]
  },
  {
   "cell_type": "code",
   "execution_count": 11,
   "metadata": {},
   "outputs": [],
   "source": [
    "end=datetime.datetime(2021,5,1)"
   ]
  },
  {
   "cell_type": "code",
   "execution_count": 12,
   "metadata": {},
   "outputs": [
    {
     "data": {
      "text/html": [
       "<div>\n",
       "<style scoped>\n",
       "    .dataframe tbody tr th:only-of-type {\n",
       "        vertical-align: middle;\n",
       "    }\n",
       "\n",
       "    .dataframe tbody tr th {\n",
       "        vertical-align: top;\n",
       "    }\n",
       "\n",
       "    .dataframe thead th {\n",
       "        text-align: right;\n",
       "    }\n",
       "</style>\n",
       "<table border=\"1\" class=\"dataframe\">\n",
       "  <thead>\n",
       "    <tr style=\"text-align: right;\">\n",
       "      <th></th>\n",
       "      <th>buyer</th>\n",
       "      <th>auction_gmv</th>\n",
       "    </tr>\n",
       "  </thead>\n",
       "  <tbody>\n",
       "    <tr>\n",
       "      <th>0</th>\n",
       "      <td>rue gilt</td>\n",
       "      <td>608464.0</td>\n",
       "    </tr>\n",
       "    <tr>\n",
       "      <th>1</th>\n",
       "      <td>harley 2019</td>\n",
       "      <td>201513.0</td>\n",
       "    </tr>\n",
       "    <tr>\n",
       "      <th>2</th>\n",
       "      <td>bagriculture</td>\n",
       "      <td>132739.0</td>\n",
       "    </tr>\n",
       "    <tr>\n",
       "      <th>3</th>\n",
       "      <td>season 2 consign</td>\n",
       "      <td>27858.0</td>\n",
       "    </tr>\n",
       "    <tr>\n",
       "      <th>4</th>\n",
       "      <td>bag borrow steal</td>\n",
       "      <td>23600.0</td>\n",
       "    </tr>\n",
       "  </tbody>\n",
       "</table>\n",
       "</div>"
      ],
      "text/plain": [
       "              buyer  auction_gmv\n",
       "0          rue gilt     608464.0\n",
       "1       harley 2019     201513.0\n",
       "2      bagriculture     132739.0\n",
       "3  season 2 consign      27858.0\n",
       "4  bag borrow steal      23600.0"
      ]
     },
     "execution_count": 12,
     "metadata": {},
     "output_type": "execute_result"
    }
   ],
   "source": [
    "up_win=up_bid[up_bid['bid']>=up_bid['winning_price']]\n",
    "auc_win=(up_win[up_win['bid_placed_on']<end].groupby(['buyer'])['winning_price']\n",
    "         .sum()\n",
    "         .rename('auction_gmv')\n",
    "         .sort_values(ascending=False)\n",
    "         .reset_index())\n",
    "\n",
    "auc_win.sort_values(by='auction_gmv',ascending=False).head()"
   ]
  },
  {
   "cell_type": "code",
   "execution_count": 13,
   "metadata": {},
   "outputs": [
    {
     "data": {
      "text/plain": [
       "1148637.0"
      ]
     },
     "execution_count": 13,
     "metadata": {},
     "output_type": "execute_result"
    }
   ],
   "source": [
    "up_win[up_win['bid_placed_on']<end]['winning_price'].sum()"
   ]
  },
  {
   "cell_type": "code",
   "execution_count": 14,
   "metadata": {},
   "outputs": [
    {
     "data": {
      "text/plain": [
       "1148637.0"
      ]
     },
     "execution_count": 14,
     "metadata": {},
     "output_type": "execute_result"
    }
   ],
   "source": [
    "auc_win['auction_gmv'].sum()"
   ]
  },
  {
   "cell_type": "markdown",
   "metadata": {},
   "source": [
    "## Stock"
   ]
  },
  {
   "cell_type": "code",
   "execution_count": 15,
   "metadata": {},
   "outputs": [],
   "source": [
    "# new=up_stock[(up_stock['submitted_on']>=end)].merge(up_stock[(up_stock['submitted_on'].isnull())], how='outer')"
   ]
  },
  {
   "cell_type": "code",
   "execution_count": 16,
   "metadata": {},
   "outputs": [
    {
     "data": {
      "text/html": [
       "<div>\n",
       "<style scoped>\n",
       "    .dataframe tbody tr th:only-of-type {\n",
       "        vertical-align: middle;\n",
       "    }\n",
       "\n",
       "    .dataframe tbody tr th {\n",
       "        vertical-align: top;\n",
       "    }\n",
       "\n",
       "    .dataframe thead th {\n",
       "        text-align: right;\n",
       "    }\n",
       "</style>\n",
       "<table border=\"1\" class=\"dataframe\">\n",
       "  <thead>\n",
       "    <tr style=\"text-align: right;\">\n",
       "      <th></th>\n",
       "      <th>buyer</th>\n",
       "      <th>stock_gmv</th>\n",
       "    </tr>\n",
       "  </thead>\n",
       "  <tbody>\n",
       "    <tr>\n",
       "      <th>0</th>\n",
       "      <td>everything but the house</td>\n",
       "      <td>248655.0</td>\n",
       "    </tr>\n",
       "    <tr>\n",
       "      <th>1</th>\n",
       "      <td>the realreal</td>\n",
       "      <td>154131.0</td>\n",
       "    </tr>\n",
       "    <tr>\n",
       "      <th>2</th>\n",
       "      <td>rue gilt</td>\n",
       "      <td>142874.0</td>\n",
       "    </tr>\n",
       "    <tr>\n",
       "      <th>3</th>\n",
       "      <td>season 2 consign</td>\n",
       "      <td>107756.0</td>\n",
       "    </tr>\n",
       "    <tr>\n",
       "      <th>4</th>\n",
       "      <td>the luxury bee</td>\n",
       "      <td>70652.0</td>\n",
       "    </tr>\n",
       "  </tbody>\n",
       "</table>\n",
       "</div>"
      ],
      "text/plain": [
       "                      buyer  stock_gmv\n",
       "0  everything but the house   248655.0\n",
       "1              the realreal   154131.0\n",
       "2                  rue gilt   142874.0\n",
       "3          season 2 consign   107756.0\n",
       "4            the luxury bee    70652.0"
      ]
     },
     "execution_count": 16,
     "metadata": {},
     "output_type": "execute_result"
    }
   ],
   "source": [
    "grp_stock=(up_stock[(up_stock['submitted_on']<end)].groupby(['buyer'])['price']\n",
    "         .sum()\n",
    "         .rename('stock_gmv')\n",
    "         .sort_values(ascending=False)\n",
    "         .reset_index())\n",
    "grp_stock.sort_values(by='stock_gmv',ascending=False).head()"
   ]
  },
  {
   "cell_type": "code",
   "execution_count": 17,
   "metadata": {},
   "outputs": [
    {
     "data": {
      "text/plain": [
       "1231542.0"
      ]
     },
     "execution_count": 17,
     "metadata": {},
     "output_type": "execute_result"
    }
   ],
   "source": [
    "up_stock[(up_stock['submitted_on']<end)]['price'].sum()"
   ]
  },
  {
   "cell_type": "code",
   "execution_count": 18,
   "metadata": {},
   "outputs": [
    {
     "data": {
      "text/plain": [
       "1231542.0"
      ]
     },
     "execution_count": 18,
     "metadata": {},
     "output_type": "execute_result"
    }
   ],
   "source": [
    "grp_stock['stock_gmv'].sum()"
   ]
  },
  {
   "cell_type": "markdown",
   "metadata": {},
   "source": [
    "## Combine"
   ]
  },
  {
   "cell_type": "code",
   "execution_count": 19,
   "metadata": {},
   "outputs": [
    {
     "data": {
      "text/html": [
       "<div>\n",
       "<style scoped>\n",
       "    .dataframe tbody tr th:only-of-type {\n",
       "        vertical-align: middle;\n",
       "    }\n",
       "\n",
       "    .dataframe tbody tr th {\n",
       "        vertical-align: top;\n",
       "    }\n",
       "\n",
       "    .dataframe thead th {\n",
       "        text-align: right;\n",
       "    }\n",
       "</style>\n",
       "<table border=\"1\" class=\"dataframe\">\n",
       "  <thead>\n",
       "    <tr style=\"text-align: right;\">\n",
       "      <th></th>\n",
       "      <th>buyer</th>\n",
       "      <th>stock_gmv</th>\n",
       "      <th>auction_gmv</th>\n",
       "      <th>total_gmv</th>\n",
       "    </tr>\n",
       "  </thead>\n",
       "  <tbody>\n",
       "    <tr>\n",
       "      <th>0</th>\n",
       "      <td>everything but the house</td>\n",
       "      <td>248655.0</td>\n",
       "      <td>0.0</td>\n",
       "      <td>248655.0</td>\n",
       "    </tr>\n",
       "    <tr>\n",
       "      <th>1</th>\n",
       "      <td>the realreal</td>\n",
       "      <td>154131.0</td>\n",
       "      <td>0.0</td>\n",
       "      <td>154131.0</td>\n",
       "    </tr>\n",
       "    <tr>\n",
       "      <th>2</th>\n",
       "      <td>rue gilt</td>\n",
       "      <td>142874.0</td>\n",
       "      <td>608464.0</td>\n",
       "      <td>751338.0</td>\n",
       "    </tr>\n",
       "    <tr>\n",
       "      <th>3</th>\n",
       "      <td>season 2 consign</td>\n",
       "      <td>107756.0</td>\n",
       "      <td>27858.0</td>\n",
       "      <td>135614.0</td>\n",
       "    </tr>\n",
       "    <tr>\n",
       "      <th>4</th>\n",
       "      <td>the luxury bee</td>\n",
       "      <td>70652.0</td>\n",
       "      <td>0.0</td>\n",
       "      <td>70652.0</td>\n",
       "    </tr>\n",
       "  </tbody>\n",
       "</table>\n",
       "</div>"
      ],
      "text/plain": [
       "                      buyer  stock_gmv  auction_gmv  total_gmv\n",
       "0  everything but the house   248655.0          0.0   248655.0\n",
       "1              the realreal   154131.0          0.0   154131.0\n",
       "2                  rue gilt   142874.0     608464.0   751338.0\n",
       "3          season 2 consign   107756.0      27858.0   135614.0\n",
       "4            the luxury bee    70652.0          0.0    70652.0"
      ]
     },
     "execution_count": 19,
     "metadata": {},
     "output_type": "execute_result"
    }
   ],
   "source": [
    "q1_gmv=grp_stock.merge(auc_win, how='outer')\n",
    "\n",
    "q1_gmv=q1_gmv.fillna(0)\n",
    "\n",
    "q1_gmv['total_gmv']=q1_gmv['auction_gmv']+q1_gmv['stock_gmv']\n",
    "\n",
    "q1_gmv.head()"
   ]
  },
  {
   "cell_type": "code",
   "execution_count": 20,
   "metadata": {},
   "outputs": [
    {
     "data": {
      "text/html": [
       "<div>\n",
       "<style scoped>\n",
       "    .dataframe tbody tr th:only-of-type {\n",
       "        vertical-align: middle;\n",
       "    }\n",
       "\n",
       "    .dataframe tbody tr th {\n",
       "        vertical-align: top;\n",
       "    }\n",
       "\n",
       "    .dataframe thead th {\n",
       "        text-align: right;\n",
       "    }\n",
       "</style>\n",
       "<table border=\"1\" class=\"dataframe\">\n",
       "  <thead>\n",
       "    <tr style=\"text-align: right;\">\n",
       "      <th></th>\n",
       "      <th>user_id</th>\n",
       "      <th>Status</th>\n",
       "      <th>buyer</th>\n",
       "    </tr>\n",
       "  </thead>\n",
       "  <tbody>\n",
       "    <tr>\n",
       "      <th>0</th>\n",
       "      <td>186104</td>\n",
       "      <td>Active</td>\n",
       "      <td>sydney.s</td>\n",
       "    </tr>\n",
       "    <tr>\n",
       "      <th>1</th>\n",
       "      <td>182715</td>\n",
       "      <td>Active</td>\n",
       "      <td>wgaca</td>\n",
       "    </tr>\n",
       "    <tr>\n",
       "      <th>2</th>\n",
       "      <td>205200</td>\n",
       "      <td>Active</td>\n",
       "      <td>jonathanriss</td>\n",
       "    </tr>\n",
       "    <tr>\n",
       "      <th>3</th>\n",
       "      <td>2829</td>\n",
       "      <td>Active</td>\n",
       "      <td>chic girl</td>\n",
       "    </tr>\n",
       "    <tr>\n",
       "      <th>4</th>\n",
       "      <td>188669</td>\n",
       "      <td>Active</td>\n",
       "      <td>bag borrow steal</td>\n",
       "    </tr>\n",
       "  </tbody>\n",
       "</table>\n",
       "</div>"
      ],
      "text/plain": [
       "   user_id  Status             buyer\n",
       "0   186104  Active          sydney.s\n",
       "1   182715  Active             wgaca\n",
       "2   205200  Active      jonathanriss\n",
       "3     2829  Active         chic girl\n",
       "4   188669  Active  bag borrow steal"
      ]
     },
     "execution_count": 20,
     "metadata": {},
     "output_type": "execute_result"
    }
   ],
   "source": [
    "all_buy=(buyers[['User ID', 'Status','Retailer Name']]\n",
    "         .rename(columns={'User ID': 'user_id', 'Retailer Name': 'buyer'}))\n",
    "all_buy['buyer']=all_buy['buyer'].str.lower()\n",
    "\n",
    "all_buy.head()"
   ]
  },
  {
   "cell_type": "code",
   "execution_count": 21,
   "metadata": {},
   "outputs": [
    {
     "data": {
      "text/html": [
       "<div>\n",
       "<style scoped>\n",
       "    .dataframe tbody tr th:only-of-type {\n",
       "        vertical-align: middle;\n",
       "    }\n",
       "\n",
       "    .dataframe tbody tr th {\n",
       "        vertical-align: top;\n",
       "    }\n",
       "\n",
       "    .dataframe thead th {\n",
       "        text-align: right;\n",
       "    }\n",
       "</style>\n",
       "<table border=\"1\" class=\"dataframe\">\n",
       "  <thead>\n",
       "    <tr style=\"text-align: right;\">\n",
       "      <th></th>\n",
       "      <th>user_id</th>\n",
       "      <th>Status</th>\n",
       "      <th>buyer</th>\n",
       "      <th>stock_gmv</th>\n",
       "      <th>auction_gmv</th>\n",
       "      <th>total_gmv</th>\n",
       "    </tr>\n",
       "  </thead>\n",
       "  <tbody>\n",
       "    <tr>\n",
       "      <th>0</th>\n",
       "      <td>186104.0</td>\n",
       "      <td>Active</td>\n",
       "      <td>sydney.s</td>\n",
       "      <td>4040.0</td>\n",
       "      <td>1426.0</td>\n",
       "      <td>5466.0</td>\n",
       "    </tr>\n",
       "    <tr>\n",
       "      <th>1</th>\n",
       "      <td>182715.0</td>\n",
       "      <td>Active</td>\n",
       "      <td>wgaca</td>\n",
       "      <td>0.0</td>\n",
       "      <td>720.0</td>\n",
       "      <td>720.0</td>\n",
       "    </tr>\n",
       "    <tr>\n",
       "      <th>2</th>\n",
       "      <td>205200.0</td>\n",
       "      <td>Inactive</td>\n",
       "      <td>jonathanriss</td>\n",
       "      <td>NaN</td>\n",
       "      <td>NaN</td>\n",
       "      <td>NaN</td>\n",
       "    </tr>\n",
       "    <tr>\n",
       "      <th>3</th>\n",
       "      <td>2829.0</td>\n",
       "      <td>Active</td>\n",
       "      <td>chic girl</td>\n",
       "      <td>8950.0</td>\n",
       "      <td>1473.0</td>\n",
       "      <td>10423.0</td>\n",
       "    </tr>\n",
       "    <tr>\n",
       "      <th>4</th>\n",
       "      <td>188669.0</td>\n",
       "      <td>Active</td>\n",
       "      <td>bag borrow steal</td>\n",
       "      <td>29477.0</td>\n",
       "      <td>23600.0</td>\n",
       "      <td>53077.0</td>\n",
       "    </tr>\n",
       "  </tbody>\n",
       "</table>\n",
       "</div>"
      ],
      "text/plain": [
       "    user_id    Status             buyer  stock_gmv  auction_gmv  total_gmv\n",
       "0  186104.0    Active          sydney.s     4040.0       1426.0     5466.0\n",
       "1  182715.0    Active             wgaca        0.0        720.0      720.0\n",
       "2  205200.0  Inactive      jonathanriss        NaN          NaN        NaN\n",
       "3    2829.0    Active         chic girl     8950.0       1473.0    10423.0\n",
       "4  188669.0    Active  bag borrow steal    29477.0      23600.0    53077.0"
      ]
     },
     "execution_count": 21,
     "metadata": {},
     "output_type": "execute_result"
    }
   ],
   "source": [
    "update=all_buy.merge(q1_gmv, how='outer')\n",
    "update.loc[:,'Status']='Active'\n",
    "\n",
    "update.loc[update['total_gmv'].isnull(), 'Status']='Inactive'\n",
    "\n",
    "update.head()"
   ]
  },
  {
   "cell_type": "code",
   "execution_count": 22,
   "metadata": {},
   "outputs": [
    {
     "data": {
      "text/plain": [
       "2380179.0"
      ]
     },
     "execution_count": 22,
     "metadata": {},
     "output_type": "execute_result"
    }
   ],
   "source": [
    "update['total_gmv'].sum()"
   ]
  },
  {
   "cell_type": "code",
   "execution_count": 23,
   "metadata": {},
   "outputs": [],
   "source": [
    "update=update.fillna(0)"
   ]
  },
  {
   "cell_type": "code",
   "execution_count": 24,
   "metadata": {},
   "outputs": [],
   "source": [
    "# update.to_excel('updated_gmv_april.xlsx')"
   ]
  },
  {
   "cell_type": "markdown",
   "metadata": {},
   "source": [
    "## Status Update"
   ]
  },
  {
   "cell_type": "code",
   "execution_count": 37,
   "metadata": {},
   "outputs": [],
   "source": [
    "bs=pd.read_csv('bs.csv')"
   ]
  },
  {
   "cell_type": "code",
   "execution_count": 38,
   "metadata": {},
   "outputs": [],
   "source": [
    "bs['Status']='Active'\n",
    "bs.loc[(bs['April']==0) & (bs['May']==0), 'Status']='Inactive'"
   ]
  },
  {
   "cell_type": "code",
   "execution_count": 39,
   "metadata": {},
   "outputs": [
    {
     "data": {
      "text/html": [
       "<div>\n",
       "<style scoped>\n",
       "    .dataframe tbody tr th:only-of-type {\n",
       "        vertical-align: middle;\n",
       "    }\n",
       "\n",
       "    .dataframe tbody tr th {\n",
       "        vertical-align: top;\n",
       "    }\n",
       "\n",
       "    .dataframe thead th {\n",
       "        text-align: right;\n",
       "    }\n",
       "</style>\n",
       "<table border=\"1\" class=\"dataframe\">\n",
       "  <thead>\n",
       "    <tr style=\"text-align: right;\">\n",
       "      <th></th>\n",
       "      <th>User ID</th>\n",
       "      <th>Status</th>\n",
       "      <th>Sign up year</th>\n",
       "      <th>Location</th>\n",
       "      <th>April</th>\n",
       "      <th>May</th>\n",
       "    </tr>\n",
       "  </thead>\n",
       "  <tbody>\n",
       "    <tr>\n",
       "      <th>0</th>\n",
       "      <td>186104</td>\n",
       "      <td>Active</td>\n",
       "      <td>2017</td>\n",
       "      <td>CA</td>\n",
       "      <td>5466</td>\n",
       "      <td>0.0</td>\n",
       "    </tr>\n",
       "    <tr>\n",
       "      <th>1</th>\n",
       "      <td>182715</td>\n",
       "      <td>Active</td>\n",
       "      <td>2017</td>\n",
       "      <td>FL</td>\n",
       "      <td>720</td>\n",
       "      <td>69103.0</td>\n",
       "    </tr>\n",
       "    <tr>\n",
       "      <th>2</th>\n",
       "      <td>205200</td>\n",
       "      <td>Inactive</td>\n",
       "      <td>2018</td>\n",
       "      <td>NY</td>\n",
       "      <td>0</td>\n",
       "      <td>0.0</td>\n",
       "    </tr>\n",
       "    <tr>\n",
       "      <th>3</th>\n",
       "      <td>2829</td>\n",
       "      <td>Active</td>\n",
       "      <td>2018</td>\n",
       "      <td>FL</td>\n",
       "      <td>10507</td>\n",
       "      <td>2774.0</td>\n",
       "    </tr>\n",
       "    <tr>\n",
       "      <th>4</th>\n",
       "      <td>188669</td>\n",
       "      <td>Active</td>\n",
       "      <td>2018</td>\n",
       "      <td>PA</td>\n",
       "      <td>43711</td>\n",
       "      <td>124503.0</td>\n",
       "    </tr>\n",
       "  </tbody>\n",
       "</table>\n",
       "</div>"
      ],
      "text/plain": [
       "   User ID    Status  Sign up year Location  April       May\n",
       "0   186104    Active          2017       CA   5466       0.0\n",
       "1   182715    Active          2017       FL    720   69103.0\n",
       "2   205200  Inactive          2018       NY      0       0.0\n",
       "3     2829    Active          2018       FL  10507    2774.0\n",
       "4   188669    Active          2018       PA  43711  124503.0"
      ]
     },
     "execution_count": 39,
     "metadata": {},
     "output_type": "execute_result"
    }
   ],
   "source": [
    "bs.head()"
   ]
  },
  {
   "cell_type": "code",
   "execution_count": 41,
   "metadata": {},
   "outputs": [],
   "source": [
    "# bs.to_excel('buy_status_update.xlsx')"
   ]
  },
  {
   "cell_type": "code",
   "execution_count": 49,
   "metadata": {},
   "outputs": [],
   "source": [
    "sup_stat=pd.read_csv('sup_stat.csv')"
   ]
  },
  {
   "cell_type": "code",
   "execution_count": 50,
   "metadata": {},
   "outputs": [
    {
     "data": {
      "text/html": [
       "<div>\n",
       "<style scoped>\n",
       "    .dataframe tbody tr th:only-of-type {\n",
       "        vertical-align: middle;\n",
       "    }\n",
       "\n",
       "    .dataframe tbody tr th {\n",
       "        vertical-align: top;\n",
       "    }\n",
       "\n",
       "    .dataframe thead th {\n",
       "        text-align: right;\n",
       "    }\n",
       "</style>\n",
       "<table border=\"1\" class=\"dataframe\">\n",
       "  <thead>\n",
       "    <tr style=\"text-align: right;\">\n",
       "      <th></th>\n",
       "      <th>Seller ID</th>\n",
       "      <th>Status</th>\n",
       "      <th>Note</th>\n",
       "      <th>Location</th>\n",
       "      <th>April 2021 GMV</th>\n",
       "      <th>May 2021 GMV</th>\n",
       "      <th>Supplier</th>\n",
       "      <th>Apr_Listed</th>\n",
       "      <th>Apr_Sold</th>\n",
       "      <th>May_Listed</th>\n",
       "      <th>May_Sold</th>\n",
       "    </tr>\n",
       "  </thead>\n",
       "  <tbody>\n",
       "    <tr>\n",
       "      <th>0</th>\n",
       "      <td>204684</td>\n",
       "      <td>Active</td>\n",
       "      <td>NaN</td>\n",
       "      <td>Japan</td>\n",
       "      <td>$108,407.00</td>\n",
       "      <td>$109,265.00</td>\n",
       "      <td>eLady</td>\n",
       "      <td>1568.0</td>\n",
       "      <td>185.0</td>\n",
       "      <td>5214.0</td>\n",
       "      <td>67.0</td>\n",
       "    </tr>\n",
       "    <tr>\n",
       "      <th>1</th>\n",
       "      <td>202899</td>\n",
       "      <td>Active</td>\n",
       "      <td>NaN</td>\n",
       "      <td>Japan</td>\n",
       "      <td>$85,872.00</td>\n",
       "      <td>$91,999.00</td>\n",
       "      <td>BrandOff</td>\n",
       "      <td>1300.0</td>\n",
       "      <td>128.0</td>\n",
       "      <td>1696.0</td>\n",
       "      <td>88.0</td>\n",
       "    </tr>\n",
       "    <tr>\n",
       "      <th>2</th>\n",
       "      <td>213070</td>\n",
       "      <td>Active</td>\n",
       "      <td>NaN</td>\n",
       "      <td>NY</td>\n",
       "      <td>$27,265.00</td>\n",
       "      <td>$8,365.00</td>\n",
       "      <td>bagriculture</td>\n",
       "      <td>929.0</td>\n",
       "      <td>55.0</td>\n",
       "      <td>1352.0</td>\n",
       "      <td>10.0</td>\n",
       "    </tr>\n",
       "    <tr>\n",
       "      <th>3</th>\n",
       "      <td>198548</td>\n",
       "      <td>Active</td>\n",
       "      <td>NaN</td>\n",
       "      <td>Japan</td>\n",
       "      <td>$133,140.00</td>\n",
       "      <td>$121,387.00</td>\n",
       "      <td>Next Innovation</td>\n",
       "      <td>2629.0</td>\n",
       "      <td>337.0</td>\n",
       "      <td>2487.0</td>\n",
       "      <td>288.0</td>\n",
       "    </tr>\n",
       "    <tr>\n",
       "      <th>4</th>\n",
       "      <td>196448</td>\n",
       "      <td>Active</td>\n",
       "      <td>NaN</td>\n",
       "      <td>Japan</td>\n",
       "      <td>$507,464.00</td>\n",
       "      <td>$540,275.00</td>\n",
       "      <td>aucnet</td>\n",
       "      <td>65193.0</td>\n",
       "      <td>706.0</td>\n",
       "      <td>51861.0</td>\n",
       "      <td>260.0</td>\n",
       "    </tr>\n",
       "  </tbody>\n",
       "</table>\n",
       "</div>"
      ],
      "text/plain": [
       "  Seller ID  Status Note Location April 2021 GMV  May 2021 GMV  \\\n",
       "0    204684  Active  NaN    Japan   $108,407.00   $109,265.00    \n",
       "1    202899  Active  NaN    Japan    $85,872.00    $91,999.00    \n",
       "2    213070  Active  NaN       NY    $27,265.00     $8,365.00    \n",
       "3    198548  Active  NaN    Japan   $133,140.00   $121,387.00    \n",
       "4    196448  Active  NaN    Japan   $507,464.00   $540,275.00    \n",
       "\n",
       "          Supplier  Apr_Listed  Apr_Sold  May_Listed  May_Sold  \n",
       "0            eLady      1568.0     185.0      5214.0      67.0  \n",
       "1         BrandOff      1300.0     128.0      1696.0      88.0  \n",
       "2     bagriculture       929.0      55.0      1352.0      10.0  \n",
       "3  Next Innovation      2629.0     337.0      2487.0     288.0  \n",
       "4           aucnet     65193.0     706.0     51861.0     260.0  "
      ]
     },
     "execution_count": 50,
     "metadata": {},
     "output_type": "execute_result"
    }
   ],
   "source": [
    "sup_stat['Status']='Active'\n",
    "sup_stat.loc[(sup_stat['Apr_Listed']==0) & (sup_stat['May_Listed']==0), 'Status']='Inactive'\n",
    "sup_stat.head()"
   ]
  },
  {
   "cell_type": "code",
   "execution_count": 53,
   "metadata": {},
   "outputs": [],
   "source": [
    "# sup_stat.to_excel('sup_status_update.xlsx')"
   ]
  },
  {
   "cell_type": "code",
   "execution_count": null,
   "metadata": {},
   "outputs": [],
   "source": []
  }
 ],
 "metadata": {
  "kernelspec": {
   "display_name": "Python 3",
   "language": "python",
   "name": "python3"
  },
  "language_info": {
   "codemirror_mode": {
    "name": "ipython",
    "version": 3
   },
   "file_extension": ".py",
   "mimetype": "text/x-python",
   "name": "python",
   "nbconvert_exporter": "python",
   "pygments_lexer": "ipython3",
   "version": "3.7.6"
  }
 },
 "nbformat": 4,
 "nbformat_minor": 4
}
